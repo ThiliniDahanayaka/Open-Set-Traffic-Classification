{
  "nbformat": 4,
  "nbformat_minor": 0,
  "metadata": {
    "colab": {
      "provenance": [],
      "gpuType": "T4"
    },
    "kernelspec": {
      "name": "python3",
      "display_name": "Python 3"
    },
    "language_info": {
      "name": "python"
    },
    "accelerator": "GPU"
  },
  "cells": [
    {
      "cell_type": "code",
      "source": [
        "import shutil\n",
        "import os\n",
        "directory = \"/content/dataset\"\n",
        "if any(os.listdir(directory)):\n",
        "  print('dataset exists')\n",
        "else:\n",
        "  !unzip /content/SETA_dataset -d /content/"
      ],
      "metadata": {
        "colab": {
          "base_uri": "https://localhost:8080/"
        },
        "id": "voBotmvnVlm0",
        "outputId": "f42caa5e-7fe7-4e53-a142-6c25b41db155"
      },
      "execution_count": 1,
      "outputs": [
        {
          "output_type": "stream",
          "name": "stdout",
          "text": [
            "Archive:  /content/SETA_dataset.zip\n",
            "  inflating: /content/SETA_dataset/.DS_Store  \n",
            "  inflating: /content/SETA_dataset/video_X_test.pkl  \n",
            "  inflating: /content/SETA_dataset/video_X_train.pkl  \n",
            "  inflating: /content/SETA_dataset/video_X_valid.pkl  \n",
            "  inflating: /content/SETA_dataset/video_y_test.pkl  \n",
            "  inflating: /content/SETA_dataset/video_y_train.pkl  \n",
            "  inflating: /content/SETA_dataset/video_y_valid.pkl  \n",
            "  inflating: /content/SETA_dataset/ziping.py  \n"
          ]
        }
      ]
    },
    {
      "cell_type": "code",
      "execution_count": 1,
      "metadata": {
        "id": "PM1cPJ_soczA"
      },
      "outputs": [],
      "source": [
        "import os\n",
        "import pickle\n",
        "import numpy as np\n",
        "import matplotlib.pyplot as plt\n",
        "import itertools\n",
        "import tensorflow as tf\n",
        "import pandas as pd\n",
        "\n",
        "import tensorflow\n",
        "from tensorflow.keras import backend as K\n",
        "from utility import LoadDataIot\n",
        "from Model_cnn_best import DCNet   #DCNet_Dropouts\n",
        "import random\n",
        "from tensorflow.keras.utils import to_categorical\n",
        "from tensorflow.keras.optimizers import Adam\n",
        "from tensorflow.keras.callbacks import ModelCheckpoint, EarlyStopping, LearningRateScheduler\n",
        "from tensorflow.keras.optimizers import Adamax\n",
        "#import tensorflow_addons as tf\n",
        "\n",
        "from sklearn.utils import shuffle\n",
        "#from tensorflow_addons.optimizers import extend_with_decoupled_weight_decay\n",
        "from tensorflow.keras.models import Model\n",
        "from tensorflow.python.ops.numpy_ops import np_config\n",
        "from sklearn.metrics import accuracy_score\n",
        "np_config.enable_numpy_behavior()\n"
      ]
    },
    {
      "cell_type": "code",
      "source": [
        "!python dataset/Class_filter_SETA.py"
      ],
      "metadata": {
        "colab": {
          "base_uri": "https://localhost:8080/"
        },
        "id": "kmD_ZayDwZKk",
        "outputId": "c125e60b-9ad4-414e-ef07-2fbb659f3fe3"
      },
      "execution_count": 5,
      "outputs": [
        {
          "output_type": "stream",
          "name": "stdout",
          "text": [
            "2023-10-08 18:02:27.983716: W tensorflow/compiler/tf2tensorrt/utils/py_utils.cc:38] TF-TRT Warning: Could not find TensorRT\n",
            "{'closed': [0, 1, 2, 3, 4, 5, 6, 7], 'open': [8, 9, 10, 11, 12, 13, 14, 15, 16, 17, 18, 19]}\n",
            "Traceback (most recent call last):\n",
            "  File \"/content/dataset/Class_filter_SETA.py\", line 100, in <module>\n",
            "    X_train = pickle.load(f)\n",
            "_pickle.UnpicklingError: pickle data was truncated\n"
          ]
        }
      ]
    },
    {
      "cell_type": "code",
      "source": [
        "# Training the DF model\n",
        "NB_EPOCH = 450   # Number of training epoch\n",
        "print(\"Number of Epoch: \", NB_EPOCH)\n",
        "BATCH_SIZE = 64 # Batch size\n",
        "VERBOSE = 2 # Output display mode\n",
        "LENGTH = 500 # Packet sequence length\n",
        "OPTIMIZER = Adam(learning_rate=0.001, beta_1=0.9, beta_2=0.999, epsilon=1e-8) # Optimizer\n",
        "\n",
        "NB_CLASSES = 8 # number of outputs = number of classes\n",
        "INPUT_SHAPE = (LENGTH,1)\n",
        "\n",
        "random.seed(0)\n",
        "\n",
        "def representative_data_gen():\n",
        "  for input_value in tensorflow.data.Dataset.from_tensor_slices(X_train_Rep).batch(1).take(100):\n",
        "    # Model has only one input so each data point has one element.\n",
        "    yield [input_value]\n",
        "\n",
        "\n",
        "def Micro_F1(matrix):\n",
        "    epsilon = 1e-8\n",
        "    TP = 0\n",
        "    FP = 0\n",
        "    TN = 0\n",
        "\n",
        "    for k in range(NB_CLASSES):\n",
        "        TP += matrix[k][k]\n",
        "        FP += (np.sum(Matrix, axis=0)[k] - matrix[k][k])\n",
        "        TN += (np.sum(Matrix, axis=1)[k] - matrix[k][k])\n",
        "\n",
        "    Micro_Prec = TP / (TP + FP)\n",
        "    Micro_Rec = TP / (TP + TN)\n",
        "    print(\"Micro Precision: \", Micro_Prec)\n",
        "    print(\"Micro Recall: \", Micro_Rec)\n",
        "    Micro_F1 = 2 * Micro_Prec * Micro_Rec / (Micro_Rec + Micro_Prec + epsilon)\n",
        "\n",
        "    return Micro_F1\n",
        "\n",
        "\n",
        "def New_F1_Score(Matrix):\n",
        "    Column_sum = np.sum(Matrix, axis=0)\n",
        "    Raw_sum = np.sum(Matrix, axis=1)\n",
        "\n",
        "    Precision_Differences = []\n",
        "    Recall_Differences = []\n",
        "    for i in range(NB_CLASSES):\n",
        "        Precision_Differences.append(np.abs(2 * Matrix[i][i] - Column_sum[i]))\n",
        "        Recall_Differences.append(np.abs(2 * Matrix[i][i] - Raw_sum[i]))\n",
        "\n",
        "    Precision_Differences = np.array(Precision_Differences)\n",
        "    Precision_Differences_Per = Precision_Differences / np.sum(Precision_Differences)\n",
        "    Recall_Differences = np.array(Recall_Differences)\n",
        "    Recall_Differences_Per = Recall_Differences / np.sum(Recall_Differences)\n",
        "\n",
        "    # print('Precision_Differences_Per',Precision_Differences_Per)\n",
        "    # print('Recall_Differences_Per',Recall_Differences_Per)\n",
        "\n",
        "    Precisions = np.zeros(NB_CLASSES)\n",
        "    Recalls = np.zeros(NB_CLASSES)\n",
        "\n",
        "    epsilon = 1e-8\n",
        "\n",
        "    for k in range(len(Precisions)):\n",
        "        Precisions[k] = (Matrix[k][k] / np.sum(Matrix, axis=0)[k])\n",
        "    Precision = np.sum(np.array(Precisions) * Precision_Differences_Per)\n",
        "\n",
        "    for k in range(len(Recalls)):\n",
        "        Recalls[k] = (Matrix[k][k] / np.sum(Matrix, axis=1)[k])  # *Recall_Differences_Per[k]\n",
        "    Recall = np.sum(np.array(Recalls) * Recall_Differences_Per)\n",
        "\n",
        "    print('Precision: ', Precision)\n",
        "    print('Recall: ', Recall)\n",
        "\n",
        "    F1_Score = 2 * Precision * Recall / (Precision + Recall + epsilon)\n",
        "    return F1_Score\n",
        "\n",
        "\n",
        "def Macro_F1(Matrix):\n",
        "    Precisions = np.zeros(NB_CLASSES)\n",
        "    Recalls = np.zeros(NB_CLASSES)\n",
        "\n",
        "    epsilon = 1e-8\n",
        "\n",
        "    for k in range(len(Precisions)):\n",
        "        Precisions[k] = Matrix[k][k] / np.sum(Matrix, axis=0)[k]\n",
        "    # print(Precisions)\n",
        "\n",
        "    Precision = np.average(Precisions)\n",
        "    print(\"Precision:\", Precision)\n",
        "\n",
        "    for k in range(len(Recalls)):\n",
        "        Recalls[k] = Matrix[k][k] / np.sum(Matrix, axis=1)[k]\n",
        "\n",
        "    Recall = np.average(Recalls)\n",
        "    print(\"Recall:\", Recall)\n",
        "\n",
        "    F1_Score = 2 * Precision * Recall / (Precision + Recall + epsilon)\n",
        "    return F1_Score\n",
        "\n",
        "# Data: shuffled and split between train and test sets\n",
        "print (\"Loading and preparing data for training, and evaluating the model\")\n",
        "X_train, y_train, X_test, y_test, X_valid, y_valid  = LoadDataIot()\n",
        "\n",
        "# Convert data as float32 type\n",
        "X_train = X_train.astype('float32')\n",
        "X_valid = X_valid.astype('float32')\n",
        "X_test = X_test.astype('float32')\n",
        "y_train = y_train.astype('float32')\n",
        "y_valid = y_valid.astype('float32')\n",
        "y_test = y_test.astype('float32')\n",
        "# we need a [Length x 1] x n shape as input to the DF CNN (Tensorflow)\n",
        "X_train = X_train[:, :,np.newaxis]\n",
        "X_valid = X_valid[:, :,np.newaxis]\n",
        "X_test = X_test[:, :,np.newaxis]\n",
        "\n",
        "\n",
        "y_train = to_categorical(y_train, NB_CLASSES)\n",
        "y_valid = to_categorical(y_valid, NB_CLASSES)\n",
        "y_test = to_categorical(y_test, NB_CLASSES)\\\n",
        "\n",
        "# Building and training model\n",
        "print(\"Building and training DF model\")\n",
        "\n",
        "model = DCNet.build(input_shape=INPUT_SHAPE, nb_classes=NB_CLASSES)\n",
        "\n",
        "model.compile(loss=\"categorical_crossentropy\", optimizer=OPTIMIZER,\n",
        "    metrics=[\"accuracy\"])\n",
        "\n",
        "filepath = '/content/training_history/SETA.hdf5'\n",
        "\n",
        "checkpoint = ModelCheckpoint(filepath, monitor='val_acc', verbose=1, save_best_only=True, mode='max')\n",
        "callbacks_list = [checkpoint]\n",
        "\n",
        "# callbacks_list.append(EarlyStopping(monitor='val_acc', mode='max', patience=6))\n",
        "\n",
        "model.summary()\n",
        "\n",
        "history = model.fit(X_train, y_train,batch_size=BATCH_SIZE, epochs=NB_EPOCH,verbose=VERBOSE, validation_data=(X_valid, y_valid), callbacks=callbacks_list)\n",
        "\n",
        "with open('/content/training_history/His_Dict_without_Nom', 'wb') as file_pi:\n",
        "        pickle.dump(history.history, file_pi)\n",
        "\n",
        "\n",
        "print(\"############## Training is Done Successfully ###################\")\n",
        "#model.save('DC_normal_model.hdf5')\n",
        "#model=load_model('AWF.hdf5')\n",
        "\n",
        "# Start evaluating model with testing data\n",
        "score_test = model.evaluate(X_test, y_test, verbose=VERBOSE)\n",
        "print(\"Testing closed accuracy_without_norm:\", score_test[1])\n",
        "\n",
        "model_penultimate = Model(model.input, model.layers[-2].output)\n",
        "model_penultimate.save('/content/trained_models/SETA_without_softmax.hdf5')\n",
        "\n",
        "del model\n"
      ],
      "metadata": {
        "colab": {
          "base_uri": "https://localhost:8080/"
        },
        "id": "pHtdjBU9qAnu",
        "outputId": "f8598a15-ca50-4285-f598-e6a3eea05b87"
      },
      "execution_count": 8,
      "outputs": [
        {
          "output_type": "stream",
          "name": "stdout",
          "text": [
            "Number of Epoch:  450\n",
            "Loading and preparing data for training, and evaluating the model\n",
            "Data dimensions:\n",
            "X: Training data's shape :  (554, 500)\n",
            "y: Training data's shape :  (554,)\n",
            "X: Validation data's shape :  (142, 500)\n",
            "y: Validation data's shape :  (142,)\n",
            "X: Testing data's shape :  (96, 500)\n",
            "y: Testing data's shape :  (96,)\n",
            "Building and training DF model\n",
            "Model: \"sequential_2\"\n",
            "_________________________________________________________________\n",
            " Layer (type)                Output Shape              Param #   \n",
            "=================================================================\n",
            " conv1 (Conv1D)              (None, 485, 32)           544       \n",
            "                                                                 \n",
            " conv2 (Conv1D)              (None, 470, 32)           16416     \n",
            "                                                                 \n",
            " cov1_dropout (Dropout)      (None, 470, 32)           0         \n",
            "                                                                 \n",
            " conv3 (Conv1D)              (None, 455, 32)           16416     \n",
            "                                                                 \n",
            " conv3_dropout (Dropout)     (None, 455, 32)           0         \n",
            "                                                                 \n",
            " max_pool (MaxPooling1D)     (None, 112, 32)           0         \n",
            "                                                                 \n",
            " max_pool_act (Activation)   (None, 112, 32)           0         \n",
            "                                                                 \n",
            " max_pool_dropout (Dropout)  (None, 112, 32)           0         \n",
            "                                                                 \n",
            " flatten (Flatten)           (None, 3584)              0         \n",
            "                                                                 \n",
            " fc1 (Dense)                 (None, 64)                229440    \n",
            "                                                                 \n",
            " fc1_dropout (Dropout)       (None, 64)                0         \n",
            "                                                                 \n",
            " fc_before_softmax (Dense)   (None, 8)                 520       \n",
            "                                                                 \n",
            " softmax (Activation)        (None, 8)                 0         \n",
            "                                                                 \n",
            "=================================================================\n",
            "Total params: 263336 (1.00 MB)\n",
            "Trainable params: 263336 (1.00 MB)\n",
            "Non-trainable params: 0 (0.00 Byte)\n",
            "_________________________________________________________________\n",
            "Epoch 1/450\n"
          ]
        },
        {
          "output_type": "stream",
          "name": "stderr",
          "text": [
            "WARNING:tensorflow:Can save best model only with val_acc available, skipping.\n"
          ]
        },
        {
          "output_type": "stream",
          "name": "stdout",
          "text": [
            "9/9 - 13s - loss: 2.4453 - accuracy: 0.1625 - val_loss: 1.9253 - val_accuracy: 0.2188 - 13s/epoch - 1s/step\n",
            "Epoch 2/450\n"
          ]
        },
        {
          "output_type": "stream",
          "name": "stderr",
          "text": [
            "WARNING:tensorflow:Can save best model only with val_acc available, skipping.\n"
          ]
        },
        {
          "output_type": "stream",
          "name": "stdout",
          "text": [
            "9/9 - 0s - loss: 1.9274 - accuracy: 0.2166 - val_loss: 1.8993 - val_accuracy: 0.3646 - 86ms/epoch - 10ms/step\n",
            "Epoch 3/450\n"
          ]
        },
        {
          "output_type": "stream",
          "name": "stderr",
          "text": [
            "WARNING:tensorflow:Can save best model only with val_acc available, skipping.\n"
          ]
        },
        {
          "output_type": "stream",
          "name": "stdout",
          "text": [
            "9/9 - 0s - loss: 1.8958 - accuracy: 0.2635 - val_loss: 1.8888 - val_accuracy: 0.4062 - 93ms/epoch - 10ms/step\n",
            "Epoch 4/450\n"
          ]
        },
        {
          "output_type": "stream",
          "name": "stderr",
          "text": [
            "WARNING:tensorflow:Can save best model only with val_acc available, skipping.\n"
          ]
        },
        {
          "output_type": "stream",
          "name": "stdout",
          "text": [
            "9/9 - 0s - loss: 1.8992 - accuracy: 0.2599 - val_loss: 1.8247 - val_accuracy: 0.3542 - 81ms/epoch - 9ms/step\n",
            "Epoch 5/450\n"
          ]
        },
        {
          "output_type": "stream",
          "name": "stderr",
          "text": [
            "WARNING:tensorflow:Can save best model only with val_acc available, skipping.\n"
          ]
        },
        {
          "output_type": "stream",
          "name": "stdout",
          "text": [
            "9/9 - 0s - loss: 1.8050 - accuracy: 0.2834 - val_loss: 1.7785 - val_accuracy: 0.6042 - 91ms/epoch - 10ms/step\n",
            "Epoch 6/450\n"
          ]
        },
        {
          "output_type": "stream",
          "name": "stderr",
          "text": [
            "WARNING:tensorflow:Can save best model only with val_acc available, skipping.\n"
          ]
        },
        {
          "output_type": "stream",
          "name": "stdout",
          "text": [
            "9/9 - 0s - loss: 1.7414 - accuracy: 0.3466 - val_loss: 1.6753 - val_accuracy: 0.6250 - 83ms/epoch - 9ms/step\n",
            "Epoch 7/450\n"
          ]
        },
        {
          "output_type": "stream",
          "name": "stderr",
          "text": [
            "WARNING:tensorflow:Can save best model only with val_acc available, skipping.\n"
          ]
        },
        {
          "output_type": "stream",
          "name": "stdout",
          "text": [
            "9/9 - 0s - loss: 1.5942 - accuracy: 0.3881 - val_loss: 1.5402 - val_accuracy: 0.6979 - 83ms/epoch - 9ms/step\n",
            "Epoch 8/450\n"
          ]
        },
        {
          "output_type": "stream",
          "name": "stderr",
          "text": [
            "WARNING:tensorflow:Can save best model only with val_acc available, skipping.\n"
          ]
        },
        {
          "output_type": "stream",
          "name": "stdout",
          "text": [
            "9/9 - 0s - loss: 1.5620 - accuracy: 0.4332 - val_loss: 1.4704 - val_accuracy: 0.7708 - 79ms/epoch - 9ms/step\n",
            "Epoch 9/450\n"
          ]
        },
        {
          "output_type": "stream",
          "name": "stderr",
          "text": [
            "WARNING:tensorflow:Can save best model only with val_acc available, skipping.\n"
          ]
        },
        {
          "output_type": "stream",
          "name": "stdout",
          "text": [
            "9/9 - 0s - loss: 1.4367 - accuracy: 0.4892 - val_loss: 1.3875 - val_accuracy: 0.7917 - 81ms/epoch - 9ms/step\n",
            "Epoch 10/450\n"
          ]
        },
        {
          "output_type": "stream",
          "name": "stderr",
          "text": [
            "WARNING:tensorflow:Can save best model only with val_acc available, skipping.\n"
          ]
        },
        {
          "output_type": "stream",
          "name": "stdout",
          "text": [
            "9/9 - 0s - loss: 1.3349 - accuracy: 0.5108 - val_loss: 1.2763 - val_accuracy: 0.7917 - 91ms/epoch - 10ms/step\n",
            "Epoch 11/450\n"
          ]
        },
        {
          "output_type": "stream",
          "name": "stderr",
          "text": [
            "WARNING:tensorflow:Can save best model only with val_acc available, skipping.\n"
          ]
        },
        {
          "output_type": "stream",
          "name": "stdout",
          "text": [
            "9/9 - 0s - loss: 1.2800 - accuracy: 0.5199 - val_loss: 1.2912 - val_accuracy: 0.8125 - 94ms/epoch - 10ms/step\n",
            "Epoch 12/450\n"
          ]
        },
        {
          "output_type": "stream",
          "name": "stderr",
          "text": [
            "WARNING:tensorflow:Can save best model only with val_acc available, skipping.\n"
          ]
        },
        {
          "output_type": "stream",
          "name": "stdout",
          "text": [
            "9/9 - 0s - loss: 1.1689 - accuracy: 0.6137 - val_loss: 1.2290 - val_accuracy: 0.8646 - 84ms/epoch - 9ms/step\n",
            "Epoch 13/450\n"
          ]
        },
        {
          "output_type": "stream",
          "name": "stderr",
          "text": [
            "WARNING:tensorflow:Can save best model only with val_acc available, skipping.\n"
          ]
        },
        {
          "output_type": "stream",
          "name": "stdout",
          "text": [
            "9/9 - 0s - loss: 1.1229 - accuracy: 0.6173 - val_loss: 1.0877 - val_accuracy: 0.8854 - 83ms/epoch - 9ms/step\n",
            "Epoch 14/450\n"
          ]
        },
        {
          "output_type": "stream",
          "name": "stderr",
          "text": [
            "WARNING:tensorflow:Can save best model only with val_acc available, skipping.\n"
          ]
        },
        {
          "output_type": "stream",
          "name": "stdout",
          "text": [
            "9/9 - 0s - loss: 1.1387 - accuracy: 0.6155 - val_loss: 1.0421 - val_accuracy: 0.8854 - 98ms/epoch - 11ms/step\n",
            "Epoch 15/450\n"
          ]
        },
        {
          "output_type": "stream",
          "name": "stderr",
          "text": [
            "WARNING:tensorflow:Can save best model only with val_acc available, skipping.\n"
          ]
        },
        {
          "output_type": "stream",
          "name": "stdout",
          "text": [
            "9/9 - 0s - loss: 0.9413 - accuracy: 0.6643 - val_loss: 0.9769 - val_accuracy: 0.9062 - 93ms/epoch - 10ms/step\n",
            "Epoch 16/450\n"
          ]
        },
        {
          "output_type": "stream",
          "name": "stderr",
          "text": [
            "WARNING:tensorflow:Can save best model only with val_acc available, skipping.\n"
          ]
        },
        {
          "output_type": "stream",
          "name": "stdout",
          "text": [
            "9/9 - 0s - loss: 0.9681 - accuracy: 0.6913 - val_loss: 0.9028 - val_accuracy: 0.9062 - 94ms/epoch - 10ms/step\n",
            "Epoch 17/450\n"
          ]
        },
        {
          "output_type": "stream",
          "name": "stderr",
          "text": [
            "WARNING:tensorflow:Can save best model only with val_acc available, skipping.\n"
          ]
        },
        {
          "output_type": "stream",
          "name": "stdout",
          "text": [
            "9/9 - 0s - loss: 0.9410 - accuracy: 0.6986 - val_loss: 0.9818 - val_accuracy: 0.9167 - 83ms/epoch - 9ms/step\n",
            "Epoch 18/450\n"
          ]
        },
        {
          "output_type": "stream",
          "name": "stderr",
          "text": [
            "WARNING:tensorflow:Can save best model only with val_acc available, skipping.\n"
          ]
        },
        {
          "output_type": "stream",
          "name": "stdout",
          "text": [
            "9/9 - 0s - loss: 0.9267 - accuracy: 0.7347 - val_loss: 0.9521 - val_accuracy: 0.9167 - 91ms/epoch - 10ms/step\n",
            "Epoch 19/450\n"
          ]
        },
        {
          "output_type": "stream",
          "name": "stderr",
          "text": [
            "WARNING:tensorflow:Can save best model only with val_acc available, skipping.\n"
          ]
        },
        {
          "output_type": "stream",
          "name": "stdout",
          "text": [
            "9/9 - 0s - loss: 0.8151 - accuracy: 0.7365 - val_loss: 1.0341 - val_accuracy: 0.9271 - 93ms/epoch - 10ms/step\n",
            "Epoch 20/450\n"
          ]
        },
        {
          "output_type": "stream",
          "name": "stderr",
          "text": [
            "WARNING:tensorflow:Can save best model only with val_acc available, skipping.\n"
          ]
        },
        {
          "output_type": "stream",
          "name": "stdout",
          "text": [
            "9/9 - 0s - loss: 0.7968 - accuracy: 0.7292 - val_loss: 1.0444 - val_accuracy: 0.9375 - 84ms/epoch - 9ms/step\n",
            "Epoch 21/450\n"
          ]
        },
        {
          "output_type": "stream",
          "name": "stderr",
          "text": [
            "WARNING:tensorflow:Can save best model only with val_acc available, skipping.\n"
          ]
        },
        {
          "output_type": "stream",
          "name": "stdout",
          "text": [
            "9/9 - 0s - loss: 0.7830 - accuracy: 0.7437 - val_loss: 1.0491 - val_accuracy: 0.9167 - 81ms/epoch - 9ms/step\n",
            "Epoch 22/450\n"
          ]
        },
        {
          "output_type": "stream",
          "name": "stderr",
          "text": [
            "WARNING:tensorflow:Can save best model only with val_acc available, skipping.\n"
          ]
        },
        {
          "output_type": "stream",
          "name": "stdout",
          "text": [
            "9/9 - 0s - loss: 0.6988 - accuracy: 0.7563 - val_loss: 1.0372 - val_accuracy: 0.9479 - 80ms/epoch - 9ms/step\n",
            "Epoch 23/450\n"
          ]
        },
        {
          "output_type": "stream",
          "name": "stderr",
          "text": [
            "WARNING:tensorflow:Can save best model only with val_acc available, skipping.\n"
          ]
        },
        {
          "output_type": "stream",
          "name": "stdout",
          "text": [
            "9/9 - 0s - loss: 0.6714 - accuracy: 0.7708 - val_loss: 1.0474 - val_accuracy: 0.9479 - 79ms/epoch - 9ms/step\n",
            "Epoch 24/450\n"
          ]
        },
        {
          "output_type": "stream",
          "name": "stderr",
          "text": [
            "WARNING:tensorflow:Can save best model only with val_acc available, skipping.\n"
          ]
        },
        {
          "output_type": "stream",
          "name": "stdout",
          "text": [
            "9/9 - 0s - loss: 0.5910 - accuracy: 0.7690 - val_loss: 1.0421 - val_accuracy: 0.9688 - 85ms/epoch - 9ms/step\n",
            "Epoch 25/450\n"
          ]
        },
        {
          "output_type": "stream",
          "name": "stderr",
          "text": [
            "WARNING:tensorflow:Can save best model only with val_acc available, skipping.\n"
          ]
        },
        {
          "output_type": "stream",
          "name": "stdout",
          "text": [
            "9/9 - 0s - loss: 0.5985 - accuracy: 0.7870 - val_loss: 1.0467 - val_accuracy: 0.9375 - 96ms/epoch - 11ms/step\n",
            "Epoch 26/450\n"
          ]
        },
        {
          "output_type": "stream",
          "name": "stderr",
          "text": [
            "WARNING:tensorflow:Can save best model only with val_acc available, skipping.\n"
          ]
        },
        {
          "output_type": "stream",
          "name": "stdout",
          "text": [
            "9/9 - 0s - loss: 0.6301 - accuracy: 0.7653 - val_loss: 1.0138 - val_accuracy: 0.9583 - 101ms/epoch - 11ms/step\n",
            "Epoch 27/450\n"
          ]
        },
        {
          "output_type": "stream",
          "name": "stderr",
          "text": [
            "WARNING:tensorflow:Can save best model only with val_acc available, skipping.\n"
          ]
        },
        {
          "output_type": "stream",
          "name": "stdout",
          "text": [
            "9/9 - 0s - loss: 0.5644 - accuracy: 0.8014 - val_loss: 1.0174 - val_accuracy: 0.9792 - 80ms/epoch - 9ms/step\n",
            "Epoch 28/450\n"
          ]
        },
        {
          "output_type": "stream",
          "name": "stderr",
          "text": [
            "WARNING:tensorflow:Can save best model only with val_acc available, skipping.\n"
          ]
        },
        {
          "output_type": "stream",
          "name": "stdout",
          "text": [
            "9/9 - 0s - loss: 0.5638 - accuracy: 0.8213 - val_loss: 0.9861 - val_accuracy: 0.9688 - 95ms/epoch - 11ms/step\n",
            "Epoch 29/450\n"
          ]
        },
        {
          "output_type": "stream",
          "name": "stderr",
          "text": [
            "WARNING:tensorflow:Can save best model only with val_acc available, skipping.\n"
          ]
        },
        {
          "output_type": "stream",
          "name": "stdout",
          "text": [
            "9/9 - 0s - loss: 0.5457 - accuracy: 0.7942 - val_loss: 0.9733 - val_accuracy: 0.9792 - 78ms/epoch - 9ms/step\n",
            "Epoch 30/450\n"
          ]
        },
        {
          "output_type": "stream",
          "name": "stderr",
          "text": [
            "WARNING:tensorflow:Can save best model only with val_acc available, skipping.\n"
          ]
        },
        {
          "output_type": "stream",
          "name": "stdout",
          "text": [
            "9/9 - 0s - loss: 0.4792 - accuracy: 0.8430 - val_loss: 0.9796 - val_accuracy: 0.9792 - 97ms/epoch - 11ms/step\n",
            "Epoch 31/450\n"
          ]
        },
        {
          "output_type": "stream",
          "name": "stderr",
          "text": [
            "WARNING:tensorflow:Can save best model only with val_acc available, skipping.\n"
          ]
        },
        {
          "output_type": "stream",
          "name": "stdout",
          "text": [
            "9/9 - 0s - loss: 0.4922 - accuracy: 0.8375 - val_loss: 0.9982 - val_accuracy: 0.9792 - 97ms/epoch - 11ms/step\n",
            "Epoch 32/450\n"
          ]
        },
        {
          "output_type": "stream",
          "name": "stderr",
          "text": [
            "WARNING:tensorflow:Can save best model only with val_acc available, skipping.\n"
          ]
        },
        {
          "output_type": "stream",
          "name": "stdout",
          "text": [
            "9/9 - 0s - loss: 0.4549 - accuracy: 0.8339 - val_loss: 1.0269 - val_accuracy: 0.9688 - 81ms/epoch - 9ms/step\n",
            "Epoch 33/450\n"
          ]
        },
        {
          "output_type": "stream",
          "name": "stderr",
          "text": [
            "WARNING:tensorflow:Can save best model only with val_acc available, skipping.\n"
          ]
        },
        {
          "output_type": "stream",
          "name": "stdout",
          "text": [
            "9/9 - 0s - loss: 0.5088 - accuracy: 0.8375 - val_loss: 0.9993 - val_accuracy: 0.9792 - 85ms/epoch - 9ms/step\n",
            "Epoch 34/450\n"
          ]
        },
        {
          "output_type": "stream",
          "name": "stderr",
          "text": [
            "WARNING:tensorflow:Can save best model only with val_acc available, skipping.\n"
          ]
        },
        {
          "output_type": "stream",
          "name": "stdout",
          "text": [
            "9/9 - 0s - loss: 0.4996 - accuracy: 0.8412 - val_loss: 1.0434 - val_accuracy: 0.9792 - 120ms/epoch - 13ms/step\n",
            "Epoch 35/450\n"
          ]
        },
        {
          "output_type": "stream",
          "name": "stderr",
          "text": [
            "WARNING:tensorflow:Can save best model only with val_acc available, skipping.\n"
          ]
        },
        {
          "output_type": "stream",
          "name": "stdout",
          "text": [
            "9/9 - 0s - loss: 0.4151 - accuracy: 0.8484 - val_loss: 0.9861 - val_accuracy: 0.9792 - 113ms/epoch - 13ms/step\n",
            "Epoch 36/450\n"
          ]
        },
        {
          "output_type": "stream",
          "name": "stderr",
          "text": [
            "WARNING:tensorflow:Can save best model only with val_acc available, skipping.\n"
          ]
        },
        {
          "output_type": "stream",
          "name": "stdout",
          "text": [
            "9/9 - 0s - loss: 0.5634 - accuracy: 0.8430 - val_loss: 1.0649 - val_accuracy: 0.9688 - 167ms/epoch - 19ms/step\n",
            "Epoch 37/450\n"
          ]
        },
        {
          "output_type": "stream",
          "name": "stderr",
          "text": [
            "WARNING:tensorflow:Can save best model only with val_acc available, skipping.\n"
          ]
        },
        {
          "output_type": "stream",
          "name": "stdout",
          "text": [
            "9/9 - 0s - loss: 0.4287 - accuracy: 0.8574 - val_loss: 1.1249 - val_accuracy: 0.9792 - 122ms/epoch - 14ms/step\n",
            "Epoch 38/450\n"
          ]
        },
        {
          "output_type": "stream",
          "name": "stderr",
          "text": [
            "WARNING:tensorflow:Can save best model only with val_acc available, skipping.\n"
          ]
        },
        {
          "output_type": "stream",
          "name": "stdout",
          "text": [
            "9/9 - 0s - loss: 0.4533 - accuracy: 0.8755 - val_loss: 1.1695 - val_accuracy: 0.9792 - 104ms/epoch - 12ms/step\n",
            "Epoch 39/450\n"
          ]
        },
        {
          "output_type": "stream",
          "name": "stderr",
          "text": [
            "WARNING:tensorflow:Can save best model only with val_acc available, skipping.\n"
          ]
        },
        {
          "output_type": "stream",
          "name": "stdout",
          "text": [
            "9/9 - 0s - loss: 0.4700 - accuracy: 0.8736 - val_loss: 1.1139 - val_accuracy: 0.9792 - 108ms/epoch - 12ms/step\n",
            "Epoch 40/450\n"
          ]
        },
        {
          "output_type": "stream",
          "name": "stderr",
          "text": [
            "WARNING:tensorflow:Can save best model only with val_acc available, skipping.\n"
          ]
        },
        {
          "output_type": "stream",
          "name": "stdout",
          "text": [
            "9/9 - 0s - loss: 0.4334 - accuracy: 0.8881 - val_loss: 1.0732 - val_accuracy: 0.9896 - 107ms/epoch - 12ms/step\n",
            "Epoch 41/450\n"
          ]
        },
        {
          "output_type": "stream",
          "name": "stderr",
          "text": [
            "WARNING:tensorflow:Can save best model only with val_acc available, skipping.\n"
          ]
        },
        {
          "output_type": "stream",
          "name": "stdout",
          "text": [
            "9/9 - 0s - loss: 0.4136 - accuracy: 0.8718 - val_loss: 1.0734 - val_accuracy: 0.9792 - 106ms/epoch - 12ms/step\n",
            "Epoch 42/450\n"
          ]
        },
        {
          "output_type": "stream",
          "name": "stderr",
          "text": [
            "WARNING:tensorflow:Can save best model only with val_acc available, skipping.\n"
          ]
        },
        {
          "output_type": "stream",
          "name": "stdout",
          "text": [
            "9/9 - 0s - loss: 0.3050 - accuracy: 0.8935 - val_loss: 1.1172 - val_accuracy: 0.9792 - 113ms/epoch - 13ms/step\n",
            "Epoch 43/450\n"
          ]
        },
        {
          "output_type": "stream",
          "name": "stderr",
          "text": [
            "WARNING:tensorflow:Can save best model only with val_acc available, skipping.\n"
          ]
        },
        {
          "output_type": "stream",
          "name": "stdout",
          "text": [
            "9/9 - 0s - loss: 0.3442 - accuracy: 0.8791 - val_loss: 1.1128 - val_accuracy: 0.9792 - 112ms/epoch - 12ms/step\n",
            "Epoch 44/450\n"
          ]
        },
        {
          "output_type": "stream",
          "name": "stderr",
          "text": [
            "WARNING:tensorflow:Can save best model only with val_acc available, skipping.\n"
          ]
        },
        {
          "output_type": "stream",
          "name": "stdout",
          "text": [
            "9/9 - 0s - loss: 0.3984 - accuracy: 0.8881 - val_loss: 1.0916 - val_accuracy: 0.9792 - 113ms/epoch - 13ms/step\n",
            "Epoch 45/450\n"
          ]
        },
        {
          "output_type": "stream",
          "name": "stderr",
          "text": [
            "WARNING:tensorflow:Can save best model only with val_acc available, skipping.\n"
          ]
        },
        {
          "output_type": "stream",
          "name": "stdout",
          "text": [
            "9/9 - 0s - loss: 0.2904 - accuracy: 0.8917 - val_loss: 1.0788 - val_accuracy: 0.9896 - 102ms/epoch - 11ms/step\n",
            "Epoch 46/450\n"
          ]
        },
        {
          "output_type": "stream",
          "name": "stderr",
          "text": [
            "WARNING:tensorflow:Can save best model only with val_acc available, skipping.\n"
          ]
        },
        {
          "output_type": "stream",
          "name": "stdout",
          "text": [
            "9/9 - 0s - loss: 0.3097 - accuracy: 0.8953 - val_loss: 1.0975 - val_accuracy: 0.9896 - 103ms/epoch - 11ms/step\n",
            "Epoch 47/450\n"
          ]
        },
        {
          "output_type": "stream",
          "name": "stderr",
          "text": [
            "WARNING:tensorflow:Can save best model only with val_acc available, skipping.\n"
          ]
        },
        {
          "output_type": "stream",
          "name": "stdout",
          "text": [
            "9/9 - 0s - loss: 0.3041 - accuracy: 0.8989 - val_loss: 1.1162 - val_accuracy: 0.9896 - 99ms/epoch - 11ms/step\n",
            "Epoch 48/450\n"
          ]
        },
        {
          "output_type": "stream",
          "name": "stderr",
          "text": [
            "WARNING:tensorflow:Can save best model only with val_acc available, skipping.\n"
          ]
        },
        {
          "output_type": "stream",
          "name": "stdout",
          "text": [
            "9/9 - 0s - loss: 0.3279 - accuracy: 0.9170 - val_loss: 1.0627 - val_accuracy: 0.9896 - 102ms/epoch - 11ms/step\n",
            "Epoch 49/450\n"
          ]
        },
        {
          "output_type": "stream",
          "name": "stderr",
          "text": [
            "WARNING:tensorflow:Can save best model only with val_acc available, skipping.\n"
          ]
        },
        {
          "output_type": "stream",
          "name": "stdout",
          "text": [
            "9/9 - 0s - loss: 0.3013 - accuracy: 0.8809 - val_loss: 1.0425 - val_accuracy: 0.9792 - 125ms/epoch - 14ms/step\n",
            "Epoch 50/450\n"
          ]
        },
        {
          "output_type": "stream",
          "name": "stderr",
          "text": [
            "WARNING:tensorflow:Can save best model only with val_acc available, skipping.\n"
          ]
        },
        {
          "output_type": "stream",
          "name": "stdout",
          "text": [
            "9/9 - 0s - loss: 0.2926 - accuracy: 0.9007 - val_loss: 1.0946 - val_accuracy: 0.9896 - 128ms/epoch - 14ms/step\n",
            "Epoch 51/450\n"
          ]
        },
        {
          "output_type": "stream",
          "name": "stderr",
          "text": [
            "WARNING:tensorflow:Can save best model only with val_acc available, skipping.\n"
          ]
        },
        {
          "output_type": "stream",
          "name": "stdout",
          "text": [
            "9/9 - 0s - loss: 0.2745 - accuracy: 0.9007 - val_loss: 1.0771 - val_accuracy: 0.9792 - 124ms/epoch - 14ms/step\n",
            "Epoch 52/450\n"
          ]
        },
        {
          "output_type": "stream",
          "name": "stderr",
          "text": [
            "WARNING:tensorflow:Can save best model only with val_acc available, skipping.\n"
          ]
        },
        {
          "output_type": "stream",
          "name": "stdout",
          "text": [
            "9/9 - 0s - loss: 0.3223 - accuracy: 0.9097 - val_loss: 1.0654 - val_accuracy: 0.9896 - 102ms/epoch - 11ms/step\n",
            "Epoch 53/450\n"
          ]
        },
        {
          "output_type": "stream",
          "name": "stderr",
          "text": [
            "WARNING:tensorflow:Can save best model only with val_acc available, skipping.\n"
          ]
        },
        {
          "output_type": "stream",
          "name": "stdout",
          "text": [
            "9/9 - 0s - loss: 0.2628 - accuracy: 0.9278 - val_loss: 1.0771 - val_accuracy: 0.9792 - 106ms/epoch - 12ms/step\n",
            "Epoch 54/450\n"
          ]
        },
        {
          "output_type": "stream",
          "name": "stderr",
          "text": [
            "WARNING:tensorflow:Can save best model only with val_acc available, skipping.\n"
          ]
        },
        {
          "output_type": "stream",
          "name": "stdout",
          "text": [
            "9/9 - 0s - loss: 0.2483 - accuracy: 0.9116 - val_loss: 1.0810 - val_accuracy: 0.9792 - 101ms/epoch - 11ms/step\n",
            "Epoch 55/450\n"
          ]
        },
        {
          "output_type": "stream",
          "name": "stderr",
          "text": [
            "WARNING:tensorflow:Can save best model only with val_acc available, skipping.\n"
          ]
        },
        {
          "output_type": "stream",
          "name": "stdout",
          "text": [
            "9/9 - 0s - loss: 0.2334 - accuracy: 0.9260 - val_loss: 1.1271 - val_accuracy: 0.9792 - 98ms/epoch - 11ms/step\n",
            "Epoch 56/450\n"
          ]
        },
        {
          "output_type": "stream",
          "name": "stderr",
          "text": [
            "WARNING:tensorflow:Can save best model only with val_acc available, skipping.\n"
          ]
        },
        {
          "output_type": "stream",
          "name": "stdout",
          "text": [
            "9/9 - 0s - loss: 0.2531 - accuracy: 0.9152 - val_loss: 1.1565 - val_accuracy: 0.9792 - 97ms/epoch - 11ms/step\n",
            "Epoch 57/450\n"
          ]
        },
        {
          "output_type": "stream",
          "name": "stderr",
          "text": [
            "WARNING:tensorflow:Can save best model only with val_acc available, skipping.\n"
          ]
        },
        {
          "output_type": "stream",
          "name": "stdout",
          "text": [
            "9/9 - 0s - loss: 0.2666 - accuracy: 0.9224 - val_loss: 1.1698 - val_accuracy: 0.9896 - 86ms/epoch - 10ms/step\n",
            "Epoch 58/450\n"
          ]
        },
        {
          "output_type": "stream",
          "name": "stderr",
          "text": [
            "WARNING:tensorflow:Can save best model only with val_acc available, skipping.\n"
          ]
        },
        {
          "output_type": "stream",
          "name": "stdout",
          "text": [
            "9/9 - 0s - loss: 0.2682 - accuracy: 0.9061 - val_loss: 1.0999 - val_accuracy: 0.9792 - 99ms/epoch - 11ms/step\n",
            "Epoch 59/450\n"
          ]
        },
        {
          "output_type": "stream",
          "name": "stderr",
          "text": [
            "WARNING:tensorflow:Can save best model only with val_acc available, skipping.\n"
          ]
        },
        {
          "output_type": "stream",
          "name": "stdout",
          "text": [
            "9/9 - 0s - loss: 0.2969 - accuracy: 0.8881 - val_loss: 1.1136 - val_accuracy: 0.9896 - 104ms/epoch - 12ms/step\n",
            "Epoch 60/450\n"
          ]
        },
        {
          "output_type": "stream",
          "name": "stderr",
          "text": [
            "WARNING:tensorflow:Can save best model only with val_acc available, skipping.\n"
          ]
        },
        {
          "output_type": "stream",
          "name": "stdout",
          "text": [
            "9/9 - 0s - loss: 0.2795 - accuracy: 0.9025 - val_loss: 1.0627 - val_accuracy: 0.9792 - 100ms/epoch - 11ms/step\n",
            "Epoch 61/450\n"
          ]
        },
        {
          "output_type": "stream",
          "name": "stderr",
          "text": [
            "WARNING:tensorflow:Can save best model only with val_acc available, skipping.\n"
          ]
        },
        {
          "output_type": "stream",
          "name": "stdout",
          "text": [
            "9/9 - 0s - loss: 0.2358 - accuracy: 0.9332 - val_loss: 1.0975 - val_accuracy: 0.9896 - 92ms/epoch - 10ms/step\n",
            "Epoch 62/450\n"
          ]
        },
        {
          "output_type": "stream",
          "name": "stderr",
          "text": [
            "WARNING:tensorflow:Can save best model only with val_acc available, skipping.\n"
          ]
        },
        {
          "output_type": "stream",
          "name": "stdout",
          "text": [
            "9/9 - 0s - loss: 0.2527 - accuracy: 0.9206 - val_loss: 1.1087 - val_accuracy: 0.9792 - 99ms/epoch - 11ms/step\n",
            "Epoch 63/450\n"
          ]
        },
        {
          "output_type": "stream",
          "name": "stderr",
          "text": [
            "WARNING:tensorflow:Can save best model only with val_acc available, skipping.\n"
          ]
        },
        {
          "output_type": "stream",
          "name": "stdout",
          "text": [
            "9/9 - 0s - loss: 0.2315 - accuracy: 0.9332 - val_loss: 1.1201 - val_accuracy: 0.9792 - 90ms/epoch - 10ms/step\n",
            "Epoch 64/450\n"
          ]
        },
        {
          "output_type": "stream",
          "name": "stderr",
          "text": [
            "WARNING:tensorflow:Can save best model only with val_acc available, skipping.\n"
          ]
        },
        {
          "output_type": "stream",
          "name": "stdout",
          "text": [
            "9/9 - 0s - loss: 0.2075 - accuracy: 0.9278 - val_loss: 1.1184 - val_accuracy: 0.9792 - 84ms/epoch - 9ms/step\n",
            "Epoch 65/450\n"
          ]
        },
        {
          "output_type": "stream",
          "name": "stderr",
          "text": [
            "WARNING:tensorflow:Can save best model only with val_acc available, skipping.\n"
          ]
        },
        {
          "output_type": "stream",
          "name": "stdout",
          "text": [
            "9/9 - 0s - loss: 0.2011 - accuracy: 0.9314 - val_loss: 1.1994 - val_accuracy: 0.9896 - 83ms/epoch - 9ms/step\n",
            "Epoch 66/450\n"
          ]
        },
        {
          "output_type": "stream",
          "name": "stderr",
          "text": [
            "WARNING:tensorflow:Can save best model only with val_acc available, skipping.\n"
          ]
        },
        {
          "output_type": "stream",
          "name": "stdout",
          "text": [
            "9/9 - 0s - loss: 0.2168 - accuracy: 0.9206 - val_loss: 1.2775 - val_accuracy: 0.9792 - 99ms/epoch - 11ms/step\n",
            "Epoch 67/450\n"
          ]
        },
        {
          "output_type": "stream",
          "name": "stderr",
          "text": [
            "WARNING:tensorflow:Can save best model only with val_acc available, skipping.\n"
          ]
        },
        {
          "output_type": "stream",
          "name": "stdout",
          "text": [
            "9/9 - 0s - loss: 0.2577 - accuracy: 0.9170 - val_loss: 1.3959 - val_accuracy: 0.9792 - 88ms/epoch - 10ms/step\n",
            "Epoch 68/450\n"
          ]
        },
        {
          "output_type": "stream",
          "name": "stderr",
          "text": [
            "WARNING:tensorflow:Can save best model only with val_acc available, skipping.\n"
          ]
        },
        {
          "output_type": "stream",
          "name": "stdout",
          "text": [
            "9/9 - 0s - loss: 0.2613 - accuracy: 0.9206 - val_loss: 1.4215 - val_accuracy: 0.9896 - 85ms/epoch - 9ms/step\n",
            "Epoch 69/450\n"
          ]
        },
        {
          "output_type": "stream",
          "name": "stderr",
          "text": [
            "WARNING:tensorflow:Can save best model only with val_acc available, skipping.\n"
          ]
        },
        {
          "output_type": "stream",
          "name": "stdout",
          "text": [
            "9/9 - 0s - loss: 0.2326 - accuracy: 0.9332 - val_loss: 1.4507 - val_accuracy: 0.9896 - 83ms/epoch - 9ms/step\n",
            "Epoch 70/450\n"
          ]
        },
        {
          "output_type": "stream",
          "name": "stderr",
          "text": [
            "WARNING:tensorflow:Can save best model only with val_acc available, skipping.\n"
          ]
        },
        {
          "output_type": "stream",
          "name": "stdout",
          "text": [
            "9/9 - 0s - loss: 0.2105 - accuracy: 0.9368 - val_loss: 1.4320 - val_accuracy: 0.9896 - 96ms/epoch - 11ms/step\n",
            "Epoch 71/450\n"
          ]
        },
        {
          "output_type": "stream",
          "name": "stderr",
          "text": [
            "WARNING:tensorflow:Can save best model only with val_acc available, skipping.\n"
          ]
        },
        {
          "output_type": "stream",
          "name": "stdout",
          "text": [
            "9/9 - 0s - loss: 0.2190 - accuracy: 0.9422 - val_loss: 1.5110 - val_accuracy: 0.9896 - 95ms/epoch - 11ms/step\n",
            "Epoch 72/450\n"
          ]
        },
        {
          "output_type": "stream",
          "name": "stderr",
          "text": [
            "WARNING:tensorflow:Can save best model only with val_acc available, skipping.\n"
          ]
        },
        {
          "output_type": "stream",
          "name": "stdout",
          "text": [
            "9/9 - 0s - loss: 0.2083 - accuracy: 0.9170 - val_loss: 1.4533 - val_accuracy: 0.9896 - 98ms/epoch - 11ms/step\n",
            "Epoch 73/450\n"
          ]
        },
        {
          "output_type": "stream",
          "name": "stderr",
          "text": [
            "WARNING:tensorflow:Can save best model only with val_acc available, skipping.\n"
          ]
        },
        {
          "output_type": "stream",
          "name": "stdout",
          "text": [
            "9/9 - 0s - loss: 0.1595 - accuracy: 0.9477 - val_loss: 1.4818 - val_accuracy: 0.9896 - 104ms/epoch - 12ms/step\n",
            "Epoch 74/450\n"
          ]
        },
        {
          "output_type": "stream",
          "name": "stderr",
          "text": [
            "WARNING:tensorflow:Can save best model only with val_acc available, skipping.\n"
          ]
        },
        {
          "output_type": "stream",
          "name": "stdout",
          "text": [
            "9/9 - 0s - loss: 0.2926 - accuracy: 0.9188 - val_loss: 1.5045 - val_accuracy: 0.9896 - 85ms/epoch - 9ms/step\n",
            "Epoch 75/450\n"
          ]
        },
        {
          "output_type": "stream",
          "name": "stderr",
          "text": [
            "WARNING:tensorflow:Can save best model only with val_acc available, skipping.\n"
          ]
        },
        {
          "output_type": "stream",
          "name": "stdout",
          "text": [
            "9/9 - 0s - loss: 0.2019 - accuracy: 0.9314 - val_loss: 1.5007 - val_accuracy: 0.9896 - 85ms/epoch - 9ms/step\n",
            "Epoch 76/450\n"
          ]
        },
        {
          "output_type": "stream",
          "name": "stderr",
          "text": [
            "WARNING:tensorflow:Can save best model only with val_acc available, skipping.\n"
          ]
        },
        {
          "output_type": "stream",
          "name": "stdout",
          "text": [
            "9/9 - 0s - loss: 0.2604 - accuracy: 0.9188 - val_loss: 1.5235 - val_accuracy: 0.9896 - 81ms/epoch - 9ms/step\n",
            "Epoch 77/450\n"
          ]
        },
        {
          "output_type": "stream",
          "name": "stderr",
          "text": [
            "WARNING:tensorflow:Can save best model only with val_acc available, skipping.\n"
          ]
        },
        {
          "output_type": "stream",
          "name": "stdout",
          "text": [
            "9/9 - 0s - loss: 0.2116 - accuracy: 0.9350 - val_loss: 1.5838 - val_accuracy: 0.9896 - 84ms/epoch - 9ms/step\n",
            "Epoch 78/450\n"
          ]
        },
        {
          "output_type": "stream",
          "name": "stderr",
          "text": [
            "WARNING:tensorflow:Can save best model only with val_acc available, skipping.\n"
          ]
        },
        {
          "output_type": "stream",
          "name": "stdout",
          "text": [
            "9/9 - 0s - loss: 0.4641 - accuracy: 0.9134 - val_loss: 1.4329 - val_accuracy: 0.9896 - 97ms/epoch - 11ms/step\n",
            "Epoch 79/450\n"
          ]
        },
        {
          "output_type": "stream",
          "name": "stderr",
          "text": [
            "WARNING:tensorflow:Can save best model only with val_acc available, skipping.\n"
          ]
        },
        {
          "output_type": "stream",
          "name": "stdout",
          "text": [
            "9/9 - 0s - loss: 0.2085 - accuracy: 0.9404 - val_loss: 1.3447 - val_accuracy: 0.9896 - 86ms/epoch - 10ms/step\n",
            "Epoch 80/450\n"
          ]
        },
        {
          "output_type": "stream",
          "name": "stderr",
          "text": [
            "WARNING:tensorflow:Can save best model only with val_acc available, skipping.\n"
          ]
        },
        {
          "output_type": "stream",
          "name": "stdout",
          "text": [
            "9/9 - 0s - loss: 0.1948 - accuracy: 0.9206 - val_loss: 1.4897 - val_accuracy: 0.9896 - 98ms/epoch - 11ms/step\n",
            "Epoch 81/450\n"
          ]
        },
        {
          "output_type": "stream",
          "name": "stderr",
          "text": [
            "WARNING:tensorflow:Can save best model only with val_acc available, skipping.\n"
          ]
        },
        {
          "output_type": "stream",
          "name": "stdout",
          "text": [
            "9/9 - 0s - loss: 0.2141 - accuracy: 0.9242 - val_loss: 1.5110 - val_accuracy: 0.9792 - 106ms/epoch - 12ms/step\n",
            "Epoch 82/450\n"
          ]
        },
        {
          "output_type": "stream",
          "name": "stderr",
          "text": [
            "WARNING:tensorflow:Can save best model only with val_acc available, skipping.\n"
          ]
        },
        {
          "output_type": "stream",
          "name": "stdout",
          "text": [
            "9/9 - 0s - loss: 0.1803 - accuracy: 0.9422 - val_loss: 1.5669 - val_accuracy: 0.9896 - 95ms/epoch - 11ms/step\n",
            "Epoch 83/450\n"
          ]
        },
        {
          "output_type": "stream",
          "name": "stderr",
          "text": [
            "WARNING:tensorflow:Can save best model only with val_acc available, skipping.\n"
          ]
        },
        {
          "output_type": "stream",
          "name": "stdout",
          "text": [
            "9/9 - 0s - loss: 0.1496 - accuracy: 0.9675 - val_loss: 1.5407 - val_accuracy: 0.9896 - 88ms/epoch - 10ms/step\n",
            "Epoch 84/450\n"
          ]
        },
        {
          "output_type": "stream",
          "name": "stderr",
          "text": [
            "WARNING:tensorflow:Can save best model only with val_acc available, skipping.\n"
          ]
        },
        {
          "output_type": "stream",
          "name": "stdout",
          "text": [
            "9/9 - 0s - loss: 0.1607 - accuracy: 0.9422 - val_loss: 1.5799 - val_accuracy: 0.9896 - 114ms/epoch - 13ms/step\n",
            "Epoch 85/450\n"
          ]
        },
        {
          "output_type": "stream",
          "name": "stderr",
          "text": [
            "WARNING:tensorflow:Can save best model only with val_acc available, skipping.\n"
          ]
        },
        {
          "output_type": "stream",
          "name": "stdout",
          "text": [
            "9/9 - 0s - loss: 0.1735 - accuracy: 0.9531 - val_loss: 1.6694 - val_accuracy: 0.9792 - 80ms/epoch - 9ms/step\n",
            "Epoch 86/450\n"
          ]
        },
        {
          "output_type": "stream",
          "name": "stderr",
          "text": [
            "WARNING:tensorflow:Can save best model only with val_acc available, skipping.\n"
          ]
        },
        {
          "output_type": "stream",
          "name": "stdout",
          "text": [
            "9/9 - 0s - loss: 0.1628 - accuracy: 0.9458 - val_loss: 1.7009 - val_accuracy: 0.9792 - 85ms/epoch - 9ms/step\n",
            "Epoch 87/450\n"
          ]
        },
        {
          "output_type": "stream",
          "name": "stderr",
          "text": [
            "WARNING:tensorflow:Can save best model only with val_acc available, skipping.\n"
          ]
        },
        {
          "output_type": "stream",
          "name": "stdout",
          "text": [
            "9/9 - 0s - loss: 0.1780 - accuracy: 0.9386 - val_loss: 1.5613 - val_accuracy: 0.9792 - 90ms/epoch - 10ms/step\n",
            "Epoch 88/450\n"
          ]
        },
        {
          "output_type": "stream",
          "name": "stderr",
          "text": [
            "WARNING:tensorflow:Can save best model only with val_acc available, skipping.\n"
          ]
        },
        {
          "output_type": "stream",
          "name": "stdout",
          "text": [
            "9/9 - 0s - loss: 0.1677 - accuracy: 0.9440 - val_loss: 1.6133 - val_accuracy: 0.9896 - 96ms/epoch - 11ms/step\n",
            "Epoch 89/450\n"
          ]
        },
        {
          "output_type": "stream",
          "name": "stderr",
          "text": [
            "WARNING:tensorflow:Can save best model only with val_acc available, skipping.\n"
          ]
        },
        {
          "output_type": "stream",
          "name": "stdout",
          "text": [
            "9/9 - 0s - loss: 0.2145 - accuracy: 0.9386 - val_loss: 1.6716 - val_accuracy: 0.9896 - 97ms/epoch - 11ms/step\n",
            "Epoch 90/450\n"
          ]
        },
        {
          "output_type": "stream",
          "name": "stderr",
          "text": [
            "WARNING:tensorflow:Can save best model only with val_acc available, skipping.\n"
          ]
        },
        {
          "output_type": "stream",
          "name": "stdout",
          "text": [
            "9/9 - 0s - loss: 0.2143 - accuracy: 0.9152 - val_loss: 1.5488 - val_accuracy: 0.9792 - 101ms/epoch - 11ms/step\n",
            "Epoch 91/450\n"
          ]
        },
        {
          "output_type": "stream",
          "name": "stderr",
          "text": [
            "WARNING:tensorflow:Can save best model only with val_acc available, skipping.\n"
          ]
        },
        {
          "output_type": "stream",
          "name": "stdout",
          "text": [
            "9/9 - 0s - loss: 0.2292 - accuracy: 0.9260 - val_loss: 1.6913 - val_accuracy: 0.9896 - 107ms/epoch - 12ms/step\n",
            "Epoch 92/450\n"
          ]
        },
        {
          "output_type": "stream",
          "name": "stderr",
          "text": [
            "WARNING:tensorflow:Can save best model only with val_acc available, skipping.\n"
          ]
        },
        {
          "output_type": "stream",
          "name": "stdout",
          "text": [
            "9/9 - 0s - loss: 0.2289 - accuracy: 0.9350 - val_loss: 1.7162 - val_accuracy: 0.9688 - 81ms/epoch - 9ms/step\n",
            "Epoch 93/450\n"
          ]
        },
        {
          "output_type": "stream",
          "name": "stderr",
          "text": [
            "WARNING:tensorflow:Can save best model only with val_acc available, skipping.\n"
          ]
        },
        {
          "output_type": "stream",
          "name": "stdout",
          "text": [
            "9/9 - 0s - loss: 0.1513 - accuracy: 0.9458 - val_loss: 1.6993 - val_accuracy: 0.9896 - 92ms/epoch - 10ms/step\n",
            "Epoch 94/450\n"
          ]
        },
        {
          "output_type": "stream",
          "name": "stderr",
          "text": [
            "WARNING:tensorflow:Can save best model only with val_acc available, skipping.\n"
          ]
        },
        {
          "output_type": "stream",
          "name": "stdout",
          "text": [
            "9/9 - 0s - loss: 0.1499 - accuracy: 0.9458 - val_loss: 1.7713 - val_accuracy: 0.9896 - 85ms/epoch - 9ms/step\n",
            "Epoch 95/450\n"
          ]
        },
        {
          "output_type": "stream",
          "name": "stderr",
          "text": [
            "WARNING:tensorflow:Can save best model only with val_acc available, skipping.\n"
          ]
        },
        {
          "output_type": "stream",
          "name": "stdout",
          "text": [
            "9/9 - 0s - loss: 0.1916 - accuracy: 0.9386 - val_loss: 1.7177 - val_accuracy: 0.9792 - 93ms/epoch - 10ms/step\n",
            "Epoch 96/450\n"
          ]
        },
        {
          "output_type": "stream",
          "name": "stderr",
          "text": [
            "WARNING:tensorflow:Can save best model only with val_acc available, skipping.\n"
          ]
        },
        {
          "output_type": "stream",
          "name": "stdout",
          "text": [
            "9/9 - 0s - loss: 0.2339 - accuracy: 0.9513 - val_loss: 1.8243 - val_accuracy: 0.9896 - 82ms/epoch - 9ms/step\n",
            "Epoch 97/450\n"
          ]
        },
        {
          "output_type": "stream",
          "name": "stderr",
          "text": [
            "WARNING:tensorflow:Can save best model only with val_acc available, skipping.\n"
          ]
        },
        {
          "output_type": "stream",
          "name": "stdout",
          "text": [
            "9/9 - 0s - loss: 0.2172 - accuracy: 0.9296 - val_loss: 1.6281 - val_accuracy: 0.9896 - 82ms/epoch - 9ms/step\n",
            "Epoch 98/450\n"
          ]
        },
        {
          "output_type": "stream",
          "name": "stderr",
          "text": [
            "WARNING:tensorflow:Can save best model only with val_acc available, skipping.\n"
          ]
        },
        {
          "output_type": "stream",
          "name": "stdout",
          "text": [
            "9/9 - 0s - loss: 0.1591 - accuracy: 0.9458 - val_loss: 1.8079 - val_accuracy: 0.9896 - 80ms/epoch - 9ms/step\n",
            "Epoch 99/450\n"
          ]
        },
        {
          "output_type": "stream",
          "name": "stderr",
          "text": [
            "WARNING:tensorflow:Can save best model only with val_acc available, skipping.\n"
          ]
        },
        {
          "output_type": "stream",
          "name": "stdout",
          "text": [
            "9/9 - 0s - loss: 0.1834 - accuracy: 0.9404 - val_loss: 1.8202 - val_accuracy: 0.9896 - 87ms/epoch - 10ms/step\n",
            "Epoch 100/450\n"
          ]
        },
        {
          "output_type": "stream",
          "name": "stderr",
          "text": [
            "WARNING:tensorflow:Can save best model only with val_acc available, skipping.\n"
          ]
        },
        {
          "output_type": "stream",
          "name": "stdout",
          "text": [
            "9/9 - 0s - loss: 0.3618 - accuracy: 0.9458 - val_loss: 1.6719 - val_accuracy: 0.9792 - 85ms/epoch - 9ms/step\n",
            "Epoch 101/450\n"
          ]
        },
        {
          "output_type": "stream",
          "name": "stderr",
          "text": [
            "WARNING:tensorflow:Can save best model only with val_acc available, skipping.\n"
          ]
        },
        {
          "output_type": "stream",
          "name": "stdout",
          "text": [
            "9/9 - 0s - loss: 0.1891 - accuracy: 0.9440 - val_loss: 1.4861 - val_accuracy: 0.9896 - 82ms/epoch - 9ms/step\n",
            "Epoch 102/450\n"
          ]
        },
        {
          "output_type": "stream",
          "name": "stderr",
          "text": [
            "WARNING:tensorflow:Can save best model only with val_acc available, skipping.\n"
          ]
        },
        {
          "output_type": "stream",
          "name": "stdout",
          "text": [
            "9/9 - 0s - loss: 0.1481 - accuracy: 0.9603 - val_loss: 1.5088 - val_accuracy: 0.9896 - 95ms/epoch - 11ms/step\n",
            "Epoch 103/450\n"
          ]
        },
        {
          "output_type": "stream",
          "name": "stderr",
          "text": [
            "WARNING:tensorflow:Can save best model only with val_acc available, skipping.\n"
          ]
        },
        {
          "output_type": "stream",
          "name": "stdout",
          "text": [
            "9/9 - 0s - loss: 0.1340 - accuracy: 0.9531 - val_loss: 1.6413 - val_accuracy: 0.9896 - 104ms/epoch - 12ms/step\n",
            "Epoch 104/450\n"
          ]
        },
        {
          "output_type": "stream",
          "name": "stderr",
          "text": [
            "WARNING:tensorflow:Can save best model only with val_acc available, skipping.\n"
          ]
        },
        {
          "output_type": "stream",
          "name": "stdout",
          "text": [
            "9/9 - 0s - loss: 0.1225 - accuracy: 0.9531 - val_loss: 1.6180 - val_accuracy: 0.9896 - 100ms/epoch - 11ms/step\n",
            "Epoch 105/450\n"
          ]
        },
        {
          "output_type": "stream",
          "name": "stderr",
          "text": [
            "WARNING:tensorflow:Can save best model only with val_acc available, skipping.\n"
          ]
        },
        {
          "output_type": "stream",
          "name": "stdout",
          "text": [
            "9/9 - 0s - loss: 0.1483 - accuracy: 0.9440 - val_loss: 1.7102 - val_accuracy: 0.9896 - 99ms/epoch - 11ms/step\n",
            "Epoch 106/450\n"
          ]
        },
        {
          "output_type": "stream",
          "name": "stderr",
          "text": [
            "WARNING:tensorflow:Can save best model only with val_acc available, skipping.\n"
          ]
        },
        {
          "output_type": "stream",
          "name": "stdout",
          "text": [
            "9/9 - 0s - loss: 0.1765 - accuracy: 0.9422 - val_loss: 1.7072 - val_accuracy: 0.9792 - 102ms/epoch - 11ms/step\n",
            "Epoch 107/450\n"
          ]
        },
        {
          "output_type": "stream",
          "name": "stderr",
          "text": [
            "WARNING:tensorflow:Can save best model only with val_acc available, skipping.\n"
          ]
        },
        {
          "output_type": "stream",
          "name": "stdout",
          "text": [
            "9/9 - 0s - loss: 0.1888 - accuracy: 0.9350 - val_loss: 1.7292 - val_accuracy: 0.9792 - 85ms/epoch - 9ms/step\n",
            "Epoch 108/450\n"
          ]
        },
        {
          "output_type": "stream",
          "name": "stderr",
          "text": [
            "WARNING:tensorflow:Can save best model only with val_acc available, skipping.\n"
          ]
        },
        {
          "output_type": "stream",
          "name": "stdout",
          "text": [
            "9/9 - 0s - loss: 0.1563 - accuracy: 0.9549 - val_loss: 1.7139 - val_accuracy: 0.9792 - 99ms/epoch - 11ms/step\n",
            "Epoch 109/450\n"
          ]
        },
        {
          "output_type": "stream",
          "name": "stderr",
          "text": [
            "WARNING:tensorflow:Can save best model only with val_acc available, skipping.\n"
          ]
        },
        {
          "output_type": "stream",
          "name": "stdout",
          "text": [
            "9/9 - 0s - loss: 0.1678 - accuracy: 0.9440 - val_loss: 1.7040 - val_accuracy: 0.9792 - 91ms/epoch - 10ms/step\n",
            "Epoch 110/450\n"
          ]
        },
        {
          "output_type": "stream",
          "name": "stderr",
          "text": [
            "WARNING:tensorflow:Can save best model only with val_acc available, skipping.\n"
          ]
        },
        {
          "output_type": "stream",
          "name": "stdout",
          "text": [
            "9/9 - 0s - loss: 0.1568 - accuracy: 0.9531 - val_loss: 1.6196 - val_accuracy: 0.9792 - 84ms/epoch - 9ms/step\n",
            "Epoch 111/450\n"
          ]
        },
        {
          "output_type": "stream",
          "name": "stderr",
          "text": [
            "WARNING:tensorflow:Can save best model only with val_acc available, skipping.\n"
          ]
        },
        {
          "output_type": "stream",
          "name": "stdout",
          "text": [
            "9/9 - 0s - loss: 0.1423 - accuracy: 0.9603 - val_loss: 1.7285 - val_accuracy: 0.9792 - 89ms/epoch - 10ms/step\n",
            "Epoch 112/450\n"
          ]
        },
        {
          "output_type": "stream",
          "name": "stderr",
          "text": [
            "WARNING:tensorflow:Can save best model only with val_acc available, skipping.\n"
          ]
        },
        {
          "output_type": "stream",
          "name": "stdout",
          "text": [
            "9/9 - 0s - loss: 0.1502 - accuracy: 0.9477 - val_loss: 1.7118 - val_accuracy: 0.9792 - 101ms/epoch - 11ms/step\n",
            "Epoch 113/450\n"
          ]
        },
        {
          "output_type": "stream",
          "name": "stderr",
          "text": [
            "WARNING:tensorflow:Can save best model only with val_acc available, skipping.\n"
          ]
        },
        {
          "output_type": "stream",
          "name": "stdout",
          "text": [
            "9/9 - 0s - loss: 0.1720 - accuracy: 0.9260 - val_loss: 1.8380 - val_accuracy: 0.9792 - 84ms/epoch - 9ms/step\n",
            "Epoch 114/450\n"
          ]
        },
        {
          "output_type": "stream",
          "name": "stderr",
          "text": [
            "WARNING:tensorflow:Can save best model only with val_acc available, skipping.\n"
          ]
        },
        {
          "output_type": "stream",
          "name": "stdout",
          "text": [
            "9/9 - 0s - loss: 0.1958 - accuracy: 0.9206 - val_loss: 1.8097 - val_accuracy: 0.9896 - 106ms/epoch - 12ms/step\n",
            "Epoch 115/450\n"
          ]
        },
        {
          "output_type": "stream",
          "name": "stderr",
          "text": [
            "WARNING:tensorflow:Can save best model only with val_acc available, skipping.\n"
          ]
        },
        {
          "output_type": "stream",
          "name": "stdout",
          "text": [
            "9/9 - 0s - loss: 0.1626 - accuracy: 0.9386 - val_loss: 1.6782 - val_accuracy: 0.9896 - 88ms/epoch - 10ms/step\n",
            "Epoch 116/450\n"
          ]
        },
        {
          "output_type": "stream",
          "name": "stderr",
          "text": [
            "WARNING:tensorflow:Can save best model only with val_acc available, skipping.\n"
          ]
        },
        {
          "output_type": "stream",
          "name": "stdout",
          "text": [
            "9/9 - 0s - loss: 0.1722 - accuracy: 0.9350 - val_loss: 1.9343 - val_accuracy: 0.9896 - 97ms/epoch - 11ms/step\n",
            "Epoch 117/450\n"
          ]
        },
        {
          "output_type": "stream",
          "name": "stderr",
          "text": [
            "WARNING:tensorflow:Can save best model only with val_acc available, skipping.\n"
          ]
        },
        {
          "output_type": "stream",
          "name": "stdout",
          "text": [
            "9/9 - 0s - loss: 0.2191 - accuracy: 0.9278 - val_loss: 1.8966 - val_accuracy: 0.9896 - 86ms/epoch - 10ms/step\n",
            "Epoch 118/450\n"
          ]
        },
        {
          "output_type": "stream",
          "name": "stderr",
          "text": [
            "WARNING:tensorflow:Can save best model only with val_acc available, skipping.\n"
          ]
        },
        {
          "output_type": "stream",
          "name": "stdout",
          "text": [
            "9/9 - 0s - loss: 0.1444 - accuracy: 0.9440 - val_loss: 2.0969 - val_accuracy: 0.9896 - 86ms/epoch - 10ms/step\n",
            "Epoch 119/450\n"
          ]
        },
        {
          "output_type": "stream",
          "name": "stderr",
          "text": [
            "WARNING:tensorflow:Can save best model only with val_acc available, skipping.\n"
          ]
        },
        {
          "output_type": "stream",
          "name": "stdout",
          "text": [
            "9/9 - 0s - loss: 0.2165 - accuracy: 0.9242 - val_loss: 1.8459 - val_accuracy: 0.9896 - 97ms/epoch - 11ms/step\n",
            "Epoch 120/450\n"
          ]
        },
        {
          "output_type": "stream",
          "name": "stderr",
          "text": [
            "WARNING:tensorflow:Can save best model only with val_acc available, skipping.\n"
          ]
        },
        {
          "output_type": "stream",
          "name": "stdout",
          "text": [
            "9/9 - 0s - loss: 0.2054 - accuracy: 0.9513 - val_loss: 1.8713 - val_accuracy: 0.9896 - 99ms/epoch - 11ms/step\n",
            "Epoch 121/450\n"
          ]
        },
        {
          "output_type": "stream",
          "name": "stderr",
          "text": [
            "WARNING:tensorflow:Can save best model only with val_acc available, skipping.\n"
          ]
        },
        {
          "output_type": "stream",
          "name": "stdout",
          "text": [
            "9/9 - 0s - loss: 0.1844 - accuracy: 0.9458 - val_loss: 1.8322 - val_accuracy: 0.9896 - 86ms/epoch - 10ms/step\n",
            "Epoch 122/450\n"
          ]
        },
        {
          "output_type": "stream",
          "name": "stderr",
          "text": [
            "WARNING:tensorflow:Can save best model only with val_acc available, skipping.\n"
          ]
        },
        {
          "output_type": "stream",
          "name": "stdout",
          "text": [
            "9/9 - 0s - loss: 0.2142 - accuracy: 0.9296 - val_loss: 1.6371 - val_accuracy: 0.9896 - 106ms/epoch - 12ms/step\n",
            "Epoch 123/450\n"
          ]
        },
        {
          "output_type": "stream",
          "name": "stderr",
          "text": [
            "WARNING:tensorflow:Can save best model only with val_acc available, skipping.\n"
          ]
        },
        {
          "output_type": "stream",
          "name": "stdout",
          "text": [
            "9/9 - 0s - loss: 0.1954 - accuracy: 0.9458 - val_loss: 1.6506 - val_accuracy: 0.9896 - 99ms/epoch - 11ms/step\n",
            "Epoch 124/450\n"
          ]
        },
        {
          "output_type": "stream",
          "name": "stderr",
          "text": [
            "WARNING:tensorflow:Can save best model only with val_acc available, skipping.\n"
          ]
        },
        {
          "output_type": "stream",
          "name": "stdout",
          "text": [
            "9/9 - 0s - loss: 0.1614 - accuracy: 0.9477 - val_loss: 1.7014 - val_accuracy: 0.9896 - 93ms/epoch - 10ms/step\n",
            "Epoch 125/450\n"
          ]
        },
        {
          "output_type": "stream",
          "name": "stderr",
          "text": [
            "WARNING:tensorflow:Can save best model only with val_acc available, skipping.\n"
          ]
        },
        {
          "output_type": "stream",
          "name": "stdout",
          "text": [
            "9/9 - 0s - loss: 0.1292 - accuracy: 0.9513 - val_loss: 1.6483 - val_accuracy: 0.9896 - 83ms/epoch - 9ms/step\n",
            "Epoch 126/450\n"
          ]
        },
        {
          "output_type": "stream",
          "name": "stderr",
          "text": [
            "WARNING:tensorflow:Can save best model only with val_acc available, skipping.\n"
          ]
        },
        {
          "output_type": "stream",
          "name": "stdout",
          "text": [
            "9/9 - 0s - loss: 0.1031 - accuracy: 0.9621 - val_loss: 1.7263 - val_accuracy: 0.9896 - 87ms/epoch - 10ms/step\n",
            "Epoch 127/450\n"
          ]
        },
        {
          "output_type": "stream",
          "name": "stderr",
          "text": [
            "WARNING:tensorflow:Can save best model only with val_acc available, skipping.\n"
          ]
        },
        {
          "output_type": "stream",
          "name": "stdout",
          "text": [
            "9/9 - 0s - loss: 0.1543 - accuracy: 0.9440 - val_loss: 1.7630 - val_accuracy: 0.9896 - 96ms/epoch - 11ms/step\n",
            "Epoch 128/450\n"
          ]
        },
        {
          "output_type": "stream",
          "name": "stderr",
          "text": [
            "WARNING:tensorflow:Can save best model only with val_acc available, skipping.\n"
          ]
        },
        {
          "output_type": "stream",
          "name": "stdout",
          "text": [
            "9/9 - 0s - loss: 0.1514 - accuracy: 0.9531 - val_loss: 1.6306 - val_accuracy: 0.9896 - 82ms/epoch - 9ms/step\n",
            "Epoch 129/450\n"
          ]
        },
        {
          "output_type": "stream",
          "name": "stderr",
          "text": [
            "WARNING:tensorflow:Can save best model only with val_acc available, skipping.\n"
          ]
        },
        {
          "output_type": "stream",
          "name": "stdout",
          "text": [
            "9/9 - 0s - loss: 0.1484 - accuracy: 0.9495 - val_loss: 1.5884 - val_accuracy: 0.9896 - 86ms/epoch - 10ms/step\n",
            "Epoch 130/450\n"
          ]
        },
        {
          "output_type": "stream",
          "name": "stderr",
          "text": [
            "WARNING:tensorflow:Can save best model only with val_acc available, skipping.\n"
          ]
        },
        {
          "output_type": "stream",
          "name": "stdout",
          "text": [
            "9/9 - 0s - loss: 0.1728 - accuracy: 0.9404 - val_loss: 1.5717 - val_accuracy: 0.9896 - 89ms/epoch - 10ms/step\n",
            "Epoch 131/450\n"
          ]
        },
        {
          "output_type": "stream",
          "name": "stderr",
          "text": [
            "WARNING:tensorflow:Can save best model only with val_acc available, skipping.\n"
          ]
        },
        {
          "output_type": "stream",
          "name": "stdout",
          "text": [
            "9/9 - 0s - loss: 0.1787 - accuracy: 0.9422 - val_loss: 1.6271 - val_accuracy: 0.9896 - 82ms/epoch - 9ms/step\n",
            "Epoch 132/450\n"
          ]
        },
        {
          "output_type": "stream",
          "name": "stderr",
          "text": [
            "WARNING:tensorflow:Can save best model only with val_acc available, skipping.\n"
          ]
        },
        {
          "output_type": "stream",
          "name": "stdout",
          "text": [
            "9/9 - 0s - loss: 0.1366 - accuracy: 0.9531 - val_loss: 1.5926 - val_accuracy: 0.9896 - 81ms/epoch - 9ms/step\n",
            "Epoch 133/450\n"
          ]
        },
        {
          "output_type": "stream",
          "name": "stderr",
          "text": [
            "WARNING:tensorflow:Can save best model only with val_acc available, skipping.\n"
          ]
        },
        {
          "output_type": "stream",
          "name": "stdout",
          "text": [
            "9/9 - 0s - loss: 0.1529 - accuracy: 0.9458 - val_loss: 1.6416 - val_accuracy: 0.9896 - 81ms/epoch - 9ms/step\n",
            "Epoch 134/450\n"
          ]
        },
        {
          "output_type": "stream",
          "name": "stderr",
          "text": [
            "WARNING:tensorflow:Can save best model only with val_acc available, skipping.\n"
          ]
        },
        {
          "output_type": "stream",
          "name": "stdout",
          "text": [
            "9/9 - 0s - loss: 0.1078 - accuracy: 0.9585 - val_loss: 1.8018 - val_accuracy: 0.9896 - 96ms/epoch - 11ms/step\n",
            "Epoch 135/450\n"
          ]
        },
        {
          "output_type": "stream",
          "name": "stderr",
          "text": [
            "WARNING:tensorflow:Can save best model only with val_acc available, skipping.\n"
          ]
        },
        {
          "output_type": "stream",
          "name": "stdout",
          "text": [
            "9/9 - 0s - loss: 0.1558 - accuracy: 0.9440 - val_loss: 1.7171 - val_accuracy: 0.9896 - 104ms/epoch - 12ms/step\n",
            "Epoch 136/450\n"
          ]
        },
        {
          "output_type": "stream",
          "name": "stderr",
          "text": [
            "WARNING:tensorflow:Can save best model only with val_acc available, skipping.\n"
          ]
        },
        {
          "output_type": "stream",
          "name": "stdout",
          "text": [
            "9/9 - 0s - loss: 0.1511 - accuracy: 0.9513 - val_loss: 1.8117 - val_accuracy: 0.9896 - 97ms/epoch - 11ms/step\n",
            "Epoch 137/450\n"
          ]
        },
        {
          "output_type": "stream",
          "name": "stderr",
          "text": [
            "WARNING:tensorflow:Can save best model only with val_acc available, skipping.\n"
          ]
        },
        {
          "output_type": "stream",
          "name": "stdout",
          "text": [
            "9/9 - 0s - loss: 0.1937 - accuracy: 0.9513 - val_loss: 1.6777 - val_accuracy: 0.9896 - 101ms/epoch - 11ms/step\n",
            "Epoch 138/450\n"
          ]
        },
        {
          "output_type": "stream",
          "name": "stderr",
          "text": [
            "WARNING:tensorflow:Can save best model only with val_acc available, skipping.\n"
          ]
        },
        {
          "output_type": "stream",
          "name": "stdout",
          "text": [
            "9/9 - 0s - loss: 0.1624 - accuracy: 0.9422 - val_loss: 1.6404 - val_accuracy: 0.9896 - 81ms/epoch - 9ms/step\n",
            "Epoch 139/450\n"
          ]
        },
        {
          "output_type": "stream",
          "name": "stderr",
          "text": [
            "WARNING:tensorflow:Can save best model only with val_acc available, skipping.\n"
          ]
        },
        {
          "output_type": "stream",
          "name": "stdout",
          "text": [
            "9/9 - 0s - loss: 0.1728 - accuracy: 0.9350 - val_loss: 1.7345 - val_accuracy: 0.9896 - 113ms/epoch - 13ms/step\n",
            "Epoch 140/450\n"
          ]
        },
        {
          "output_type": "stream",
          "name": "stderr",
          "text": [
            "WARNING:tensorflow:Can save best model only with val_acc available, skipping.\n"
          ]
        },
        {
          "output_type": "stream",
          "name": "stdout",
          "text": [
            "9/9 - 0s - loss: 0.1641 - accuracy: 0.9350 - val_loss: 1.6872 - val_accuracy: 0.9896 - 83ms/epoch - 9ms/step\n",
            "Epoch 141/450\n"
          ]
        },
        {
          "output_type": "stream",
          "name": "stderr",
          "text": [
            "WARNING:tensorflow:Can save best model only with val_acc available, skipping.\n"
          ]
        },
        {
          "output_type": "stream",
          "name": "stdout",
          "text": [
            "9/9 - 0s - loss: 0.1154 - accuracy: 0.9495 - val_loss: 1.6594 - val_accuracy: 0.9896 - 98ms/epoch - 11ms/step\n",
            "Epoch 142/450\n"
          ]
        },
        {
          "output_type": "stream",
          "name": "stderr",
          "text": [
            "WARNING:tensorflow:Can save best model only with val_acc available, skipping.\n"
          ]
        },
        {
          "output_type": "stream",
          "name": "stdout",
          "text": [
            "9/9 - 0s - loss: 0.1466 - accuracy: 0.9458 - val_loss: 1.6250 - val_accuracy: 0.9896 - 84ms/epoch - 9ms/step\n",
            "Epoch 143/450\n"
          ]
        },
        {
          "output_type": "stream",
          "name": "stderr",
          "text": [
            "WARNING:tensorflow:Can save best model only with val_acc available, skipping.\n"
          ]
        },
        {
          "output_type": "stream",
          "name": "stdout",
          "text": [
            "9/9 - 0s - loss: 0.1251 - accuracy: 0.9531 - val_loss: 1.6394 - val_accuracy: 0.9896 - 99ms/epoch - 11ms/step\n",
            "Epoch 144/450\n"
          ]
        },
        {
          "output_type": "stream",
          "name": "stderr",
          "text": [
            "WARNING:tensorflow:Can save best model only with val_acc available, skipping.\n"
          ]
        },
        {
          "output_type": "stream",
          "name": "stdout",
          "text": [
            "9/9 - 0s - loss: 0.1182 - accuracy: 0.9531 - val_loss: 1.6968 - val_accuracy: 0.9896 - 84ms/epoch - 9ms/step\n",
            "Epoch 145/450\n"
          ]
        },
        {
          "output_type": "stream",
          "name": "stderr",
          "text": [
            "WARNING:tensorflow:Can save best model only with val_acc available, skipping.\n"
          ]
        },
        {
          "output_type": "stream",
          "name": "stdout",
          "text": [
            "9/9 - 0s - loss: 0.1293 - accuracy: 0.9477 - val_loss: 1.7979 - val_accuracy: 0.9896 - 88ms/epoch - 10ms/step\n",
            "Epoch 146/450\n"
          ]
        },
        {
          "output_type": "stream",
          "name": "stderr",
          "text": [
            "WARNING:tensorflow:Can save best model only with val_acc available, skipping.\n"
          ]
        },
        {
          "output_type": "stream",
          "name": "stdout",
          "text": [
            "9/9 - 0s - loss: 0.1299 - accuracy: 0.9458 - val_loss: 1.8671 - val_accuracy: 0.9896 - 84ms/epoch - 9ms/step\n",
            "Epoch 147/450\n"
          ]
        },
        {
          "output_type": "stream",
          "name": "stderr",
          "text": [
            "WARNING:tensorflow:Can save best model only with val_acc available, skipping.\n"
          ]
        },
        {
          "output_type": "stream",
          "name": "stdout",
          "text": [
            "9/9 - 0s - loss: 0.1208 - accuracy: 0.9495 - val_loss: 1.8082 - val_accuracy: 0.9896 - 83ms/epoch - 9ms/step\n",
            "Epoch 148/450\n"
          ]
        },
        {
          "output_type": "stream",
          "name": "stderr",
          "text": [
            "WARNING:tensorflow:Can save best model only with val_acc available, skipping.\n"
          ]
        },
        {
          "output_type": "stream",
          "name": "stdout",
          "text": [
            "9/9 - 0s - loss: 0.1289 - accuracy: 0.9639 - val_loss: 1.8520 - val_accuracy: 0.9896 - 82ms/epoch - 9ms/step\n",
            "Epoch 149/450\n"
          ]
        },
        {
          "output_type": "stream",
          "name": "stderr",
          "text": [
            "WARNING:tensorflow:Can save best model only with val_acc available, skipping.\n"
          ]
        },
        {
          "output_type": "stream",
          "name": "stdout",
          "text": [
            "9/9 - 0s - loss: 0.1131 - accuracy: 0.9657 - val_loss: 1.7635 - val_accuracy: 0.9896 - 79ms/epoch - 9ms/step\n",
            "Epoch 150/450\n"
          ]
        },
        {
          "output_type": "stream",
          "name": "stderr",
          "text": [
            "WARNING:tensorflow:Can save best model only with val_acc available, skipping.\n"
          ]
        },
        {
          "output_type": "stream",
          "name": "stdout",
          "text": [
            "9/9 - 0s - loss: 0.1104 - accuracy: 0.9585 - val_loss: 1.6539 - val_accuracy: 0.9896 - 99ms/epoch - 11ms/step\n",
            "Epoch 151/450\n"
          ]
        },
        {
          "output_type": "stream",
          "name": "stderr",
          "text": [
            "WARNING:tensorflow:Can save best model only with val_acc available, skipping.\n"
          ]
        },
        {
          "output_type": "stream",
          "name": "stdout",
          "text": [
            "9/9 - 0s - loss: 0.1259 - accuracy: 0.9585 - val_loss: 1.6123 - val_accuracy: 0.9896 - 84ms/epoch - 9ms/step\n",
            "Epoch 152/450\n"
          ]
        },
        {
          "output_type": "stream",
          "name": "stderr",
          "text": [
            "WARNING:tensorflow:Can save best model only with val_acc available, skipping.\n"
          ]
        },
        {
          "output_type": "stream",
          "name": "stdout",
          "text": [
            "9/9 - 0s - loss: 0.1222 - accuracy: 0.9567 - val_loss: 1.6010 - val_accuracy: 0.9896 - 85ms/epoch - 9ms/step\n",
            "Epoch 153/450\n"
          ]
        },
        {
          "output_type": "stream",
          "name": "stderr",
          "text": [
            "WARNING:tensorflow:Can save best model only with val_acc available, skipping.\n"
          ]
        },
        {
          "output_type": "stream",
          "name": "stdout",
          "text": [
            "9/9 - 0s - loss: 0.1511 - accuracy: 0.9458 - val_loss: 1.6586 - val_accuracy: 0.9896 - 83ms/epoch - 9ms/step\n",
            "Epoch 154/450\n"
          ]
        },
        {
          "output_type": "stream",
          "name": "stderr",
          "text": [
            "WARNING:tensorflow:Can save best model only with val_acc available, skipping.\n"
          ]
        },
        {
          "output_type": "stream",
          "name": "stdout",
          "text": [
            "9/9 - 0s - loss: 0.0963 - accuracy: 0.9639 - val_loss: 1.8015 - val_accuracy: 0.9896 - 130ms/epoch - 14ms/step\n",
            "Epoch 155/450\n"
          ]
        },
        {
          "output_type": "stream",
          "name": "stderr",
          "text": [
            "WARNING:tensorflow:Can save best model only with val_acc available, skipping.\n"
          ]
        },
        {
          "output_type": "stream",
          "name": "stdout",
          "text": [
            "9/9 - 0s - loss: 0.1025 - accuracy: 0.9657 - val_loss: 1.6989 - val_accuracy: 0.9896 - 131ms/epoch - 15ms/step\n",
            "Epoch 156/450\n"
          ]
        },
        {
          "output_type": "stream",
          "name": "stderr",
          "text": [
            "WARNING:tensorflow:Can save best model only with val_acc available, skipping.\n"
          ]
        },
        {
          "output_type": "stream",
          "name": "stdout",
          "text": [
            "9/9 - 0s - loss: 0.1804 - accuracy: 0.9621 - val_loss: 1.7144 - val_accuracy: 0.9896 - 108ms/epoch - 12ms/step\n",
            "Epoch 157/450\n"
          ]
        },
        {
          "output_type": "stream",
          "name": "stderr",
          "text": [
            "WARNING:tensorflow:Can save best model only with val_acc available, skipping.\n"
          ]
        },
        {
          "output_type": "stream",
          "name": "stdout",
          "text": [
            "9/9 - 0s - loss: 0.1246 - accuracy: 0.9585 - val_loss: 1.6049 - val_accuracy: 0.9896 - 122ms/epoch - 14ms/step\n",
            "Epoch 158/450\n"
          ]
        },
        {
          "output_type": "stream",
          "name": "stderr",
          "text": [
            "WARNING:tensorflow:Can save best model only with val_acc available, skipping.\n"
          ]
        },
        {
          "output_type": "stream",
          "name": "stdout",
          "text": [
            "9/9 - 0s - loss: 0.1297 - accuracy: 0.9440 - val_loss: 1.4299 - val_accuracy: 0.9896 - 116ms/epoch - 13ms/step\n",
            "Epoch 159/450\n"
          ]
        },
        {
          "output_type": "stream",
          "name": "stderr",
          "text": [
            "WARNING:tensorflow:Can save best model only with val_acc available, skipping.\n"
          ]
        },
        {
          "output_type": "stream",
          "name": "stdout",
          "text": [
            "9/9 - 0s - loss: 0.1244 - accuracy: 0.9621 - val_loss: 1.4228 - val_accuracy: 0.9896 - 124ms/epoch - 14ms/step\n",
            "Epoch 160/450\n"
          ]
        },
        {
          "output_type": "stream",
          "name": "stderr",
          "text": [
            "WARNING:tensorflow:Can save best model only with val_acc available, skipping.\n"
          ]
        },
        {
          "output_type": "stream",
          "name": "stdout",
          "text": [
            "9/9 - 0s - loss: 0.1160 - accuracy: 0.9567 - val_loss: 1.4886 - val_accuracy: 0.9896 - 118ms/epoch - 13ms/step\n",
            "Epoch 161/450\n"
          ]
        },
        {
          "output_type": "stream",
          "name": "stderr",
          "text": [
            "WARNING:tensorflow:Can save best model only with val_acc available, skipping.\n"
          ]
        },
        {
          "output_type": "stream",
          "name": "stdout",
          "text": [
            "9/9 - 0s - loss: 0.1124 - accuracy: 0.9585 - val_loss: 1.5785 - val_accuracy: 0.9896 - 126ms/epoch - 14ms/step\n",
            "Epoch 162/450\n"
          ]
        },
        {
          "output_type": "stream",
          "name": "stderr",
          "text": [
            "WARNING:tensorflow:Can save best model only with val_acc available, skipping.\n"
          ]
        },
        {
          "output_type": "stream",
          "name": "stdout",
          "text": [
            "9/9 - 0s - loss: 0.1237 - accuracy: 0.9585 - val_loss: 1.6650 - val_accuracy: 0.9896 - 226ms/epoch - 25ms/step\n",
            "Epoch 163/450\n"
          ]
        },
        {
          "output_type": "stream",
          "name": "stderr",
          "text": [
            "WARNING:tensorflow:Can save best model only with val_acc available, skipping.\n"
          ]
        },
        {
          "output_type": "stream",
          "name": "stdout",
          "text": [
            "9/9 - 0s - loss: 0.1018 - accuracy: 0.9639 - val_loss: 1.7141 - val_accuracy: 0.9896 - 251ms/epoch - 28ms/step\n",
            "Epoch 164/450\n"
          ]
        },
        {
          "output_type": "stream",
          "name": "stderr",
          "text": [
            "WARNING:tensorflow:Can save best model only with val_acc available, skipping.\n"
          ]
        },
        {
          "output_type": "stream",
          "name": "stdout",
          "text": [
            "9/9 - 0s - loss: 0.1491 - accuracy: 0.9549 - val_loss: 1.7418 - val_accuracy: 0.9896 - 203ms/epoch - 23ms/step\n",
            "Epoch 165/450\n"
          ]
        },
        {
          "output_type": "stream",
          "name": "stderr",
          "text": [
            "WARNING:tensorflow:Can save best model only with val_acc available, skipping.\n"
          ]
        },
        {
          "output_type": "stream",
          "name": "stdout",
          "text": [
            "9/9 - 0s - loss: 0.0982 - accuracy: 0.9639 - val_loss: 1.6953 - val_accuracy: 0.9896 - 261ms/epoch - 29ms/step\n",
            "Epoch 166/450\n"
          ]
        },
        {
          "output_type": "stream",
          "name": "stderr",
          "text": [
            "WARNING:tensorflow:Can save best model only with val_acc available, skipping.\n"
          ]
        },
        {
          "output_type": "stream",
          "name": "stdout",
          "text": [
            "9/9 - 0s - loss: 0.1368 - accuracy: 0.9477 - val_loss: 1.6530 - val_accuracy: 0.9896 - 231ms/epoch - 26ms/step\n",
            "Epoch 167/450\n"
          ]
        },
        {
          "output_type": "stream",
          "name": "stderr",
          "text": [
            "WARNING:tensorflow:Can save best model only with val_acc available, skipping.\n"
          ]
        },
        {
          "output_type": "stream",
          "name": "stdout",
          "text": [
            "9/9 - 0s - loss: 0.1400 - accuracy: 0.9422 - val_loss: 1.5072 - val_accuracy: 0.9896 - 235ms/epoch - 26ms/step\n",
            "Epoch 168/450\n"
          ]
        },
        {
          "output_type": "stream",
          "name": "stderr",
          "text": [
            "WARNING:tensorflow:Can save best model only with val_acc available, skipping.\n"
          ]
        },
        {
          "output_type": "stream",
          "name": "stdout",
          "text": [
            "9/9 - 0s - loss: 0.1330 - accuracy: 0.9585 - val_loss: 1.4122 - val_accuracy: 0.9896 - 200ms/epoch - 22ms/step\n",
            "Epoch 169/450\n"
          ]
        },
        {
          "output_type": "stream",
          "name": "stderr",
          "text": [
            "WARNING:tensorflow:Can save best model only with val_acc available, skipping.\n"
          ]
        },
        {
          "output_type": "stream",
          "name": "stdout",
          "text": [
            "9/9 - 0s - loss: 0.1053 - accuracy: 0.9675 - val_loss: 1.4763 - val_accuracy: 0.9896 - 146ms/epoch - 16ms/step\n",
            "Epoch 170/450\n"
          ]
        },
        {
          "output_type": "stream",
          "name": "stderr",
          "text": [
            "WARNING:tensorflow:Can save best model only with val_acc available, skipping.\n"
          ]
        },
        {
          "output_type": "stream",
          "name": "stdout",
          "text": [
            "9/9 - 0s - loss: 0.1337 - accuracy: 0.9549 - val_loss: 1.5591 - val_accuracy: 0.9792 - 150ms/epoch - 17ms/step\n",
            "Epoch 171/450\n"
          ]
        },
        {
          "output_type": "stream",
          "name": "stderr",
          "text": [
            "WARNING:tensorflow:Can save best model only with val_acc available, skipping.\n"
          ]
        },
        {
          "output_type": "stream",
          "name": "stdout",
          "text": [
            "9/9 - 0s - loss: 0.1257 - accuracy: 0.9458 - val_loss: 1.4969 - val_accuracy: 0.9896 - 142ms/epoch - 16ms/step\n",
            "Epoch 172/450\n"
          ]
        },
        {
          "output_type": "stream",
          "name": "stderr",
          "text": [
            "WARNING:tensorflow:Can save best model only with val_acc available, skipping.\n"
          ]
        },
        {
          "output_type": "stream",
          "name": "stdout",
          "text": [
            "9/9 - 0s - loss: 0.1374 - accuracy: 0.9513 - val_loss: 1.5521 - val_accuracy: 0.9896 - 138ms/epoch - 15ms/step\n",
            "Epoch 173/450\n"
          ]
        },
        {
          "output_type": "stream",
          "name": "stderr",
          "text": [
            "WARNING:tensorflow:Can save best model only with val_acc available, skipping.\n"
          ]
        },
        {
          "output_type": "stream",
          "name": "stdout",
          "text": [
            "9/9 - 0s - loss: 0.0971 - accuracy: 0.9657 - val_loss: 1.4991 - val_accuracy: 0.9896 - 139ms/epoch - 15ms/step\n",
            "Epoch 174/450\n"
          ]
        },
        {
          "output_type": "stream",
          "name": "stderr",
          "text": [
            "WARNING:tensorflow:Can save best model only with val_acc available, skipping.\n"
          ]
        },
        {
          "output_type": "stream",
          "name": "stdout",
          "text": [
            "9/9 - 0s - loss: 0.1042 - accuracy: 0.9621 - val_loss: 1.4936 - val_accuracy: 0.9896 - 147ms/epoch - 16ms/step\n",
            "Epoch 175/450\n"
          ]
        },
        {
          "output_type": "stream",
          "name": "stderr",
          "text": [
            "WARNING:tensorflow:Can save best model only with val_acc available, skipping.\n"
          ]
        },
        {
          "output_type": "stream",
          "name": "stdout",
          "text": [
            "9/9 - 0s - loss: 0.1675 - accuracy: 0.9747 - val_loss: 1.3993 - val_accuracy: 0.9896 - 129ms/epoch - 14ms/step\n",
            "Epoch 176/450\n"
          ]
        },
        {
          "output_type": "stream",
          "name": "stderr",
          "text": [
            "WARNING:tensorflow:Can save best model only with val_acc available, skipping.\n"
          ]
        },
        {
          "output_type": "stream",
          "name": "stdout",
          "text": [
            "9/9 - 0s - loss: 0.1240 - accuracy: 0.9585 - val_loss: 1.3263 - val_accuracy: 0.9896 - 148ms/epoch - 16ms/step\n",
            "Epoch 177/450\n"
          ]
        },
        {
          "output_type": "stream",
          "name": "stderr",
          "text": [
            "WARNING:tensorflow:Can save best model only with val_acc available, skipping.\n"
          ]
        },
        {
          "output_type": "stream",
          "name": "stdout",
          "text": [
            "9/9 - 0s - loss: 0.1054 - accuracy: 0.9657 - val_loss: 1.3174 - val_accuracy: 0.9792 - 131ms/epoch - 15ms/step\n",
            "Epoch 178/450\n"
          ]
        },
        {
          "output_type": "stream",
          "name": "stderr",
          "text": [
            "WARNING:tensorflow:Can save best model only with val_acc available, skipping.\n"
          ]
        },
        {
          "output_type": "stream",
          "name": "stdout",
          "text": [
            "9/9 - 0s - loss: 0.1393 - accuracy: 0.9549 - val_loss: 1.2820 - val_accuracy: 0.9896 - 136ms/epoch - 15ms/step\n",
            "Epoch 179/450\n"
          ]
        },
        {
          "output_type": "stream",
          "name": "stderr",
          "text": [
            "WARNING:tensorflow:Can save best model only with val_acc available, skipping.\n"
          ]
        },
        {
          "output_type": "stream",
          "name": "stdout",
          "text": [
            "9/9 - 0s - loss: 0.1085 - accuracy: 0.9603 - val_loss: 1.3019 - val_accuracy: 0.9896 - 129ms/epoch - 14ms/step\n",
            "Epoch 180/450\n"
          ]
        },
        {
          "output_type": "stream",
          "name": "stderr",
          "text": [
            "WARNING:tensorflow:Can save best model only with val_acc available, skipping.\n"
          ]
        },
        {
          "output_type": "stream",
          "name": "stdout",
          "text": [
            "9/9 - 0s - loss: 0.1306 - accuracy: 0.9440 - val_loss: 1.2810 - val_accuracy: 0.9896 - 165ms/epoch - 18ms/step\n",
            "Epoch 181/450\n"
          ]
        },
        {
          "output_type": "stream",
          "name": "stderr",
          "text": [
            "WARNING:tensorflow:Can save best model only with val_acc available, skipping.\n"
          ]
        },
        {
          "output_type": "stream",
          "name": "stdout",
          "text": [
            "9/9 - 0s - loss: 0.1066 - accuracy: 0.9621 - val_loss: 1.5745 - val_accuracy: 0.9792 - 133ms/epoch - 15ms/step\n",
            "Epoch 182/450\n"
          ]
        },
        {
          "output_type": "stream",
          "name": "stderr",
          "text": [
            "WARNING:tensorflow:Can save best model only with val_acc available, skipping.\n"
          ]
        },
        {
          "output_type": "stream",
          "name": "stdout",
          "text": [
            "9/9 - 0s - loss: 0.1045 - accuracy: 0.9639 - val_loss: 1.7991 - val_accuracy: 0.9896 - 137ms/epoch - 15ms/step\n",
            "Epoch 183/450\n"
          ]
        },
        {
          "output_type": "stream",
          "name": "stderr",
          "text": [
            "WARNING:tensorflow:Can save best model only with val_acc available, skipping.\n"
          ]
        },
        {
          "output_type": "stream",
          "name": "stdout",
          "text": [
            "9/9 - 0s - loss: 0.1069 - accuracy: 0.9675 - val_loss: 1.5717 - val_accuracy: 0.9896 - 135ms/epoch - 15ms/step\n",
            "Epoch 184/450\n"
          ]
        },
        {
          "output_type": "stream",
          "name": "stderr",
          "text": [
            "WARNING:tensorflow:Can save best model only with val_acc available, skipping.\n"
          ]
        },
        {
          "output_type": "stream",
          "name": "stdout",
          "text": [
            "9/9 - 0s - loss: 0.0918 - accuracy: 0.9729 - val_loss: 1.4940 - val_accuracy: 0.9896 - 133ms/epoch - 15ms/step\n",
            "Epoch 185/450\n"
          ]
        },
        {
          "output_type": "stream",
          "name": "stderr",
          "text": [
            "WARNING:tensorflow:Can save best model only with val_acc available, skipping.\n"
          ]
        },
        {
          "output_type": "stream",
          "name": "stdout",
          "text": [
            "9/9 - 0s - loss: 0.1341 - accuracy: 0.9549 - val_loss: 1.5535 - val_accuracy: 0.9896 - 124ms/epoch - 14ms/step\n",
            "Epoch 186/450\n"
          ]
        },
        {
          "output_type": "stream",
          "name": "stderr",
          "text": [
            "WARNING:tensorflow:Can save best model only with val_acc available, skipping.\n"
          ]
        },
        {
          "output_type": "stream",
          "name": "stdout",
          "text": [
            "9/9 - 0s - loss: 0.1138 - accuracy: 0.9621 - val_loss: 1.4436 - val_accuracy: 0.9896 - 141ms/epoch - 16ms/step\n",
            "Epoch 187/450\n"
          ]
        },
        {
          "output_type": "stream",
          "name": "stderr",
          "text": [
            "WARNING:tensorflow:Can save best model only with val_acc available, skipping.\n"
          ]
        },
        {
          "output_type": "stream",
          "name": "stdout",
          "text": [
            "9/9 - 0s - loss: 0.1227 - accuracy: 0.9657 - val_loss: 1.3894 - val_accuracy: 0.9896 - 137ms/epoch - 15ms/step\n",
            "Epoch 188/450\n"
          ]
        },
        {
          "output_type": "stream",
          "name": "stderr",
          "text": [
            "WARNING:tensorflow:Can save best model only with val_acc available, skipping.\n"
          ]
        },
        {
          "output_type": "stream",
          "name": "stdout",
          "text": [
            "9/9 - 0s - loss: 0.0880 - accuracy: 0.9711 - val_loss: 1.2899 - val_accuracy: 0.9896 - 125ms/epoch - 14ms/step\n",
            "Epoch 189/450\n"
          ]
        },
        {
          "output_type": "stream",
          "name": "stderr",
          "text": [
            "WARNING:tensorflow:Can save best model only with val_acc available, skipping.\n"
          ]
        },
        {
          "output_type": "stream",
          "name": "stdout",
          "text": [
            "9/9 - 0s - loss: 0.1091 - accuracy: 0.9657 - val_loss: 1.3483 - val_accuracy: 0.9896 - 136ms/epoch - 15ms/step\n",
            "Epoch 190/450\n"
          ]
        },
        {
          "output_type": "stream",
          "name": "stderr",
          "text": [
            "WARNING:tensorflow:Can save best model only with val_acc available, skipping.\n"
          ]
        },
        {
          "output_type": "stream",
          "name": "stdout",
          "text": [
            "9/9 - 0s - loss: 0.1346 - accuracy: 0.9621 - val_loss: 1.3315 - val_accuracy: 0.9896 - 143ms/epoch - 16ms/step\n",
            "Epoch 191/450\n"
          ]
        },
        {
          "output_type": "stream",
          "name": "stderr",
          "text": [
            "WARNING:tensorflow:Can save best model only with val_acc available, skipping.\n"
          ]
        },
        {
          "output_type": "stream",
          "name": "stdout",
          "text": [
            "9/9 - 0s - loss: 0.0879 - accuracy: 0.9657 - val_loss: 1.3104 - val_accuracy: 0.9896 - 136ms/epoch - 15ms/step\n",
            "Epoch 192/450\n"
          ]
        },
        {
          "output_type": "stream",
          "name": "stderr",
          "text": [
            "WARNING:tensorflow:Can save best model only with val_acc available, skipping.\n"
          ]
        },
        {
          "output_type": "stream",
          "name": "stdout",
          "text": [
            "9/9 - 0s - loss: 0.0991 - accuracy: 0.9639 - val_loss: 1.4144 - val_accuracy: 0.9896 - 144ms/epoch - 16ms/step\n",
            "Epoch 193/450\n"
          ]
        },
        {
          "output_type": "stream",
          "name": "stderr",
          "text": [
            "WARNING:tensorflow:Can save best model only with val_acc available, skipping.\n"
          ]
        },
        {
          "output_type": "stream",
          "name": "stdout",
          "text": [
            "9/9 - 0s - loss: 0.1100 - accuracy: 0.9657 - val_loss: 1.3164 - val_accuracy: 0.9896 - 127ms/epoch - 14ms/step\n",
            "Epoch 194/450\n"
          ]
        },
        {
          "output_type": "stream",
          "name": "stderr",
          "text": [
            "WARNING:tensorflow:Can save best model only with val_acc available, skipping.\n"
          ]
        },
        {
          "output_type": "stream",
          "name": "stdout",
          "text": [
            "9/9 - 0s - loss: 0.0806 - accuracy: 0.9657 - val_loss: 1.3452 - val_accuracy: 0.9896 - 148ms/epoch - 16ms/step\n",
            "Epoch 195/450\n"
          ]
        },
        {
          "output_type": "stream",
          "name": "stderr",
          "text": [
            "WARNING:tensorflow:Can save best model only with val_acc available, skipping.\n"
          ]
        },
        {
          "output_type": "stream",
          "name": "stdout",
          "text": [
            "9/9 - 0s - loss: 0.0853 - accuracy: 0.9729 - val_loss: 1.5068 - val_accuracy: 0.9896 - 132ms/epoch - 15ms/step\n",
            "Epoch 196/450\n"
          ]
        },
        {
          "output_type": "stream",
          "name": "stderr",
          "text": [
            "WARNING:tensorflow:Can save best model only with val_acc available, skipping.\n"
          ]
        },
        {
          "output_type": "stream",
          "name": "stdout",
          "text": [
            "9/9 - 0s - loss: 0.1719 - accuracy: 0.9621 - val_loss: 1.1957 - val_accuracy: 0.9896 - 127ms/epoch - 14ms/step\n",
            "Epoch 197/450\n"
          ]
        },
        {
          "output_type": "stream",
          "name": "stderr",
          "text": [
            "WARNING:tensorflow:Can save best model only with val_acc available, skipping.\n"
          ]
        },
        {
          "output_type": "stream",
          "name": "stdout",
          "text": [
            "9/9 - 0s - loss: 0.0798 - accuracy: 0.9675 - val_loss: 1.0038 - val_accuracy: 0.9896 - 128ms/epoch - 14ms/step\n",
            "Epoch 198/450\n"
          ]
        },
        {
          "output_type": "stream",
          "name": "stderr",
          "text": [
            "WARNING:tensorflow:Can save best model only with val_acc available, skipping.\n"
          ]
        },
        {
          "output_type": "stream",
          "name": "stdout",
          "text": [
            "9/9 - 0s - loss: 0.1089 - accuracy: 0.9621 - val_loss: 1.1152 - val_accuracy: 0.9896 - 149ms/epoch - 17ms/step\n",
            "Epoch 199/450\n"
          ]
        },
        {
          "output_type": "stream",
          "name": "stderr",
          "text": [
            "WARNING:tensorflow:Can save best model only with val_acc available, skipping.\n"
          ]
        },
        {
          "output_type": "stream",
          "name": "stdout",
          "text": [
            "9/9 - 0s - loss: 0.0804 - accuracy: 0.9747 - val_loss: 1.2304 - val_accuracy: 0.9896 - 124ms/epoch - 14ms/step\n",
            "Epoch 200/450\n"
          ]
        },
        {
          "output_type": "stream",
          "name": "stderr",
          "text": [
            "WARNING:tensorflow:Can save best model only with val_acc available, skipping.\n"
          ]
        },
        {
          "output_type": "stream",
          "name": "stdout",
          "text": [
            "9/9 - 0s - loss: 0.0764 - accuracy: 0.9783 - val_loss: 1.2361 - val_accuracy: 0.9896 - 125ms/epoch - 14ms/step\n",
            "Epoch 201/450\n"
          ]
        },
        {
          "output_type": "stream",
          "name": "stderr",
          "text": [
            "WARNING:tensorflow:Can save best model only with val_acc available, skipping.\n"
          ]
        },
        {
          "output_type": "stream",
          "name": "stdout",
          "text": [
            "9/9 - 0s - loss: 0.0745 - accuracy: 0.9729 - val_loss: 1.3598 - val_accuracy: 0.9896 - 145ms/epoch - 16ms/step\n",
            "Epoch 202/450\n"
          ]
        },
        {
          "output_type": "stream",
          "name": "stderr",
          "text": [
            "WARNING:tensorflow:Can save best model only with val_acc available, skipping.\n"
          ]
        },
        {
          "output_type": "stream",
          "name": "stdout",
          "text": [
            "9/9 - 0s - loss: 0.1149 - accuracy: 0.9675 - val_loss: 1.3230 - val_accuracy: 0.9896 - 126ms/epoch - 14ms/step\n",
            "Epoch 203/450\n"
          ]
        },
        {
          "output_type": "stream",
          "name": "stderr",
          "text": [
            "WARNING:tensorflow:Can save best model only with val_acc available, skipping.\n"
          ]
        },
        {
          "output_type": "stream",
          "name": "stdout",
          "text": [
            "9/9 - 0s - loss: 0.0793 - accuracy: 0.9675 - val_loss: 1.3539 - val_accuracy: 0.9896 - 146ms/epoch - 16ms/step\n",
            "Epoch 204/450\n"
          ]
        },
        {
          "output_type": "stream",
          "name": "stderr",
          "text": [
            "WARNING:tensorflow:Can save best model only with val_acc available, skipping.\n"
          ]
        },
        {
          "output_type": "stream",
          "name": "stdout",
          "text": [
            "9/9 - 0s - loss: 0.1091 - accuracy: 0.9603 - val_loss: 1.2290 - val_accuracy: 0.9896 - 117ms/epoch - 13ms/step\n",
            "Epoch 205/450\n"
          ]
        },
        {
          "output_type": "stream",
          "name": "stderr",
          "text": [
            "WARNING:tensorflow:Can save best model only with val_acc available, skipping.\n"
          ]
        },
        {
          "output_type": "stream",
          "name": "stdout",
          "text": [
            "9/9 - 0s - loss: 0.1058 - accuracy: 0.9693 - val_loss: 1.2434 - val_accuracy: 0.9896 - 137ms/epoch - 15ms/step\n",
            "Epoch 206/450\n"
          ]
        },
        {
          "output_type": "stream",
          "name": "stderr",
          "text": [
            "WARNING:tensorflow:Can save best model only with val_acc available, skipping.\n"
          ]
        },
        {
          "output_type": "stream",
          "name": "stdout",
          "text": [
            "9/9 - 0s - loss: 0.0939 - accuracy: 0.9729 - val_loss: 1.0885 - val_accuracy: 0.9896 - 133ms/epoch - 15ms/step\n",
            "Epoch 207/450\n"
          ]
        },
        {
          "output_type": "stream",
          "name": "stderr",
          "text": [
            "WARNING:tensorflow:Can save best model only with val_acc available, skipping.\n"
          ]
        },
        {
          "output_type": "stream",
          "name": "stdout",
          "text": [
            "9/9 - 0s - loss: 0.0942 - accuracy: 0.9621 - val_loss: 1.0875 - val_accuracy: 0.9896 - 142ms/epoch - 16ms/step\n",
            "Epoch 208/450\n"
          ]
        },
        {
          "output_type": "stream",
          "name": "stderr",
          "text": [
            "WARNING:tensorflow:Can save best model only with val_acc available, skipping.\n"
          ]
        },
        {
          "output_type": "stream",
          "name": "stdout",
          "text": [
            "9/9 - 0s - loss: 0.1013 - accuracy: 0.9765 - val_loss: 0.9366 - val_accuracy: 0.9896 - 140ms/epoch - 16ms/step\n",
            "Epoch 209/450\n"
          ]
        },
        {
          "output_type": "stream",
          "name": "stderr",
          "text": [
            "WARNING:tensorflow:Can save best model only with val_acc available, skipping.\n"
          ]
        },
        {
          "output_type": "stream",
          "name": "stdout",
          "text": [
            "9/9 - 0s - loss: 0.1051 - accuracy: 0.9603 - val_loss: 0.8932 - val_accuracy: 0.9896 - 125ms/epoch - 14ms/step\n",
            "Epoch 210/450\n"
          ]
        },
        {
          "output_type": "stream",
          "name": "stderr",
          "text": [
            "WARNING:tensorflow:Can save best model only with val_acc available, skipping.\n"
          ]
        },
        {
          "output_type": "stream",
          "name": "stdout",
          "text": [
            "9/9 - 0s - loss: 0.0946 - accuracy: 0.9675 - val_loss: 1.0034 - val_accuracy: 0.9896 - 136ms/epoch - 15ms/step\n",
            "Epoch 211/450\n"
          ]
        },
        {
          "output_type": "stream",
          "name": "stderr",
          "text": [
            "WARNING:tensorflow:Can save best model only with val_acc available, skipping.\n"
          ]
        },
        {
          "output_type": "stream",
          "name": "stdout",
          "text": [
            "9/9 - 0s - loss: 0.0679 - accuracy: 0.9765 - val_loss: 1.0055 - val_accuracy: 0.9792 - 182ms/epoch - 20ms/step\n",
            "Epoch 212/450\n"
          ]
        },
        {
          "output_type": "stream",
          "name": "stderr",
          "text": [
            "WARNING:tensorflow:Can save best model only with val_acc available, skipping.\n"
          ]
        },
        {
          "output_type": "stream",
          "name": "stdout",
          "text": [
            "9/9 - 0s - loss: 0.0883 - accuracy: 0.9675 - val_loss: 1.1344 - val_accuracy: 0.9792 - 130ms/epoch - 14ms/step\n",
            "Epoch 213/450\n"
          ]
        },
        {
          "output_type": "stream",
          "name": "stderr",
          "text": [
            "WARNING:tensorflow:Can save best model only with val_acc available, skipping.\n"
          ]
        },
        {
          "output_type": "stream",
          "name": "stdout",
          "text": [
            "9/9 - 0s - loss: 0.1531 - accuracy: 0.9495 - val_loss: 0.9816 - val_accuracy: 0.9792 - 133ms/epoch - 15ms/step\n",
            "Epoch 214/450\n"
          ]
        },
        {
          "output_type": "stream",
          "name": "stderr",
          "text": [
            "WARNING:tensorflow:Can save best model only with val_acc available, skipping.\n"
          ]
        },
        {
          "output_type": "stream",
          "name": "stdout",
          "text": [
            "9/9 - 0s - loss: 0.1186 - accuracy: 0.9567 - val_loss: 1.2900 - val_accuracy: 0.9896 - 133ms/epoch - 15ms/step\n",
            "Epoch 215/450\n"
          ]
        },
        {
          "output_type": "stream",
          "name": "stderr",
          "text": [
            "WARNING:tensorflow:Can save best model only with val_acc available, skipping.\n"
          ]
        },
        {
          "output_type": "stream",
          "name": "stdout",
          "text": [
            "9/9 - 0s - loss: 0.1508 - accuracy: 0.9675 - val_loss: 1.1272 - val_accuracy: 0.9896 - 139ms/epoch - 15ms/step\n",
            "Epoch 216/450\n"
          ]
        },
        {
          "output_type": "stream",
          "name": "stderr",
          "text": [
            "WARNING:tensorflow:Can save best model only with val_acc available, skipping.\n"
          ]
        },
        {
          "output_type": "stream",
          "name": "stdout",
          "text": [
            "9/9 - 0s - loss: 0.1161 - accuracy: 0.9531 - val_loss: 0.8916 - val_accuracy: 0.9792 - 130ms/epoch - 14ms/step\n",
            "Epoch 217/450\n"
          ]
        },
        {
          "output_type": "stream",
          "name": "stderr",
          "text": [
            "WARNING:tensorflow:Can save best model only with val_acc available, skipping.\n"
          ]
        },
        {
          "output_type": "stream",
          "name": "stdout",
          "text": [
            "9/9 - 0s - loss: 0.0962 - accuracy: 0.9657 - val_loss: 0.9545 - val_accuracy: 0.9896 - 140ms/epoch - 16ms/step\n",
            "Epoch 218/450\n"
          ]
        },
        {
          "output_type": "stream",
          "name": "stderr",
          "text": [
            "WARNING:tensorflow:Can save best model only with val_acc available, skipping.\n"
          ]
        },
        {
          "output_type": "stream",
          "name": "stdout",
          "text": [
            "9/9 - 0s - loss: 0.0786 - accuracy: 0.9657 - val_loss: 1.0239 - val_accuracy: 0.9896 - 134ms/epoch - 15ms/step\n",
            "Epoch 219/450\n"
          ]
        },
        {
          "output_type": "stream",
          "name": "stderr",
          "text": [
            "WARNING:tensorflow:Can save best model only with val_acc available, skipping.\n"
          ]
        },
        {
          "output_type": "stream",
          "name": "stdout",
          "text": [
            "9/9 - 0s - loss: 0.0846 - accuracy: 0.9567 - val_loss: 0.9905 - val_accuracy: 0.9896 - 142ms/epoch - 16ms/step\n",
            "Epoch 220/450\n"
          ]
        },
        {
          "output_type": "stream",
          "name": "stderr",
          "text": [
            "WARNING:tensorflow:Can save best model only with val_acc available, skipping.\n"
          ]
        },
        {
          "output_type": "stream",
          "name": "stdout",
          "text": [
            "9/9 - 0s - loss: 0.0733 - accuracy: 0.9747 - val_loss: 0.9724 - val_accuracy: 0.9896 - 129ms/epoch - 14ms/step\n",
            "Epoch 221/450\n"
          ]
        },
        {
          "output_type": "stream",
          "name": "stderr",
          "text": [
            "WARNING:tensorflow:Can save best model only with val_acc available, skipping.\n"
          ]
        },
        {
          "output_type": "stream",
          "name": "stdout",
          "text": [
            "9/9 - 0s - loss: 0.0942 - accuracy: 0.9639 - val_loss: 0.9018 - val_accuracy: 0.9896 - 131ms/epoch - 15ms/step\n",
            "Epoch 222/450\n"
          ]
        },
        {
          "output_type": "stream",
          "name": "stderr",
          "text": [
            "WARNING:tensorflow:Can save best model only with val_acc available, skipping.\n"
          ]
        },
        {
          "output_type": "stream",
          "name": "stdout",
          "text": [
            "9/9 - 0s - loss: 0.0929 - accuracy: 0.9621 - val_loss: 0.9344 - val_accuracy: 0.9896 - 140ms/epoch - 16ms/step\n",
            "Epoch 223/450\n"
          ]
        },
        {
          "output_type": "stream",
          "name": "stderr",
          "text": [
            "WARNING:tensorflow:Can save best model only with val_acc available, skipping.\n"
          ]
        },
        {
          "output_type": "stream",
          "name": "stdout",
          "text": [
            "9/9 - 0s - loss: 0.0789 - accuracy: 0.9657 - val_loss: 0.8816 - val_accuracy: 0.9896 - 150ms/epoch - 17ms/step\n",
            "Epoch 224/450\n"
          ]
        },
        {
          "output_type": "stream",
          "name": "stderr",
          "text": [
            "WARNING:tensorflow:Can save best model only with val_acc available, skipping.\n"
          ]
        },
        {
          "output_type": "stream",
          "name": "stdout",
          "text": [
            "9/9 - 0s - loss: 0.0659 - accuracy: 0.9801 - val_loss: 0.8703 - val_accuracy: 0.9896 - 139ms/epoch - 15ms/step\n",
            "Epoch 225/450\n"
          ]
        },
        {
          "output_type": "stream",
          "name": "stderr",
          "text": [
            "WARNING:tensorflow:Can save best model only with val_acc available, skipping.\n"
          ]
        },
        {
          "output_type": "stream",
          "name": "stdout",
          "text": [
            "9/9 - 0s - loss: 0.0771 - accuracy: 0.9693 - val_loss: 0.9107 - val_accuracy: 0.9896 - 131ms/epoch - 15ms/step\n",
            "Epoch 226/450\n"
          ]
        },
        {
          "output_type": "stream",
          "name": "stderr",
          "text": [
            "WARNING:tensorflow:Can save best model only with val_acc available, skipping.\n"
          ]
        },
        {
          "output_type": "stream",
          "name": "stdout",
          "text": [
            "9/9 - 0s - loss: 0.0841 - accuracy: 0.9729 - val_loss: 0.6734 - val_accuracy: 0.9896 - 133ms/epoch - 15ms/step\n",
            "Epoch 227/450\n"
          ]
        },
        {
          "output_type": "stream",
          "name": "stderr",
          "text": [
            "WARNING:tensorflow:Can save best model only with val_acc available, skipping.\n"
          ]
        },
        {
          "output_type": "stream",
          "name": "stdout",
          "text": [
            "9/9 - 0s - loss: 0.1791 - accuracy: 0.9711 - val_loss: 0.8193 - val_accuracy: 0.9896 - 175ms/epoch - 19ms/step\n",
            "Epoch 228/450\n"
          ]
        },
        {
          "output_type": "stream",
          "name": "stderr",
          "text": [
            "WARNING:tensorflow:Can save best model only with val_acc available, skipping.\n"
          ]
        },
        {
          "output_type": "stream",
          "name": "stdout",
          "text": [
            "9/9 - 0s - loss: 0.0938 - accuracy: 0.9675 - val_loss: 1.1381 - val_accuracy: 0.9896 - 172ms/epoch - 19ms/step\n",
            "Epoch 229/450\n"
          ]
        },
        {
          "output_type": "stream",
          "name": "stderr",
          "text": [
            "WARNING:tensorflow:Can save best model only with val_acc available, skipping.\n"
          ]
        },
        {
          "output_type": "stream",
          "name": "stdout",
          "text": [
            "9/9 - 0s - loss: 0.0947 - accuracy: 0.9657 - val_loss: 1.1506 - val_accuracy: 0.9896 - 128ms/epoch - 14ms/step\n",
            "Epoch 230/450\n"
          ]
        },
        {
          "output_type": "stream",
          "name": "stderr",
          "text": [
            "WARNING:tensorflow:Can save best model only with val_acc available, skipping.\n"
          ]
        },
        {
          "output_type": "stream",
          "name": "stdout",
          "text": [
            "9/9 - 0s - loss: 0.0664 - accuracy: 0.9765 - val_loss: 1.2716 - val_accuracy: 0.9896 - 102ms/epoch - 11ms/step\n",
            "Epoch 231/450\n"
          ]
        },
        {
          "output_type": "stream",
          "name": "stderr",
          "text": [
            "WARNING:tensorflow:Can save best model only with val_acc available, skipping.\n"
          ]
        },
        {
          "output_type": "stream",
          "name": "stdout",
          "text": [
            "9/9 - 0s - loss: 0.0819 - accuracy: 0.9729 - val_loss: 1.2985 - val_accuracy: 0.9896 - 97ms/epoch - 11ms/step\n",
            "Epoch 232/450\n"
          ]
        },
        {
          "output_type": "stream",
          "name": "stderr",
          "text": [
            "WARNING:tensorflow:Can save best model only with val_acc available, skipping.\n"
          ]
        },
        {
          "output_type": "stream",
          "name": "stdout",
          "text": [
            "9/9 - 0s - loss: 0.1346 - accuracy: 0.9675 - val_loss: 1.2029 - val_accuracy: 0.9896 - 95ms/epoch - 11ms/step\n",
            "Epoch 233/450\n"
          ]
        },
        {
          "output_type": "stream",
          "name": "stderr",
          "text": [
            "WARNING:tensorflow:Can save best model only with val_acc available, skipping.\n"
          ]
        },
        {
          "output_type": "stream",
          "name": "stdout",
          "text": [
            "9/9 - 0s - loss: 0.0998 - accuracy: 0.9729 - val_loss: 1.2070 - val_accuracy: 0.9896 - 98ms/epoch - 11ms/step\n",
            "Epoch 234/450\n"
          ]
        },
        {
          "output_type": "stream",
          "name": "stderr",
          "text": [
            "WARNING:tensorflow:Can save best model only with val_acc available, skipping.\n"
          ]
        },
        {
          "output_type": "stream",
          "name": "stdout",
          "text": [
            "9/9 - 0s - loss: 0.0963 - accuracy: 0.9603 - val_loss: 1.0574 - val_accuracy: 0.9896 - 97ms/epoch - 11ms/step\n",
            "Epoch 235/450\n"
          ]
        },
        {
          "output_type": "stream",
          "name": "stderr",
          "text": [
            "WARNING:tensorflow:Can save best model only with val_acc available, skipping.\n"
          ]
        },
        {
          "output_type": "stream",
          "name": "stdout",
          "text": [
            "9/9 - 0s - loss: 0.1035 - accuracy: 0.9603 - val_loss: 0.9012 - val_accuracy: 0.9896 - 95ms/epoch - 11ms/step\n",
            "Epoch 236/450\n"
          ]
        },
        {
          "output_type": "stream",
          "name": "stderr",
          "text": [
            "WARNING:tensorflow:Can save best model only with val_acc available, skipping.\n"
          ]
        },
        {
          "output_type": "stream",
          "name": "stdout",
          "text": [
            "9/9 - 0s - loss: 0.0810 - accuracy: 0.9729 - val_loss: 0.9155 - val_accuracy: 0.9896 - 90ms/epoch - 10ms/step\n",
            "Epoch 237/450\n"
          ]
        },
        {
          "output_type": "stream",
          "name": "stderr",
          "text": [
            "WARNING:tensorflow:Can save best model only with val_acc available, skipping.\n"
          ]
        },
        {
          "output_type": "stream",
          "name": "stdout",
          "text": [
            "9/9 - 0s - loss: 0.0889 - accuracy: 0.9747 - val_loss: 0.9511 - val_accuracy: 0.9896 - 102ms/epoch - 11ms/step\n",
            "Epoch 238/450\n"
          ]
        },
        {
          "output_type": "stream",
          "name": "stderr",
          "text": [
            "WARNING:tensorflow:Can save best model only with val_acc available, skipping.\n"
          ]
        },
        {
          "output_type": "stream",
          "name": "stdout",
          "text": [
            "9/9 - 0s - loss: 0.0784 - accuracy: 0.9693 - val_loss: 0.9598 - val_accuracy: 0.9896 - 125ms/epoch - 14ms/step\n",
            "Epoch 239/450\n"
          ]
        },
        {
          "output_type": "stream",
          "name": "stderr",
          "text": [
            "WARNING:tensorflow:Can save best model only with val_acc available, skipping.\n"
          ]
        },
        {
          "output_type": "stream",
          "name": "stdout",
          "text": [
            "9/9 - 0s - loss: 0.0734 - accuracy: 0.9729 - val_loss: 1.0043 - val_accuracy: 0.9896 - 119ms/epoch - 13ms/step\n",
            "Epoch 240/450\n"
          ]
        },
        {
          "output_type": "stream",
          "name": "stderr",
          "text": [
            "WARNING:tensorflow:Can save best model only with val_acc available, skipping.\n"
          ]
        },
        {
          "output_type": "stream",
          "name": "stdout",
          "text": [
            "9/9 - 0s - loss: 0.0699 - accuracy: 0.9711 - val_loss: 1.0353 - val_accuracy: 0.9896 - 123ms/epoch - 14ms/step\n",
            "Epoch 241/450\n"
          ]
        },
        {
          "output_type": "stream",
          "name": "stderr",
          "text": [
            "WARNING:tensorflow:Can save best model only with val_acc available, skipping.\n"
          ]
        },
        {
          "output_type": "stream",
          "name": "stdout",
          "text": [
            "9/9 - 0s - loss: 0.0542 - accuracy: 0.9765 - val_loss: 1.0931 - val_accuracy: 0.9896 - 126ms/epoch - 14ms/step\n",
            "Epoch 242/450\n"
          ]
        },
        {
          "output_type": "stream",
          "name": "stderr",
          "text": [
            "WARNING:tensorflow:Can save best model only with val_acc available, skipping.\n"
          ]
        },
        {
          "output_type": "stream",
          "name": "stdout",
          "text": [
            "9/9 - 0s - loss: 0.0791 - accuracy: 0.9693 - val_loss: 1.0253 - val_accuracy: 0.9896 - 127ms/epoch - 14ms/step\n",
            "Epoch 243/450\n"
          ]
        },
        {
          "output_type": "stream",
          "name": "stderr",
          "text": [
            "WARNING:tensorflow:Can save best model only with val_acc available, skipping.\n"
          ]
        },
        {
          "output_type": "stream",
          "name": "stdout",
          "text": [
            "9/9 - 0s - loss: 0.0619 - accuracy: 0.9765 - val_loss: 0.9662 - val_accuracy: 0.9896 - 112ms/epoch - 12ms/step\n",
            "Epoch 244/450\n"
          ]
        },
        {
          "output_type": "stream",
          "name": "stderr",
          "text": [
            "WARNING:tensorflow:Can save best model only with val_acc available, skipping.\n"
          ]
        },
        {
          "output_type": "stream",
          "name": "stdout",
          "text": [
            "9/9 - 0s - loss: 0.0404 - accuracy: 0.9856 - val_loss: 0.9891 - val_accuracy: 0.9896 - 105ms/epoch - 12ms/step\n",
            "Epoch 245/450\n"
          ]
        },
        {
          "output_type": "stream",
          "name": "stderr",
          "text": [
            "WARNING:tensorflow:Can save best model only with val_acc available, skipping.\n"
          ]
        },
        {
          "output_type": "stream",
          "name": "stdout",
          "text": [
            "9/9 - 0s - loss: 0.0855 - accuracy: 0.9711 - val_loss: 1.0298 - val_accuracy: 0.9896 - 105ms/epoch - 12ms/step\n",
            "Epoch 246/450\n"
          ]
        },
        {
          "output_type": "stream",
          "name": "stderr",
          "text": [
            "WARNING:tensorflow:Can save best model only with val_acc available, skipping.\n"
          ]
        },
        {
          "output_type": "stream",
          "name": "stdout",
          "text": [
            "9/9 - 0s - loss: 0.0753 - accuracy: 0.9765 - val_loss: 1.0427 - val_accuracy: 0.9896 - 139ms/epoch - 15ms/step\n",
            "Epoch 247/450\n"
          ]
        },
        {
          "output_type": "stream",
          "name": "stderr",
          "text": [
            "WARNING:tensorflow:Can save best model only with val_acc available, skipping.\n"
          ]
        },
        {
          "output_type": "stream",
          "name": "stdout",
          "text": [
            "9/9 - 0s - loss: 0.0862 - accuracy: 0.9747 - val_loss: 0.9680 - val_accuracy: 0.9896 - 133ms/epoch - 15ms/step\n",
            "Epoch 248/450\n"
          ]
        },
        {
          "output_type": "stream",
          "name": "stderr",
          "text": [
            "WARNING:tensorflow:Can save best model only with val_acc available, skipping.\n"
          ]
        },
        {
          "output_type": "stream",
          "name": "stdout",
          "text": [
            "9/9 - 0s - loss: 0.0563 - accuracy: 0.9819 - val_loss: 0.9772 - val_accuracy: 0.9896 - 126ms/epoch - 14ms/step\n",
            "Epoch 249/450\n"
          ]
        },
        {
          "output_type": "stream",
          "name": "stderr",
          "text": [
            "WARNING:tensorflow:Can save best model only with val_acc available, skipping.\n"
          ]
        },
        {
          "output_type": "stream",
          "name": "stdout",
          "text": [
            "9/9 - 0s - loss: 0.0885 - accuracy: 0.9657 - val_loss: 0.9456 - val_accuracy: 0.9896 - 124ms/epoch - 14ms/step\n",
            "Epoch 250/450\n"
          ]
        },
        {
          "output_type": "stream",
          "name": "stderr",
          "text": [
            "WARNING:tensorflow:Can save best model only with val_acc available, skipping.\n"
          ]
        },
        {
          "output_type": "stream",
          "name": "stdout",
          "text": [
            "9/9 - 0s - loss: 0.0845 - accuracy: 0.9639 - val_loss: 0.8501 - val_accuracy: 0.9896 - 110ms/epoch - 12ms/step\n",
            "Epoch 251/450\n"
          ]
        },
        {
          "output_type": "stream",
          "name": "stderr",
          "text": [
            "WARNING:tensorflow:Can save best model only with val_acc available, skipping.\n"
          ]
        },
        {
          "output_type": "stream",
          "name": "stdout",
          "text": [
            "9/9 - 0s - loss: 0.0615 - accuracy: 0.9783 - val_loss: 0.8579 - val_accuracy: 0.9896 - 126ms/epoch - 14ms/step\n",
            "Epoch 252/450\n"
          ]
        },
        {
          "output_type": "stream",
          "name": "stderr",
          "text": [
            "WARNING:tensorflow:Can save best model only with val_acc available, skipping.\n"
          ]
        },
        {
          "output_type": "stream",
          "name": "stdout",
          "text": [
            "9/9 - 0s - loss: 0.0552 - accuracy: 0.9729 - val_loss: 0.8566 - val_accuracy: 0.9896 - 119ms/epoch - 13ms/step\n",
            "Epoch 253/450\n"
          ]
        },
        {
          "output_type": "stream",
          "name": "stderr",
          "text": [
            "WARNING:tensorflow:Can save best model only with val_acc available, skipping.\n"
          ]
        },
        {
          "output_type": "stream",
          "name": "stdout",
          "text": [
            "9/9 - 0s - loss: 0.0763 - accuracy: 0.9729 - val_loss: 0.8189 - val_accuracy: 0.9896 - 124ms/epoch - 14ms/step\n",
            "Epoch 254/450\n"
          ]
        },
        {
          "output_type": "stream",
          "name": "stderr",
          "text": [
            "WARNING:tensorflow:Can save best model only with val_acc available, skipping.\n"
          ]
        },
        {
          "output_type": "stream",
          "name": "stdout",
          "text": [
            "9/9 - 0s - loss: 0.0721 - accuracy: 0.9747 - val_loss: 0.7603 - val_accuracy: 0.9896 - 128ms/epoch - 14ms/step\n",
            "Epoch 255/450\n"
          ]
        },
        {
          "output_type": "stream",
          "name": "stderr",
          "text": [
            "WARNING:tensorflow:Can save best model only with val_acc available, skipping.\n"
          ]
        },
        {
          "output_type": "stream",
          "name": "stdout",
          "text": [
            "9/9 - 0s - loss: 0.0871 - accuracy: 0.9639 - val_loss: 0.7212 - val_accuracy: 0.9896 - 132ms/epoch - 15ms/step\n",
            "Epoch 256/450\n"
          ]
        },
        {
          "output_type": "stream",
          "name": "stderr",
          "text": [
            "WARNING:tensorflow:Can save best model only with val_acc available, skipping.\n"
          ]
        },
        {
          "output_type": "stream",
          "name": "stdout",
          "text": [
            "9/9 - 0s - loss: 0.0673 - accuracy: 0.9711 - val_loss: 0.7272 - val_accuracy: 0.9896 - 131ms/epoch - 15ms/step\n",
            "Epoch 257/450\n"
          ]
        },
        {
          "output_type": "stream",
          "name": "stderr",
          "text": [
            "WARNING:tensorflow:Can save best model only with val_acc available, skipping.\n"
          ]
        },
        {
          "output_type": "stream",
          "name": "stdout",
          "text": [
            "9/9 - 0s - loss: 0.1834 - accuracy: 0.9693 - val_loss: 0.5150 - val_accuracy: 0.9896 - 102ms/epoch - 11ms/step\n",
            "Epoch 258/450\n"
          ]
        },
        {
          "output_type": "stream",
          "name": "stderr",
          "text": [
            "WARNING:tensorflow:Can save best model only with val_acc available, skipping.\n"
          ]
        },
        {
          "output_type": "stream",
          "name": "stdout",
          "text": [
            "9/9 - 0s - loss: 0.1341 - accuracy: 0.9531 - val_loss: 0.5975 - val_accuracy: 0.9896 - 92ms/epoch - 10ms/step\n",
            "Epoch 259/450\n"
          ]
        },
        {
          "output_type": "stream",
          "name": "stderr",
          "text": [
            "WARNING:tensorflow:Can save best model only with val_acc available, skipping.\n"
          ]
        },
        {
          "output_type": "stream",
          "name": "stdout",
          "text": [
            "9/9 - 0s - loss: 0.1031 - accuracy: 0.9711 - val_loss: 0.6309 - val_accuracy: 0.9896 - 95ms/epoch - 11ms/step\n",
            "Epoch 260/450\n"
          ]
        },
        {
          "output_type": "stream",
          "name": "stderr",
          "text": [
            "WARNING:tensorflow:Can save best model only with val_acc available, skipping.\n"
          ]
        },
        {
          "output_type": "stream",
          "name": "stdout",
          "text": [
            "9/9 - 0s - loss: 0.0991 - accuracy: 0.9639 - val_loss: 0.6504 - val_accuracy: 0.9896 - 91ms/epoch - 10ms/step\n",
            "Epoch 261/450\n"
          ]
        },
        {
          "output_type": "stream",
          "name": "stderr",
          "text": [
            "WARNING:tensorflow:Can save best model only with val_acc available, skipping.\n"
          ]
        },
        {
          "output_type": "stream",
          "name": "stdout",
          "text": [
            "9/9 - 0s - loss: 0.0743 - accuracy: 0.9729 - val_loss: 0.5894 - val_accuracy: 0.9896 - 92ms/epoch - 10ms/step\n",
            "Epoch 262/450\n"
          ]
        },
        {
          "output_type": "stream",
          "name": "stderr",
          "text": [
            "WARNING:tensorflow:Can save best model only with val_acc available, skipping.\n"
          ]
        },
        {
          "output_type": "stream",
          "name": "stdout",
          "text": [
            "9/9 - 0s - loss: 0.0889 - accuracy: 0.9729 - val_loss: 0.6188 - val_accuracy: 0.9896 - 111ms/epoch - 12ms/step\n",
            "Epoch 263/450\n"
          ]
        },
        {
          "output_type": "stream",
          "name": "stderr",
          "text": [
            "WARNING:tensorflow:Can save best model only with val_acc available, skipping.\n"
          ]
        },
        {
          "output_type": "stream",
          "name": "stdout",
          "text": [
            "9/9 - 0s - loss: 0.0645 - accuracy: 0.9783 - val_loss: 0.8026 - val_accuracy: 0.9896 - 109ms/epoch - 12ms/step\n",
            "Epoch 264/450\n"
          ]
        },
        {
          "output_type": "stream",
          "name": "stderr",
          "text": [
            "WARNING:tensorflow:Can save best model only with val_acc available, skipping.\n"
          ]
        },
        {
          "output_type": "stream",
          "name": "stdout",
          "text": [
            "9/9 - 0s - loss: 0.0604 - accuracy: 0.9874 - val_loss: 0.8768 - val_accuracy: 0.9896 - 94ms/epoch - 10ms/step\n",
            "Epoch 265/450\n"
          ]
        },
        {
          "output_type": "stream",
          "name": "stderr",
          "text": [
            "WARNING:tensorflow:Can save best model only with val_acc available, skipping.\n"
          ]
        },
        {
          "output_type": "stream",
          "name": "stdout",
          "text": [
            "9/9 - 0s - loss: 0.0802 - accuracy: 0.9657 - val_loss: 0.8488 - val_accuracy: 0.9896 - 93ms/epoch - 10ms/step\n",
            "Epoch 266/450\n"
          ]
        },
        {
          "output_type": "stream",
          "name": "stderr",
          "text": [
            "WARNING:tensorflow:Can save best model only with val_acc available, skipping.\n"
          ]
        },
        {
          "output_type": "stream",
          "name": "stdout",
          "text": [
            "9/9 - 0s - loss: 0.0815 - accuracy: 0.9693 - val_loss: 0.7278 - val_accuracy: 0.9896 - 103ms/epoch - 11ms/step\n",
            "Epoch 267/450\n"
          ]
        },
        {
          "output_type": "stream",
          "name": "stderr",
          "text": [
            "WARNING:tensorflow:Can save best model only with val_acc available, skipping.\n"
          ]
        },
        {
          "output_type": "stream",
          "name": "stdout",
          "text": [
            "9/9 - 0s - loss: 0.0828 - accuracy: 0.9639 - val_loss: 0.6548 - val_accuracy: 0.9896 - 108ms/epoch - 12ms/step\n",
            "Epoch 268/450\n"
          ]
        },
        {
          "output_type": "stream",
          "name": "stderr",
          "text": [
            "WARNING:tensorflow:Can save best model only with val_acc available, skipping.\n"
          ]
        },
        {
          "output_type": "stream",
          "name": "stdout",
          "text": [
            "9/9 - 0s - loss: 0.0674 - accuracy: 0.9783 - val_loss: 0.5740 - val_accuracy: 0.9896 - 106ms/epoch - 12ms/step\n",
            "Epoch 269/450\n"
          ]
        },
        {
          "output_type": "stream",
          "name": "stderr",
          "text": [
            "WARNING:tensorflow:Can save best model only with val_acc available, skipping.\n"
          ]
        },
        {
          "output_type": "stream",
          "name": "stdout",
          "text": [
            "9/9 - 0s - loss: 0.0715 - accuracy: 0.9675 - val_loss: 0.5437 - val_accuracy: 0.9896 - 92ms/epoch - 10ms/step\n",
            "Epoch 270/450\n"
          ]
        },
        {
          "output_type": "stream",
          "name": "stderr",
          "text": [
            "WARNING:tensorflow:Can save best model only with val_acc available, skipping.\n"
          ]
        },
        {
          "output_type": "stream",
          "name": "stdout",
          "text": [
            "9/9 - 0s - loss: 0.0865 - accuracy: 0.9675 - val_loss: 0.6746 - val_accuracy: 0.9896 - 91ms/epoch - 10ms/step\n",
            "Epoch 271/450\n"
          ]
        },
        {
          "output_type": "stream",
          "name": "stderr",
          "text": [
            "WARNING:tensorflow:Can save best model only with val_acc available, skipping.\n"
          ]
        },
        {
          "output_type": "stream",
          "name": "stdout",
          "text": [
            "9/9 - 0s - loss: 0.0961 - accuracy: 0.9621 - val_loss: 0.6236 - val_accuracy: 0.9896 - 88ms/epoch - 10ms/step\n",
            "Epoch 272/450\n"
          ]
        },
        {
          "output_type": "stream",
          "name": "stderr",
          "text": [
            "WARNING:tensorflow:Can save best model only with val_acc available, skipping.\n"
          ]
        },
        {
          "output_type": "stream",
          "name": "stdout",
          "text": [
            "9/9 - 0s - loss: 0.0842 - accuracy: 0.9621 - val_loss: 0.5500 - val_accuracy: 0.9896 - 111ms/epoch - 12ms/step\n",
            "Epoch 273/450\n"
          ]
        },
        {
          "output_type": "stream",
          "name": "stderr",
          "text": [
            "WARNING:tensorflow:Can save best model only with val_acc available, skipping.\n"
          ]
        },
        {
          "output_type": "stream",
          "name": "stdout",
          "text": [
            "9/9 - 0s - loss: 0.0603 - accuracy: 0.9801 - val_loss: 0.5179 - val_accuracy: 0.9896 - 85ms/epoch - 9ms/step\n",
            "Epoch 274/450\n"
          ]
        },
        {
          "output_type": "stream",
          "name": "stderr",
          "text": [
            "WARNING:tensorflow:Can save best model only with val_acc available, skipping.\n"
          ]
        },
        {
          "output_type": "stream",
          "name": "stdout",
          "text": [
            "9/9 - 0s - loss: 0.0710 - accuracy: 0.9765 - val_loss: 0.5988 - val_accuracy: 0.9896 - 101ms/epoch - 11ms/step\n",
            "Epoch 275/450\n"
          ]
        },
        {
          "output_type": "stream",
          "name": "stderr",
          "text": [
            "WARNING:tensorflow:Can save best model only with val_acc available, skipping.\n"
          ]
        },
        {
          "output_type": "stream",
          "name": "stdout",
          "text": [
            "9/9 - 0s - loss: 0.0750 - accuracy: 0.9693 - val_loss: 0.8252 - val_accuracy: 0.9896 - 112ms/epoch - 12ms/step\n",
            "Epoch 276/450\n"
          ]
        },
        {
          "output_type": "stream",
          "name": "stderr",
          "text": [
            "WARNING:tensorflow:Can save best model only with val_acc available, skipping.\n"
          ]
        },
        {
          "output_type": "stream",
          "name": "stdout",
          "text": [
            "9/9 - 0s - loss: 0.0959 - accuracy: 0.9675 - val_loss: 0.7705 - val_accuracy: 0.9896 - 94ms/epoch - 10ms/step\n",
            "Epoch 277/450\n"
          ]
        },
        {
          "output_type": "stream",
          "name": "stderr",
          "text": [
            "WARNING:tensorflow:Can save best model only with val_acc available, skipping.\n"
          ]
        },
        {
          "output_type": "stream",
          "name": "stdout",
          "text": [
            "9/9 - 0s - loss: 0.0702 - accuracy: 0.9729 - val_loss: 0.7604 - val_accuracy: 0.9896 - 85ms/epoch - 9ms/step\n",
            "Epoch 278/450\n"
          ]
        },
        {
          "output_type": "stream",
          "name": "stderr",
          "text": [
            "WARNING:tensorflow:Can save best model only with val_acc available, skipping.\n"
          ]
        },
        {
          "output_type": "stream",
          "name": "stdout",
          "text": [
            "9/9 - 0s - loss: 0.0786 - accuracy: 0.9747 - val_loss: 0.6225 - val_accuracy: 0.9896 - 93ms/epoch - 10ms/step\n",
            "Epoch 279/450\n"
          ]
        },
        {
          "output_type": "stream",
          "name": "stderr",
          "text": [
            "WARNING:tensorflow:Can save best model only with val_acc available, skipping.\n"
          ]
        },
        {
          "output_type": "stream",
          "name": "stdout",
          "text": [
            "9/9 - 0s - loss: 0.0576 - accuracy: 0.9892 - val_loss: 0.5554 - val_accuracy: 0.9896 - 102ms/epoch - 11ms/step\n",
            "Epoch 280/450\n"
          ]
        },
        {
          "output_type": "stream",
          "name": "stderr",
          "text": [
            "WARNING:tensorflow:Can save best model only with val_acc available, skipping.\n"
          ]
        },
        {
          "output_type": "stream",
          "name": "stdout",
          "text": [
            "9/9 - 0s - loss: 0.0772 - accuracy: 0.9711 - val_loss: 0.4892 - val_accuracy: 0.9896 - 87ms/epoch - 10ms/step\n",
            "Epoch 281/450\n"
          ]
        },
        {
          "output_type": "stream",
          "name": "stderr",
          "text": [
            "WARNING:tensorflow:Can save best model only with val_acc available, skipping.\n"
          ]
        },
        {
          "output_type": "stream",
          "name": "stdout",
          "text": [
            "9/9 - 0s - loss: 0.0963 - accuracy: 0.9711 - val_loss: 0.4684 - val_accuracy: 0.9792 - 86ms/epoch - 10ms/step\n",
            "Epoch 282/450\n"
          ]
        },
        {
          "output_type": "stream",
          "name": "stderr",
          "text": [
            "WARNING:tensorflow:Can save best model only with val_acc available, skipping.\n"
          ]
        },
        {
          "output_type": "stream",
          "name": "stdout",
          "text": [
            "9/9 - 0s - loss: 0.0822 - accuracy: 0.9765 - val_loss: 0.4307 - val_accuracy: 0.9896 - 112ms/epoch - 12ms/step\n",
            "Epoch 283/450\n"
          ]
        },
        {
          "output_type": "stream",
          "name": "stderr",
          "text": [
            "WARNING:tensorflow:Can save best model only with val_acc available, skipping.\n"
          ]
        },
        {
          "output_type": "stream",
          "name": "stdout",
          "text": [
            "9/9 - 0s - loss: 0.0740 - accuracy: 0.9729 - val_loss: 0.5058 - val_accuracy: 0.9896 - 98ms/epoch - 11ms/step\n",
            "Epoch 284/450\n"
          ]
        },
        {
          "output_type": "stream",
          "name": "stderr",
          "text": [
            "WARNING:tensorflow:Can save best model only with val_acc available, skipping.\n"
          ]
        },
        {
          "output_type": "stream",
          "name": "stdout",
          "text": [
            "9/9 - 0s - loss: 0.0633 - accuracy: 0.9765 - val_loss: 0.5326 - val_accuracy: 0.9896 - 112ms/epoch - 12ms/step\n",
            "Epoch 285/450\n"
          ]
        },
        {
          "output_type": "stream",
          "name": "stderr",
          "text": [
            "WARNING:tensorflow:Can save best model only with val_acc available, skipping.\n"
          ]
        },
        {
          "output_type": "stream",
          "name": "stdout",
          "text": [
            "9/9 - 0s - loss: 0.0985 - accuracy: 0.9729 - val_loss: 0.5339 - val_accuracy: 0.9896 - 92ms/epoch - 10ms/step\n",
            "Epoch 286/450\n"
          ]
        },
        {
          "output_type": "stream",
          "name": "stderr",
          "text": [
            "WARNING:tensorflow:Can save best model only with val_acc available, skipping.\n"
          ]
        },
        {
          "output_type": "stream",
          "name": "stdout",
          "text": [
            "9/9 - 0s - loss: 0.0694 - accuracy: 0.9765 - val_loss: 0.5719 - val_accuracy: 0.9896 - 98ms/epoch - 11ms/step\n",
            "Epoch 287/450\n"
          ]
        },
        {
          "output_type": "stream",
          "name": "stderr",
          "text": [
            "WARNING:tensorflow:Can save best model only with val_acc available, skipping.\n"
          ]
        },
        {
          "output_type": "stream",
          "name": "stdout",
          "text": [
            "9/9 - 0s - loss: 0.0840 - accuracy: 0.9693 - val_loss: 0.6463 - val_accuracy: 0.9896 - 104ms/epoch - 12ms/step\n",
            "Epoch 288/450\n"
          ]
        },
        {
          "output_type": "stream",
          "name": "stderr",
          "text": [
            "WARNING:tensorflow:Can save best model only with val_acc available, skipping.\n"
          ]
        },
        {
          "output_type": "stream",
          "name": "stdout",
          "text": [
            "9/9 - 0s - loss: 0.0598 - accuracy: 0.9801 - val_loss: 0.6534 - val_accuracy: 0.9896 - 108ms/epoch - 12ms/step\n",
            "Epoch 289/450\n"
          ]
        },
        {
          "output_type": "stream",
          "name": "stderr",
          "text": [
            "WARNING:tensorflow:Can save best model only with val_acc available, skipping.\n"
          ]
        },
        {
          "output_type": "stream",
          "name": "stdout",
          "text": [
            "9/9 - 0s - loss: 0.0463 - accuracy: 0.9856 - val_loss: 0.6426 - val_accuracy: 0.9896 - 92ms/epoch - 10ms/step\n",
            "Epoch 290/450\n"
          ]
        },
        {
          "output_type": "stream",
          "name": "stderr",
          "text": [
            "WARNING:tensorflow:Can save best model only with val_acc available, skipping.\n"
          ]
        },
        {
          "output_type": "stream",
          "name": "stdout",
          "text": [
            "9/9 - 0s - loss: 0.0704 - accuracy: 0.9747 - val_loss: 0.6995 - val_accuracy: 0.9896 - 91ms/epoch - 10ms/step\n",
            "Epoch 291/450\n"
          ]
        },
        {
          "output_type": "stream",
          "name": "stderr",
          "text": [
            "WARNING:tensorflow:Can save best model only with val_acc available, skipping.\n"
          ]
        },
        {
          "output_type": "stream",
          "name": "stdout",
          "text": [
            "9/9 - 0s - loss: 0.0687 - accuracy: 0.9765 - val_loss: 0.7075 - val_accuracy: 0.9896 - 89ms/epoch - 10ms/step\n",
            "Epoch 292/450\n"
          ]
        },
        {
          "output_type": "stream",
          "name": "stderr",
          "text": [
            "WARNING:tensorflow:Can save best model only with val_acc available, skipping.\n"
          ]
        },
        {
          "output_type": "stream",
          "name": "stdout",
          "text": [
            "9/9 - 0s - loss: 0.0660 - accuracy: 0.9783 - val_loss: 0.6968 - val_accuracy: 0.9896 - 103ms/epoch - 11ms/step\n",
            "Epoch 293/450\n"
          ]
        },
        {
          "output_type": "stream",
          "name": "stderr",
          "text": [
            "WARNING:tensorflow:Can save best model only with val_acc available, skipping.\n"
          ]
        },
        {
          "output_type": "stream",
          "name": "stdout",
          "text": [
            "9/9 - 0s - loss: 0.0674 - accuracy: 0.9783 - val_loss: 0.5774 - val_accuracy: 0.9896 - 91ms/epoch - 10ms/step\n",
            "Epoch 294/450\n"
          ]
        },
        {
          "output_type": "stream",
          "name": "stderr",
          "text": [
            "WARNING:tensorflow:Can save best model only with val_acc available, skipping.\n"
          ]
        },
        {
          "output_type": "stream",
          "name": "stdout",
          "text": [
            "9/9 - 0s - loss: 0.0533 - accuracy: 0.9783 - val_loss: 0.3829 - val_accuracy: 0.9896 - 100ms/epoch - 11ms/step\n",
            "Epoch 295/450\n"
          ]
        },
        {
          "output_type": "stream",
          "name": "stderr",
          "text": [
            "WARNING:tensorflow:Can save best model only with val_acc available, skipping.\n"
          ]
        },
        {
          "output_type": "stream",
          "name": "stdout",
          "text": [
            "9/9 - 0s - loss: 0.0968 - accuracy: 0.9639 - val_loss: 0.3593 - val_accuracy: 0.9896 - 107ms/epoch - 12ms/step\n",
            "Epoch 296/450\n"
          ]
        },
        {
          "output_type": "stream",
          "name": "stderr",
          "text": [
            "WARNING:tensorflow:Can save best model only with val_acc available, skipping.\n"
          ]
        },
        {
          "output_type": "stream",
          "name": "stdout",
          "text": [
            "9/9 - 0s - loss: 0.0739 - accuracy: 0.9765 - val_loss: 0.3473 - val_accuracy: 0.9896 - 100ms/epoch - 11ms/step\n",
            "Epoch 297/450\n"
          ]
        },
        {
          "output_type": "stream",
          "name": "stderr",
          "text": [
            "WARNING:tensorflow:Can save best model only with val_acc available, skipping.\n"
          ]
        },
        {
          "output_type": "stream",
          "name": "stdout",
          "text": [
            "9/9 - 0s - loss: 0.0961 - accuracy: 0.9621 - val_loss: 0.3432 - val_accuracy: 0.9896 - 90ms/epoch - 10ms/step\n",
            "Epoch 298/450\n"
          ]
        },
        {
          "output_type": "stream",
          "name": "stderr",
          "text": [
            "WARNING:tensorflow:Can save best model only with val_acc available, skipping.\n"
          ]
        },
        {
          "output_type": "stream",
          "name": "stdout",
          "text": [
            "9/9 - 0s - loss: 0.0604 - accuracy: 0.9783 - val_loss: 0.3546 - val_accuracy: 0.9896 - 109ms/epoch - 12ms/step\n",
            "Epoch 299/450\n"
          ]
        },
        {
          "output_type": "stream",
          "name": "stderr",
          "text": [
            "WARNING:tensorflow:Can save best model only with val_acc available, skipping.\n"
          ]
        },
        {
          "output_type": "stream",
          "name": "stdout",
          "text": [
            "9/9 - 0s - loss: 0.0854 - accuracy: 0.9765 - val_loss: 0.3810 - val_accuracy: 0.9896 - 99ms/epoch - 11ms/step\n",
            "Epoch 300/450\n"
          ]
        },
        {
          "output_type": "stream",
          "name": "stderr",
          "text": [
            "WARNING:tensorflow:Can save best model only with val_acc available, skipping.\n"
          ]
        },
        {
          "output_type": "stream",
          "name": "stdout",
          "text": [
            "9/9 - 0s - loss: 0.1027 - accuracy: 0.9639 - val_loss: 0.4420 - val_accuracy: 0.9896 - 96ms/epoch - 11ms/step\n",
            "Epoch 301/450\n"
          ]
        },
        {
          "output_type": "stream",
          "name": "stderr",
          "text": [
            "WARNING:tensorflow:Can save best model only with val_acc available, skipping.\n"
          ]
        },
        {
          "output_type": "stream",
          "name": "stdout",
          "text": [
            "9/9 - 0s - loss: 0.0919 - accuracy: 0.9675 - val_loss: 0.5596 - val_accuracy: 0.9896 - 126ms/epoch - 14ms/step\n",
            "Epoch 302/450\n"
          ]
        },
        {
          "output_type": "stream",
          "name": "stderr",
          "text": [
            "WARNING:tensorflow:Can save best model only with val_acc available, skipping.\n"
          ]
        },
        {
          "output_type": "stream",
          "name": "stdout",
          "text": [
            "9/9 - 0s - loss: 0.0503 - accuracy: 0.9838 - val_loss: 0.5780 - val_accuracy: 0.9896 - 88ms/epoch - 10ms/step\n",
            "Epoch 303/450\n"
          ]
        },
        {
          "output_type": "stream",
          "name": "stderr",
          "text": [
            "WARNING:tensorflow:Can save best model only with val_acc available, skipping.\n"
          ]
        },
        {
          "output_type": "stream",
          "name": "stdout",
          "text": [
            "9/9 - 0s - loss: 0.0719 - accuracy: 0.9693 - val_loss: 0.5731 - val_accuracy: 0.9792 - 90ms/epoch - 10ms/step\n",
            "Epoch 304/450\n"
          ]
        },
        {
          "output_type": "stream",
          "name": "stderr",
          "text": [
            "WARNING:tensorflow:Can save best model only with val_acc available, skipping.\n"
          ]
        },
        {
          "output_type": "stream",
          "name": "stdout",
          "text": [
            "9/9 - 0s - loss: 0.0952 - accuracy: 0.9675 - val_loss: 0.4462 - val_accuracy: 0.9792 - 94ms/epoch - 10ms/step\n",
            "Epoch 305/450\n"
          ]
        },
        {
          "output_type": "stream",
          "name": "stderr",
          "text": [
            "WARNING:tensorflow:Can save best model only with val_acc available, skipping.\n"
          ]
        },
        {
          "output_type": "stream",
          "name": "stdout",
          "text": [
            "9/9 - 0s - loss: 0.0640 - accuracy: 0.9783 - val_loss: 0.4708 - val_accuracy: 0.9896 - 87ms/epoch - 10ms/step\n",
            "Epoch 306/450\n"
          ]
        },
        {
          "output_type": "stream",
          "name": "stderr",
          "text": [
            "WARNING:tensorflow:Can save best model only with val_acc available, skipping.\n"
          ]
        },
        {
          "output_type": "stream",
          "name": "stdout",
          "text": [
            "9/9 - 0s - loss: 0.0794 - accuracy: 0.9657 - val_loss: 0.4784 - val_accuracy: 0.9896 - 99ms/epoch - 11ms/step\n",
            "Epoch 307/450\n"
          ]
        },
        {
          "output_type": "stream",
          "name": "stderr",
          "text": [
            "WARNING:tensorflow:Can save best model only with val_acc available, skipping.\n"
          ]
        },
        {
          "output_type": "stream",
          "name": "stdout",
          "text": [
            "9/9 - 0s - loss: 0.0888 - accuracy: 0.9747 - val_loss: 0.4247 - val_accuracy: 0.9896 - 84ms/epoch - 9ms/step\n",
            "Epoch 308/450\n"
          ]
        },
        {
          "output_type": "stream",
          "name": "stderr",
          "text": [
            "WARNING:tensorflow:Can save best model only with val_acc available, skipping.\n"
          ]
        },
        {
          "output_type": "stream",
          "name": "stdout",
          "text": [
            "9/9 - 0s - loss: 0.0586 - accuracy: 0.9765 - val_loss: 0.2940 - val_accuracy: 0.9896 - 106ms/epoch - 12ms/step\n",
            "Epoch 309/450\n"
          ]
        },
        {
          "output_type": "stream",
          "name": "stderr",
          "text": [
            "WARNING:tensorflow:Can save best model only with val_acc available, skipping.\n"
          ]
        },
        {
          "output_type": "stream",
          "name": "stdout",
          "text": [
            "9/9 - 0s - loss: 0.0590 - accuracy: 0.9747 - val_loss: 0.2696 - val_accuracy: 0.9896 - 102ms/epoch - 11ms/step\n",
            "Epoch 310/450\n"
          ]
        },
        {
          "output_type": "stream",
          "name": "stderr",
          "text": [
            "WARNING:tensorflow:Can save best model only with val_acc available, skipping.\n"
          ]
        },
        {
          "output_type": "stream",
          "name": "stdout",
          "text": [
            "9/9 - 0s - loss: 0.0771 - accuracy: 0.9729 - val_loss: 0.2628 - val_accuracy: 0.9896 - 101ms/epoch - 11ms/step\n",
            "Epoch 311/450\n"
          ]
        },
        {
          "output_type": "stream",
          "name": "stderr",
          "text": [
            "WARNING:tensorflow:Can save best model only with val_acc available, skipping.\n"
          ]
        },
        {
          "output_type": "stream",
          "name": "stdout",
          "text": [
            "9/9 - 0s - loss: 0.0501 - accuracy: 0.9819 - val_loss: 0.2819 - val_accuracy: 0.9896 - 111ms/epoch - 12ms/step\n",
            "Epoch 312/450\n"
          ]
        },
        {
          "output_type": "stream",
          "name": "stderr",
          "text": [
            "WARNING:tensorflow:Can save best model only with val_acc available, skipping.\n"
          ]
        },
        {
          "output_type": "stream",
          "name": "stdout",
          "text": [
            "9/9 - 0s - loss: 0.0576 - accuracy: 0.9801 - val_loss: 0.3620 - val_accuracy: 0.9896 - 100ms/epoch - 11ms/step\n",
            "Epoch 313/450\n"
          ]
        },
        {
          "output_type": "stream",
          "name": "stderr",
          "text": [
            "WARNING:tensorflow:Can save best model only with val_acc available, skipping.\n"
          ]
        },
        {
          "output_type": "stream",
          "name": "stdout",
          "text": [
            "9/9 - 0s - loss: 0.0620 - accuracy: 0.9801 - val_loss: 0.3637 - val_accuracy: 0.9792 - 91ms/epoch - 10ms/step\n",
            "Epoch 314/450\n"
          ]
        },
        {
          "output_type": "stream",
          "name": "stderr",
          "text": [
            "WARNING:tensorflow:Can save best model only with val_acc available, skipping.\n"
          ]
        },
        {
          "output_type": "stream",
          "name": "stdout",
          "text": [
            "9/9 - 0s - loss: 0.0674 - accuracy: 0.9765 - val_loss: 0.3699 - val_accuracy: 0.9896 - 89ms/epoch - 10ms/step\n",
            "Epoch 315/450\n"
          ]
        },
        {
          "output_type": "stream",
          "name": "stderr",
          "text": [
            "WARNING:tensorflow:Can save best model only with val_acc available, skipping.\n"
          ]
        },
        {
          "output_type": "stream",
          "name": "stdout",
          "text": [
            "9/9 - 0s - loss: 0.0884 - accuracy: 0.9657 - val_loss: 0.5041 - val_accuracy: 0.9896 - 97ms/epoch - 11ms/step\n",
            "Epoch 316/450\n"
          ]
        },
        {
          "output_type": "stream",
          "name": "stderr",
          "text": [
            "WARNING:tensorflow:Can save best model only with val_acc available, skipping.\n"
          ]
        },
        {
          "output_type": "stream",
          "name": "stdout",
          "text": [
            "9/9 - 0s - loss: 0.0651 - accuracy: 0.9747 - val_loss: 0.5650 - val_accuracy: 0.9896 - 104ms/epoch - 12ms/step\n",
            "Epoch 317/450\n"
          ]
        },
        {
          "output_type": "stream",
          "name": "stderr",
          "text": [
            "WARNING:tensorflow:Can save best model only with val_acc available, skipping.\n"
          ]
        },
        {
          "output_type": "stream",
          "name": "stdout",
          "text": [
            "9/9 - 0s - loss: 0.0630 - accuracy: 0.9765 - val_loss: 0.5548 - val_accuracy: 0.9896 - 89ms/epoch - 10ms/step\n",
            "Epoch 318/450\n"
          ]
        },
        {
          "output_type": "stream",
          "name": "stderr",
          "text": [
            "WARNING:tensorflow:Can save best model only with val_acc available, skipping.\n"
          ]
        },
        {
          "output_type": "stream",
          "name": "stdout",
          "text": [
            "9/9 - 0s - loss: 0.0581 - accuracy: 0.9783 - val_loss: 0.6477 - val_accuracy: 0.9896 - 92ms/epoch - 10ms/step\n",
            "Epoch 319/450\n"
          ]
        },
        {
          "output_type": "stream",
          "name": "stderr",
          "text": [
            "WARNING:tensorflow:Can save best model only with val_acc available, skipping.\n"
          ]
        },
        {
          "output_type": "stream",
          "name": "stdout",
          "text": [
            "9/9 - 0s - loss: 0.0793 - accuracy: 0.9729 - val_loss: 0.7008 - val_accuracy: 0.9896 - 91ms/epoch - 10ms/step\n",
            "Epoch 320/450\n"
          ]
        },
        {
          "output_type": "stream",
          "name": "stderr",
          "text": [
            "WARNING:tensorflow:Can save best model only with val_acc available, skipping.\n"
          ]
        },
        {
          "output_type": "stream",
          "name": "stdout",
          "text": [
            "9/9 - 0s - loss: 0.0661 - accuracy: 0.9783 - val_loss: 0.6354 - val_accuracy: 0.9896 - 105ms/epoch - 12ms/step\n",
            "Epoch 321/450\n"
          ]
        },
        {
          "output_type": "stream",
          "name": "stderr",
          "text": [
            "WARNING:tensorflow:Can save best model only with val_acc available, skipping.\n"
          ]
        },
        {
          "output_type": "stream",
          "name": "stdout",
          "text": [
            "9/9 - 0s - loss: 0.0586 - accuracy: 0.9819 - val_loss: 0.4003 - val_accuracy: 0.9896 - 91ms/epoch - 10ms/step\n",
            "Epoch 322/450\n"
          ]
        },
        {
          "output_type": "stream",
          "name": "stderr",
          "text": [
            "WARNING:tensorflow:Can save best model only with val_acc available, skipping.\n"
          ]
        },
        {
          "output_type": "stream",
          "name": "stdout",
          "text": [
            "9/9 - 0s - loss: 0.0837 - accuracy: 0.9693 - val_loss: 0.2745 - val_accuracy: 0.9896 - 102ms/epoch - 11ms/step\n",
            "Epoch 323/450\n"
          ]
        },
        {
          "output_type": "stream",
          "name": "stderr",
          "text": [
            "WARNING:tensorflow:Can save best model only with val_acc available, skipping.\n"
          ]
        },
        {
          "output_type": "stream",
          "name": "stdout",
          "text": [
            "9/9 - 0s - loss: 0.0697 - accuracy: 0.9747 - val_loss: 0.2791 - val_accuracy: 0.9896 - 94ms/epoch - 10ms/step\n",
            "Epoch 324/450\n"
          ]
        },
        {
          "output_type": "stream",
          "name": "stderr",
          "text": [
            "WARNING:tensorflow:Can save best model only with val_acc available, skipping.\n"
          ]
        },
        {
          "output_type": "stream",
          "name": "stdout",
          "text": [
            "9/9 - 0s - loss: 0.0747 - accuracy: 0.9693 - val_loss: 0.3266 - val_accuracy: 0.9896 - 105ms/epoch - 12ms/step\n",
            "Epoch 325/450\n"
          ]
        },
        {
          "output_type": "stream",
          "name": "stderr",
          "text": [
            "WARNING:tensorflow:Can save best model only with val_acc available, skipping.\n"
          ]
        },
        {
          "output_type": "stream",
          "name": "stdout",
          "text": [
            "9/9 - 0s - loss: 0.0870 - accuracy: 0.9675 - val_loss: 0.4169 - val_accuracy: 0.9896 - 91ms/epoch - 10ms/step\n",
            "Epoch 326/450\n"
          ]
        },
        {
          "output_type": "stream",
          "name": "stderr",
          "text": [
            "WARNING:tensorflow:Can save best model only with val_acc available, skipping.\n"
          ]
        },
        {
          "output_type": "stream",
          "name": "stdout",
          "text": [
            "9/9 - 0s - loss: 0.0439 - accuracy: 0.9910 - val_loss: 0.4811 - val_accuracy: 0.9896 - 100ms/epoch - 11ms/step\n",
            "Epoch 327/450\n"
          ]
        },
        {
          "output_type": "stream",
          "name": "stderr",
          "text": [
            "WARNING:tensorflow:Can save best model only with val_acc available, skipping.\n"
          ]
        },
        {
          "output_type": "stream",
          "name": "stdout",
          "text": [
            "9/9 - 0s - loss: 0.0769 - accuracy: 0.9747 - val_loss: 0.5194 - val_accuracy: 0.9896 - 91ms/epoch - 10ms/step\n",
            "Epoch 328/450\n"
          ]
        },
        {
          "output_type": "stream",
          "name": "stderr",
          "text": [
            "WARNING:tensorflow:Can save best model only with val_acc available, skipping.\n"
          ]
        },
        {
          "output_type": "stream",
          "name": "stdout",
          "text": [
            "9/9 - 0s - loss: 0.0442 - accuracy: 0.9838 - val_loss: 0.4825 - val_accuracy: 0.9896 - 92ms/epoch - 10ms/step\n",
            "Epoch 329/450\n"
          ]
        },
        {
          "output_type": "stream",
          "name": "stderr",
          "text": [
            "WARNING:tensorflow:Can save best model only with val_acc available, skipping.\n"
          ]
        },
        {
          "output_type": "stream",
          "name": "stdout",
          "text": [
            "9/9 - 0s - loss: 0.0438 - accuracy: 0.9892 - val_loss: 0.4441 - val_accuracy: 0.9896 - 103ms/epoch - 11ms/step\n",
            "Epoch 330/450\n"
          ]
        },
        {
          "output_type": "stream",
          "name": "stderr",
          "text": [
            "WARNING:tensorflow:Can save best model only with val_acc available, skipping.\n"
          ]
        },
        {
          "output_type": "stream",
          "name": "stdout",
          "text": [
            "9/9 - 0s - loss: 0.0502 - accuracy: 0.9801 - val_loss: 0.3914 - val_accuracy: 0.9896 - 94ms/epoch - 10ms/step\n",
            "Epoch 331/450\n"
          ]
        },
        {
          "output_type": "stream",
          "name": "stderr",
          "text": [
            "WARNING:tensorflow:Can save best model only with val_acc available, skipping.\n"
          ]
        },
        {
          "output_type": "stream",
          "name": "stdout",
          "text": [
            "9/9 - 0s - loss: 0.0848 - accuracy: 0.9711 - val_loss: 0.4913 - val_accuracy: 0.9896 - 89ms/epoch - 10ms/step\n",
            "Epoch 332/450\n"
          ]
        },
        {
          "output_type": "stream",
          "name": "stderr",
          "text": [
            "WARNING:tensorflow:Can save best model only with val_acc available, skipping.\n"
          ]
        },
        {
          "output_type": "stream",
          "name": "stdout",
          "text": [
            "9/9 - 0s - loss: 0.0599 - accuracy: 0.9747 - val_loss: 0.5437 - val_accuracy: 0.9896 - 105ms/epoch - 12ms/step\n",
            "Epoch 333/450\n"
          ]
        },
        {
          "output_type": "stream",
          "name": "stderr",
          "text": [
            "WARNING:tensorflow:Can save best model only with val_acc available, skipping.\n"
          ]
        },
        {
          "output_type": "stream",
          "name": "stdout",
          "text": [
            "9/9 - 0s - loss: 0.0766 - accuracy: 0.9765 - val_loss: 0.4144 - val_accuracy: 0.9896 - 101ms/epoch - 11ms/step\n",
            "Epoch 334/450\n"
          ]
        },
        {
          "output_type": "stream",
          "name": "stderr",
          "text": [
            "WARNING:tensorflow:Can save best model only with val_acc available, skipping.\n"
          ]
        },
        {
          "output_type": "stream",
          "name": "stdout",
          "text": [
            "9/9 - 0s - loss: 0.1028 - accuracy: 0.9711 - val_loss: 0.2869 - val_accuracy: 0.9896 - 102ms/epoch - 11ms/step\n",
            "Epoch 335/450\n"
          ]
        },
        {
          "output_type": "stream",
          "name": "stderr",
          "text": [
            "WARNING:tensorflow:Can save best model only with val_acc available, skipping.\n"
          ]
        },
        {
          "output_type": "stream",
          "name": "stdout",
          "text": [
            "9/9 - 0s - loss: 0.0660 - accuracy: 0.9801 - val_loss: 0.2689 - val_accuracy: 0.9896 - 86ms/epoch - 10ms/step\n",
            "Epoch 336/450\n"
          ]
        },
        {
          "output_type": "stream",
          "name": "stderr",
          "text": [
            "WARNING:tensorflow:Can save best model only with val_acc available, skipping.\n"
          ]
        },
        {
          "output_type": "stream",
          "name": "stdout",
          "text": [
            "9/9 - 0s - loss: 0.0942 - accuracy: 0.9729 - val_loss: 0.1739 - val_accuracy: 0.9896 - 96ms/epoch - 11ms/step\n",
            "Epoch 337/450\n"
          ]
        },
        {
          "output_type": "stream",
          "name": "stderr",
          "text": [
            "WARNING:tensorflow:Can save best model only with val_acc available, skipping.\n"
          ]
        },
        {
          "output_type": "stream",
          "name": "stdout",
          "text": [
            "9/9 - 0s - loss: 0.0736 - accuracy: 0.9765 - val_loss: 0.1766 - val_accuracy: 0.9896 - 100ms/epoch - 11ms/step\n",
            "Epoch 338/450\n"
          ]
        },
        {
          "output_type": "stream",
          "name": "stderr",
          "text": [
            "WARNING:tensorflow:Can save best model only with val_acc available, skipping.\n"
          ]
        },
        {
          "output_type": "stream",
          "name": "stdout",
          "text": [
            "9/9 - 0s - loss: 0.0498 - accuracy: 0.9892 - val_loss: 0.4610 - val_accuracy: 0.9896 - 89ms/epoch - 10ms/step\n",
            "Epoch 339/450\n"
          ]
        },
        {
          "output_type": "stream",
          "name": "stderr",
          "text": [
            "WARNING:tensorflow:Can save best model only with val_acc available, skipping.\n"
          ]
        },
        {
          "output_type": "stream",
          "name": "stdout",
          "text": [
            "9/9 - 0s - loss: 0.0787 - accuracy: 0.9675 - val_loss: 0.4884 - val_accuracy: 0.9896 - 107ms/epoch - 12ms/step\n",
            "Epoch 340/450\n"
          ]
        },
        {
          "output_type": "stream",
          "name": "stderr",
          "text": [
            "WARNING:tensorflow:Can save best model only with val_acc available, skipping.\n"
          ]
        },
        {
          "output_type": "stream",
          "name": "stdout",
          "text": [
            "9/9 - 0s - loss: 0.1075 - accuracy: 0.9603 - val_loss: 0.3859 - val_accuracy: 0.9792 - 119ms/epoch - 13ms/step\n",
            "Epoch 341/450\n"
          ]
        },
        {
          "output_type": "stream",
          "name": "stderr",
          "text": [
            "WARNING:tensorflow:Can save best model only with val_acc available, skipping.\n"
          ]
        },
        {
          "output_type": "stream",
          "name": "stdout",
          "text": [
            "9/9 - 0s - loss: 0.0717 - accuracy: 0.9729 - val_loss: 0.3186 - val_accuracy: 0.9896 - 95ms/epoch - 11ms/step\n",
            "Epoch 342/450\n"
          ]
        },
        {
          "output_type": "stream",
          "name": "stderr",
          "text": [
            "WARNING:tensorflow:Can save best model only with val_acc available, skipping.\n"
          ]
        },
        {
          "output_type": "stream",
          "name": "stdout",
          "text": [
            "9/9 - 0s - loss: 0.0504 - accuracy: 0.9838 - val_loss: 0.2383 - val_accuracy: 0.9792 - 95ms/epoch - 11ms/step\n",
            "Epoch 343/450\n"
          ]
        },
        {
          "output_type": "stream",
          "name": "stderr",
          "text": [
            "WARNING:tensorflow:Can save best model only with val_acc available, skipping.\n"
          ]
        },
        {
          "output_type": "stream",
          "name": "stdout",
          "text": [
            "9/9 - 0s - loss: 0.0800 - accuracy: 0.9729 - val_loss: 0.1404 - val_accuracy: 0.9896 - 110ms/epoch - 12ms/step\n",
            "Epoch 344/450\n"
          ]
        },
        {
          "output_type": "stream",
          "name": "stderr",
          "text": [
            "WARNING:tensorflow:Can save best model only with val_acc available, skipping.\n"
          ]
        },
        {
          "output_type": "stream",
          "name": "stdout",
          "text": [
            "9/9 - 0s - loss: 0.0653 - accuracy: 0.9729 - val_loss: 0.1267 - val_accuracy: 0.9896 - 95ms/epoch - 11ms/step\n",
            "Epoch 345/450\n"
          ]
        },
        {
          "output_type": "stream",
          "name": "stderr",
          "text": [
            "WARNING:tensorflow:Can save best model only with val_acc available, skipping.\n"
          ]
        },
        {
          "output_type": "stream",
          "name": "stdout",
          "text": [
            "9/9 - 0s - loss: 0.0336 - accuracy: 0.9892 - val_loss: 0.1319 - val_accuracy: 0.9896 - 95ms/epoch - 11ms/step\n",
            "Epoch 346/450\n"
          ]
        },
        {
          "output_type": "stream",
          "name": "stderr",
          "text": [
            "WARNING:tensorflow:Can save best model only with val_acc available, skipping.\n"
          ]
        },
        {
          "output_type": "stream",
          "name": "stdout",
          "text": [
            "9/9 - 0s - loss: 0.0523 - accuracy: 0.9856 - val_loss: 0.1694 - val_accuracy: 0.9896 - 98ms/epoch - 11ms/step\n",
            "Epoch 347/450\n"
          ]
        },
        {
          "output_type": "stream",
          "name": "stderr",
          "text": [
            "WARNING:tensorflow:Can save best model only with val_acc available, skipping.\n"
          ]
        },
        {
          "output_type": "stream",
          "name": "stdout",
          "text": [
            "9/9 - 0s - loss: 0.0497 - accuracy: 0.9819 - val_loss: 0.2040 - val_accuracy: 0.9896 - 92ms/epoch - 10ms/step\n",
            "Epoch 348/450\n"
          ]
        },
        {
          "output_type": "stream",
          "name": "stderr",
          "text": [
            "WARNING:tensorflow:Can save best model only with val_acc available, skipping.\n"
          ]
        },
        {
          "output_type": "stream",
          "name": "stdout",
          "text": [
            "9/9 - 0s - loss: 0.0534 - accuracy: 0.9801 - val_loss: 0.2762 - val_accuracy: 0.9896 - 104ms/epoch - 12ms/step\n",
            "Epoch 349/450\n"
          ]
        },
        {
          "output_type": "stream",
          "name": "stderr",
          "text": [
            "WARNING:tensorflow:Can save best model only with val_acc available, skipping.\n"
          ]
        },
        {
          "output_type": "stream",
          "name": "stdout",
          "text": [
            "9/9 - 0s - loss: 0.0615 - accuracy: 0.9783 - val_loss: 0.2492 - val_accuracy: 0.9896 - 101ms/epoch - 11ms/step\n",
            "Epoch 350/450\n"
          ]
        },
        {
          "output_type": "stream",
          "name": "stderr",
          "text": [
            "WARNING:tensorflow:Can save best model only with val_acc available, skipping.\n"
          ]
        },
        {
          "output_type": "stream",
          "name": "stdout",
          "text": [
            "9/9 - 0s - loss: 0.0772 - accuracy: 0.9765 - val_loss: 0.3014 - val_accuracy: 0.9896 - 90ms/epoch - 10ms/step\n",
            "Epoch 351/450\n"
          ]
        },
        {
          "output_type": "stream",
          "name": "stderr",
          "text": [
            "WARNING:tensorflow:Can save best model only with val_acc available, skipping.\n"
          ]
        },
        {
          "output_type": "stream",
          "name": "stdout",
          "text": [
            "9/9 - 0s - loss: 0.0640 - accuracy: 0.9783 - val_loss: 0.3714 - val_accuracy: 0.9896 - 117ms/epoch - 13ms/step\n",
            "Epoch 352/450\n"
          ]
        },
        {
          "output_type": "stream",
          "name": "stderr",
          "text": [
            "WARNING:tensorflow:Can save best model only with val_acc available, skipping.\n"
          ]
        },
        {
          "output_type": "stream",
          "name": "stdout",
          "text": [
            "9/9 - 0s - loss: 0.0593 - accuracy: 0.9838 - val_loss: 0.3155 - val_accuracy: 0.9896 - 128ms/epoch - 14ms/step\n",
            "Epoch 353/450\n"
          ]
        },
        {
          "output_type": "stream",
          "name": "stderr",
          "text": [
            "WARNING:tensorflow:Can save best model only with val_acc available, skipping.\n"
          ]
        },
        {
          "output_type": "stream",
          "name": "stdout",
          "text": [
            "9/9 - 0s - loss: 0.0671 - accuracy: 0.9856 - val_loss: 0.1969 - val_accuracy: 0.9896 - 177ms/epoch - 20ms/step\n",
            "Epoch 354/450\n"
          ]
        },
        {
          "output_type": "stream",
          "name": "stderr",
          "text": [
            "WARNING:tensorflow:Can save best model only with val_acc available, skipping.\n"
          ]
        },
        {
          "output_type": "stream",
          "name": "stdout",
          "text": [
            "9/9 - 0s - loss: 0.0397 - accuracy: 0.9928 - val_loss: 0.1560 - val_accuracy: 0.9792 - 120ms/epoch - 13ms/step\n",
            "Epoch 355/450\n"
          ]
        },
        {
          "output_type": "stream",
          "name": "stderr",
          "text": [
            "WARNING:tensorflow:Can save best model only with val_acc available, skipping.\n"
          ]
        },
        {
          "output_type": "stream",
          "name": "stdout",
          "text": [
            "9/9 - 0s - loss: 0.0478 - accuracy: 0.9838 - val_loss: 0.1225 - val_accuracy: 0.9896 - 115ms/epoch - 13ms/step\n",
            "Epoch 356/450\n"
          ]
        },
        {
          "output_type": "stream",
          "name": "stderr",
          "text": [
            "WARNING:tensorflow:Can save best model only with val_acc available, skipping.\n"
          ]
        },
        {
          "output_type": "stream",
          "name": "stdout",
          "text": [
            "9/9 - 0s - loss: 0.0611 - accuracy: 0.9711 - val_loss: 0.1582 - val_accuracy: 0.9896 - 112ms/epoch - 12ms/step\n",
            "Epoch 357/450\n"
          ]
        },
        {
          "output_type": "stream",
          "name": "stderr",
          "text": [
            "WARNING:tensorflow:Can save best model only with val_acc available, skipping.\n"
          ]
        },
        {
          "output_type": "stream",
          "name": "stdout",
          "text": [
            "9/9 - 0s - loss: 0.0553 - accuracy: 0.9801 - val_loss: 0.1731 - val_accuracy: 0.9896 - 127ms/epoch - 14ms/step\n",
            "Epoch 358/450\n"
          ]
        },
        {
          "output_type": "stream",
          "name": "stderr",
          "text": [
            "WARNING:tensorflow:Can save best model only with val_acc available, skipping.\n"
          ]
        },
        {
          "output_type": "stream",
          "name": "stdout",
          "text": [
            "9/9 - 0s - loss: 0.0407 - accuracy: 0.9838 - val_loss: 0.1878 - val_accuracy: 0.9896 - 120ms/epoch - 13ms/step\n",
            "Epoch 359/450\n"
          ]
        },
        {
          "output_type": "stream",
          "name": "stderr",
          "text": [
            "WARNING:tensorflow:Can save best model only with val_acc available, skipping.\n"
          ]
        },
        {
          "output_type": "stream",
          "name": "stdout",
          "text": [
            "9/9 - 0s - loss: 0.0603 - accuracy: 0.9838 - val_loss: 0.1692 - val_accuracy: 0.9896 - 119ms/epoch - 13ms/step\n",
            "Epoch 360/450\n"
          ]
        },
        {
          "output_type": "stream",
          "name": "stderr",
          "text": [
            "WARNING:tensorflow:Can save best model only with val_acc available, skipping.\n"
          ]
        },
        {
          "output_type": "stream",
          "name": "stdout",
          "text": [
            "9/9 - 0s - loss: 0.0365 - accuracy: 0.9874 - val_loss: 0.1961 - val_accuracy: 0.9896 - 114ms/epoch - 13ms/step\n",
            "Epoch 361/450\n"
          ]
        },
        {
          "output_type": "stream",
          "name": "stderr",
          "text": [
            "WARNING:tensorflow:Can save best model only with val_acc available, skipping.\n"
          ]
        },
        {
          "output_type": "stream",
          "name": "stdout",
          "text": [
            "9/9 - 0s - loss: 0.0596 - accuracy: 0.9783 - val_loss: 0.2023 - val_accuracy: 0.9896 - 119ms/epoch - 13ms/step\n",
            "Epoch 362/450\n"
          ]
        },
        {
          "output_type": "stream",
          "name": "stderr",
          "text": [
            "WARNING:tensorflow:Can save best model only with val_acc available, skipping.\n"
          ]
        },
        {
          "output_type": "stream",
          "name": "stdout",
          "text": [
            "9/9 - 0s - loss: 0.0427 - accuracy: 0.9910 - val_loss: 0.1601 - val_accuracy: 0.9896 - 112ms/epoch - 12ms/step\n",
            "Epoch 363/450\n"
          ]
        },
        {
          "output_type": "stream",
          "name": "stderr",
          "text": [
            "WARNING:tensorflow:Can save best model only with val_acc available, skipping.\n"
          ]
        },
        {
          "output_type": "stream",
          "name": "stdout",
          "text": [
            "9/9 - 0s - loss: 0.0547 - accuracy: 0.9765 - val_loss: 0.1228 - val_accuracy: 0.9896 - 110ms/epoch - 12ms/step\n",
            "Epoch 364/450\n"
          ]
        },
        {
          "output_type": "stream",
          "name": "stderr",
          "text": [
            "WARNING:tensorflow:Can save best model only with val_acc available, skipping.\n"
          ]
        },
        {
          "output_type": "stream",
          "name": "stdout",
          "text": [
            "9/9 - 0s - loss: 0.0731 - accuracy: 0.9747 - val_loss: 0.1427 - val_accuracy: 0.9896 - 109ms/epoch - 12ms/step\n",
            "Epoch 365/450\n"
          ]
        },
        {
          "output_type": "stream",
          "name": "stderr",
          "text": [
            "WARNING:tensorflow:Can save best model only with val_acc available, skipping.\n"
          ]
        },
        {
          "output_type": "stream",
          "name": "stdout",
          "text": [
            "9/9 - 0s - loss: 0.0545 - accuracy: 0.9819 - val_loss: 0.1941 - val_accuracy: 0.9896 - 109ms/epoch - 12ms/step\n",
            "Epoch 366/450\n"
          ]
        },
        {
          "output_type": "stream",
          "name": "stderr",
          "text": [
            "WARNING:tensorflow:Can save best model only with val_acc available, skipping.\n"
          ]
        },
        {
          "output_type": "stream",
          "name": "stdout",
          "text": [
            "9/9 - 0s - loss: 0.0689 - accuracy: 0.9729 - val_loss: 0.1972 - val_accuracy: 0.9896 - 120ms/epoch - 13ms/step\n",
            "Epoch 367/450\n"
          ]
        },
        {
          "output_type": "stream",
          "name": "stderr",
          "text": [
            "WARNING:tensorflow:Can save best model only with val_acc available, skipping.\n"
          ]
        },
        {
          "output_type": "stream",
          "name": "stdout",
          "text": [
            "9/9 - 0s - loss: 0.0611 - accuracy: 0.9801 - val_loss: 0.1956 - val_accuracy: 0.9896 - 129ms/epoch - 14ms/step\n",
            "Epoch 368/450\n"
          ]
        },
        {
          "output_type": "stream",
          "name": "stderr",
          "text": [
            "WARNING:tensorflow:Can save best model only with val_acc available, skipping.\n"
          ]
        },
        {
          "output_type": "stream",
          "name": "stdout",
          "text": [
            "9/9 - 0s - loss: 0.0703 - accuracy: 0.9765 - val_loss: 0.1753 - val_accuracy: 0.9896 - 122ms/epoch - 14ms/step\n",
            "Epoch 369/450\n"
          ]
        },
        {
          "output_type": "stream",
          "name": "stderr",
          "text": [
            "WARNING:tensorflow:Can save best model only with val_acc available, skipping.\n"
          ]
        },
        {
          "output_type": "stream",
          "name": "stdout",
          "text": [
            "9/9 - 0s - loss: 0.0551 - accuracy: 0.9838 - val_loss: 0.1782 - val_accuracy: 0.9896 - 116ms/epoch - 13ms/step\n",
            "Epoch 370/450\n"
          ]
        },
        {
          "output_type": "stream",
          "name": "stderr",
          "text": [
            "WARNING:tensorflow:Can save best model only with val_acc available, skipping.\n"
          ]
        },
        {
          "output_type": "stream",
          "name": "stdout",
          "text": [
            "9/9 - 0s - loss: 0.0654 - accuracy: 0.9729 - val_loss: 0.1465 - val_accuracy: 0.9896 - 125ms/epoch - 14ms/step\n",
            "Epoch 371/450\n"
          ]
        },
        {
          "output_type": "stream",
          "name": "stderr",
          "text": [
            "WARNING:tensorflow:Can save best model only with val_acc available, skipping.\n"
          ]
        },
        {
          "output_type": "stream",
          "name": "stdout",
          "text": [
            "9/9 - 0s - loss: 0.0769 - accuracy: 0.9765 - val_loss: 0.1847 - val_accuracy: 0.9896 - 107ms/epoch - 12ms/step\n",
            "Epoch 372/450\n"
          ]
        },
        {
          "output_type": "stream",
          "name": "stderr",
          "text": [
            "WARNING:tensorflow:Can save best model only with val_acc available, skipping.\n"
          ]
        },
        {
          "output_type": "stream",
          "name": "stdout",
          "text": [
            "9/9 - 0s - loss: 0.0467 - accuracy: 0.9801 - val_loss: 0.2632 - val_accuracy: 0.9792 - 87ms/epoch - 10ms/step\n",
            "Epoch 373/450\n"
          ]
        },
        {
          "output_type": "stream",
          "name": "stderr",
          "text": [
            "WARNING:tensorflow:Can save best model only with val_acc available, skipping.\n"
          ]
        },
        {
          "output_type": "stream",
          "name": "stdout",
          "text": [
            "9/9 - 0s - loss: 0.0305 - accuracy: 0.9910 - val_loss: 0.2313 - val_accuracy: 0.9896 - 108ms/epoch - 12ms/step\n",
            "Epoch 374/450\n"
          ]
        },
        {
          "output_type": "stream",
          "name": "stderr",
          "text": [
            "WARNING:tensorflow:Can save best model only with val_acc available, skipping.\n"
          ]
        },
        {
          "output_type": "stream",
          "name": "stdout",
          "text": [
            "9/9 - 0s - loss: 0.0453 - accuracy: 0.9819 - val_loss: 0.2222 - val_accuracy: 0.9896 - 86ms/epoch - 10ms/step\n",
            "Epoch 375/450\n"
          ]
        },
        {
          "output_type": "stream",
          "name": "stderr",
          "text": [
            "WARNING:tensorflow:Can save best model only with val_acc available, skipping.\n"
          ]
        },
        {
          "output_type": "stream",
          "name": "stdout",
          "text": [
            "9/9 - 0s - loss: 0.0419 - accuracy: 0.9838 - val_loss: 0.2399 - val_accuracy: 0.9792 - 98ms/epoch - 11ms/step\n",
            "Epoch 376/450\n"
          ]
        },
        {
          "output_type": "stream",
          "name": "stderr",
          "text": [
            "WARNING:tensorflow:Can save best model only with val_acc available, skipping.\n"
          ]
        },
        {
          "output_type": "stream",
          "name": "stdout",
          "text": [
            "9/9 - 0s - loss: 0.0515 - accuracy: 0.9801 - val_loss: 0.1921 - val_accuracy: 0.9896 - 116ms/epoch - 13ms/step\n",
            "Epoch 377/450\n"
          ]
        },
        {
          "output_type": "stream",
          "name": "stderr",
          "text": [
            "WARNING:tensorflow:Can save best model only with val_acc available, skipping.\n"
          ]
        },
        {
          "output_type": "stream",
          "name": "stdout",
          "text": [
            "9/9 - 0s - loss: 0.0409 - accuracy: 0.9819 - val_loss: 0.1835 - val_accuracy: 0.9896 - 90ms/epoch - 10ms/step\n",
            "Epoch 378/450\n"
          ]
        },
        {
          "output_type": "stream",
          "name": "stderr",
          "text": [
            "WARNING:tensorflow:Can save best model only with val_acc available, skipping.\n"
          ]
        },
        {
          "output_type": "stream",
          "name": "stdout",
          "text": [
            "9/9 - 0s - loss: 0.0743 - accuracy: 0.9801 - val_loss: 0.2481 - val_accuracy: 0.9896 - 98ms/epoch - 11ms/step\n",
            "Epoch 379/450\n"
          ]
        },
        {
          "output_type": "stream",
          "name": "stderr",
          "text": [
            "WARNING:tensorflow:Can save best model only with val_acc available, skipping.\n"
          ]
        },
        {
          "output_type": "stream",
          "name": "stdout",
          "text": [
            "9/9 - 0s - loss: 0.0407 - accuracy: 0.9910 - val_loss: 0.3238 - val_accuracy: 0.9896 - 90ms/epoch - 10ms/step\n",
            "Epoch 380/450\n"
          ]
        },
        {
          "output_type": "stream",
          "name": "stderr",
          "text": [
            "WARNING:tensorflow:Can save best model only with val_acc available, skipping.\n"
          ]
        },
        {
          "output_type": "stream",
          "name": "stdout",
          "text": [
            "9/9 - 0s - loss: 0.0380 - accuracy: 0.9838 - val_loss: 0.3500 - val_accuracy: 0.9792 - 87ms/epoch - 10ms/step\n",
            "Epoch 381/450\n"
          ]
        },
        {
          "output_type": "stream",
          "name": "stderr",
          "text": [
            "WARNING:tensorflow:Can save best model only with val_acc available, skipping.\n"
          ]
        },
        {
          "output_type": "stream",
          "name": "stdout",
          "text": [
            "9/9 - 0s - loss: 0.0542 - accuracy: 0.9819 - val_loss: 0.3607 - val_accuracy: 0.9896 - 105ms/epoch - 12ms/step\n",
            "Epoch 382/450\n"
          ]
        },
        {
          "output_type": "stream",
          "name": "stderr",
          "text": [
            "WARNING:tensorflow:Can save best model only with val_acc available, skipping.\n"
          ]
        },
        {
          "output_type": "stream",
          "name": "stdout",
          "text": [
            "9/9 - 0s - loss: 0.0378 - accuracy: 0.9910 - val_loss: 0.3577 - val_accuracy: 0.9896 - 101ms/epoch - 11ms/step\n",
            "Epoch 383/450\n"
          ]
        },
        {
          "output_type": "stream",
          "name": "stderr",
          "text": [
            "WARNING:tensorflow:Can save best model only with val_acc available, skipping.\n"
          ]
        },
        {
          "output_type": "stream",
          "name": "stdout",
          "text": [
            "9/9 - 0s - loss: 0.0244 - accuracy: 0.9928 - val_loss: 0.2693 - val_accuracy: 0.9896 - 103ms/epoch - 11ms/step\n",
            "Epoch 384/450\n"
          ]
        },
        {
          "output_type": "stream",
          "name": "stderr",
          "text": [
            "WARNING:tensorflow:Can save best model only with val_acc available, skipping.\n"
          ]
        },
        {
          "output_type": "stream",
          "name": "stdout",
          "text": [
            "9/9 - 0s - loss: 0.0453 - accuracy: 0.9874 - val_loss: 0.2438 - val_accuracy: 0.9896 - 96ms/epoch - 11ms/step\n",
            "Epoch 385/450\n"
          ]
        },
        {
          "output_type": "stream",
          "name": "stderr",
          "text": [
            "WARNING:tensorflow:Can save best model only with val_acc available, skipping.\n"
          ]
        },
        {
          "output_type": "stream",
          "name": "stdout",
          "text": [
            "9/9 - 0s - loss: 0.0511 - accuracy: 0.9838 - val_loss: 0.2261 - val_accuracy: 0.9896 - 104ms/epoch - 12ms/step\n",
            "Epoch 386/450\n"
          ]
        },
        {
          "output_type": "stream",
          "name": "stderr",
          "text": [
            "WARNING:tensorflow:Can save best model only with val_acc available, skipping.\n"
          ]
        },
        {
          "output_type": "stream",
          "name": "stdout",
          "text": [
            "9/9 - 0s - loss: 0.0521 - accuracy: 0.9819 - val_loss: 0.2240 - val_accuracy: 0.9896 - 98ms/epoch - 11ms/step\n",
            "Epoch 387/450\n"
          ]
        },
        {
          "output_type": "stream",
          "name": "stderr",
          "text": [
            "WARNING:tensorflow:Can save best model only with val_acc available, skipping.\n"
          ]
        },
        {
          "output_type": "stream",
          "name": "stdout",
          "text": [
            "9/9 - 0s - loss: 0.0504 - accuracy: 0.9838 - val_loss: 0.2377 - val_accuracy: 0.9896 - 86ms/epoch - 10ms/step\n",
            "Epoch 388/450\n"
          ]
        },
        {
          "output_type": "stream",
          "name": "stderr",
          "text": [
            "WARNING:tensorflow:Can save best model only with val_acc available, skipping.\n"
          ]
        },
        {
          "output_type": "stream",
          "name": "stdout",
          "text": [
            "9/9 - 0s - loss: 0.0605 - accuracy: 0.9729 - val_loss: 0.2977 - val_accuracy: 0.9896 - 90ms/epoch - 10ms/step\n",
            "Epoch 389/450\n"
          ]
        },
        {
          "output_type": "stream",
          "name": "stderr",
          "text": [
            "WARNING:tensorflow:Can save best model only with val_acc available, skipping.\n"
          ]
        },
        {
          "output_type": "stream",
          "name": "stdout",
          "text": [
            "9/9 - 0s - loss: 0.3601 - accuracy: 0.9729 - val_loss: 0.2820 - val_accuracy: 0.9896 - 101ms/epoch - 11ms/step\n",
            "Epoch 390/450\n"
          ]
        },
        {
          "output_type": "stream",
          "name": "stderr",
          "text": [
            "WARNING:tensorflow:Can save best model only with val_acc available, skipping.\n"
          ]
        },
        {
          "output_type": "stream",
          "name": "stdout",
          "text": [
            "9/9 - 0s - loss: 0.0675 - accuracy: 0.9765 - val_loss: 0.3616 - val_accuracy: 0.9792 - 97ms/epoch - 11ms/step\n",
            "Epoch 391/450\n"
          ]
        },
        {
          "output_type": "stream",
          "name": "stderr",
          "text": [
            "WARNING:tensorflow:Can save best model only with val_acc available, skipping.\n"
          ]
        },
        {
          "output_type": "stream",
          "name": "stdout",
          "text": [
            "9/9 - 0s - loss: 0.0998 - accuracy: 0.9621 - val_loss: 0.2514 - val_accuracy: 0.9896 - 88ms/epoch - 10ms/step\n",
            "Epoch 392/450\n"
          ]
        },
        {
          "output_type": "stream",
          "name": "stderr",
          "text": [
            "WARNING:tensorflow:Can save best model only with val_acc available, skipping.\n"
          ]
        },
        {
          "output_type": "stream",
          "name": "stdout",
          "text": [
            "9/9 - 0s - loss: 0.0534 - accuracy: 0.9874 - val_loss: 0.2186 - val_accuracy: 0.9792 - 86ms/epoch - 10ms/step\n",
            "Epoch 393/450\n"
          ]
        },
        {
          "output_type": "stream",
          "name": "stderr",
          "text": [
            "WARNING:tensorflow:Can save best model only with val_acc available, skipping.\n"
          ]
        },
        {
          "output_type": "stream",
          "name": "stdout",
          "text": [
            "9/9 - 0s - loss: 0.0560 - accuracy: 0.9729 - val_loss: 0.1958 - val_accuracy: 0.9896 - 90ms/epoch - 10ms/step\n",
            "Epoch 394/450\n"
          ]
        },
        {
          "output_type": "stream",
          "name": "stderr",
          "text": [
            "WARNING:tensorflow:Can save best model only with val_acc available, skipping.\n"
          ]
        },
        {
          "output_type": "stream",
          "name": "stdout",
          "text": [
            "9/9 - 0s - loss: 0.0764 - accuracy: 0.9765 - val_loss: 0.1022 - val_accuracy: 0.9896 - 105ms/epoch - 12ms/step\n",
            "Epoch 395/450\n"
          ]
        },
        {
          "output_type": "stream",
          "name": "stderr",
          "text": [
            "WARNING:tensorflow:Can save best model only with val_acc available, skipping.\n"
          ]
        },
        {
          "output_type": "stream",
          "name": "stdout",
          "text": [
            "9/9 - 0s - loss: 0.0535 - accuracy: 0.9874 - val_loss: 0.0925 - val_accuracy: 0.9896 - 98ms/epoch - 11ms/step\n",
            "Epoch 396/450\n"
          ]
        },
        {
          "output_type": "stream",
          "name": "stderr",
          "text": [
            "WARNING:tensorflow:Can save best model only with val_acc available, skipping.\n"
          ]
        },
        {
          "output_type": "stream",
          "name": "stdout",
          "text": [
            "9/9 - 0s - loss: 0.0483 - accuracy: 0.9856 - val_loss: 0.0928 - val_accuracy: 0.9896 - 101ms/epoch - 11ms/step\n",
            "Epoch 397/450\n"
          ]
        },
        {
          "output_type": "stream",
          "name": "stderr",
          "text": [
            "WARNING:tensorflow:Can save best model only with val_acc available, skipping.\n"
          ]
        },
        {
          "output_type": "stream",
          "name": "stdout",
          "text": [
            "9/9 - 0s - loss: 0.0484 - accuracy: 0.9838 - val_loss: 0.0977 - val_accuracy: 0.9896 - 89ms/epoch - 10ms/step\n",
            "Epoch 398/450\n"
          ]
        },
        {
          "output_type": "stream",
          "name": "stderr",
          "text": [
            "WARNING:tensorflow:Can save best model only with val_acc available, skipping.\n"
          ]
        },
        {
          "output_type": "stream",
          "name": "stdout",
          "text": [
            "9/9 - 0s - loss: 0.0428 - accuracy: 0.9838 - val_loss: 0.0990 - val_accuracy: 0.9896 - 101ms/epoch - 11ms/step\n",
            "Epoch 399/450\n"
          ]
        },
        {
          "output_type": "stream",
          "name": "stderr",
          "text": [
            "WARNING:tensorflow:Can save best model only with val_acc available, skipping.\n"
          ]
        },
        {
          "output_type": "stream",
          "name": "stdout",
          "text": [
            "9/9 - 0s - loss: 0.0701 - accuracy: 0.9783 - val_loss: 0.1199 - val_accuracy: 0.9896 - 102ms/epoch - 11ms/step\n",
            "Epoch 400/450\n"
          ]
        },
        {
          "output_type": "stream",
          "name": "stderr",
          "text": [
            "WARNING:tensorflow:Can save best model only with val_acc available, skipping.\n"
          ]
        },
        {
          "output_type": "stream",
          "name": "stdout",
          "text": [
            "9/9 - 0s - loss: 0.0652 - accuracy: 0.9801 - val_loss: 0.0842 - val_accuracy: 0.9896 - 107ms/epoch - 12ms/step\n",
            "Epoch 401/450\n"
          ]
        },
        {
          "output_type": "stream",
          "name": "stderr",
          "text": [
            "WARNING:tensorflow:Can save best model only with val_acc available, skipping.\n"
          ]
        },
        {
          "output_type": "stream",
          "name": "stdout",
          "text": [
            "9/9 - 0s - loss: 0.0724 - accuracy: 0.9783 - val_loss: 0.0709 - val_accuracy: 0.9896 - 102ms/epoch - 11ms/step\n",
            "Epoch 402/450\n"
          ]
        },
        {
          "output_type": "stream",
          "name": "stderr",
          "text": [
            "WARNING:tensorflow:Can save best model only with val_acc available, skipping.\n"
          ]
        },
        {
          "output_type": "stream",
          "name": "stdout",
          "text": [
            "9/9 - 0s - loss: 0.0659 - accuracy: 0.9765 - val_loss: 0.1487 - val_accuracy: 0.9792 - 100ms/epoch - 11ms/step\n",
            "Epoch 403/450\n"
          ]
        },
        {
          "output_type": "stream",
          "name": "stderr",
          "text": [
            "WARNING:tensorflow:Can save best model only with val_acc available, skipping.\n"
          ]
        },
        {
          "output_type": "stream",
          "name": "stdout",
          "text": [
            "9/9 - 0s - loss: 0.0460 - accuracy: 0.9874 - val_loss: 0.1870 - val_accuracy: 0.9792 - 101ms/epoch - 11ms/step\n",
            "Epoch 404/450\n"
          ]
        },
        {
          "output_type": "stream",
          "name": "stderr",
          "text": [
            "WARNING:tensorflow:Can save best model only with val_acc available, skipping.\n"
          ]
        },
        {
          "output_type": "stream",
          "name": "stdout",
          "text": [
            "9/9 - 0s - loss: 0.1078 - accuracy: 0.9747 - val_loss: 0.0766 - val_accuracy: 0.9792 - 93ms/epoch - 10ms/step\n",
            "Epoch 405/450\n"
          ]
        },
        {
          "output_type": "stream",
          "name": "stderr",
          "text": [
            "WARNING:tensorflow:Can save best model only with val_acc available, skipping.\n"
          ]
        },
        {
          "output_type": "stream",
          "name": "stdout",
          "text": [
            "9/9 - 0s - loss: 0.0545 - accuracy: 0.9856 - val_loss: 0.0421 - val_accuracy: 0.9792 - 95ms/epoch - 11ms/step\n",
            "Epoch 406/450\n"
          ]
        },
        {
          "output_type": "stream",
          "name": "stderr",
          "text": [
            "WARNING:tensorflow:Can save best model only with val_acc available, skipping.\n"
          ]
        },
        {
          "output_type": "stream",
          "name": "stdout",
          "text": [
            "9/9 - 0s - loss: 0.0477 - accuracy: 0.9838 - val_loss: 0.0221 - val_accuracy: 0.9896 - 91ms/epoch - 10ms/step\n",
            "Epoch 407/450\n"
          ]
        },
        {
          "output_type": "stream",
          "name": "stderr",
          "text": [
            "WARNING:tensorflow:Can save best model only with val_acc available, skipping.\n"
          ]
        },
        {
          "output_type": "stream",
          "name": "stdout",
          "text": [
            "9/9 - 0s - loss: 0.0441 - accuracy: 0.9819 - val_loss: 0.0074 - val_accuracy: 1.0000 - 92ms/epoch - 10ms/step\n",
            "Epoch 408/450\n"
          ]
        },
        {
          "output_type": "stream",
          "name": "stderr",
          "text": [
            "WARNING:tensorflow:Can save best model only with val_acc available, skipping.\n"
          ]
        },
        {
          "output_type": "stream",
          "name": "stdout",
          "text": [
            "9/9 - 0s - loss: 0.0470 - accuracy: 0.9819 - val_loss: 0.0234 - val_accuracy: 0.9896 - 90ms/epoch - 10ms/step\n",
            "Epoch 409/450\n"
          ]
        },
        {
          "output_type": "stream",
          "name": "stderr",
          "text": [
            "WARNING:tensorflow:Can save best model only with val_acc available, skipping.\n"
          ]
        },
        {
          "output_type": "stream",
          "name": "stdout",
          "text": [
            "9/9 - 0s - loss: 0.0631 - accuracy: 0.9838 - val_loss: 0.0110 - val_accuracy: 0.9896 - 107ms/epoch - 12ms/step\n",
            "Epoch 410/450\n"
          ]
        },
        {
          "output_type": "stream",
          "name": "stderr",
          "text": [
            "WARNING:tensorflow:Can save best model only with val_acc available, skipping.\n"
          ]
        },
        {
          "output_type": "stream",
          "name": "stdout",
          "text": [
            "9/9 - 0s - loss: 0.0540 - accuracy: 0.9801 - val_loss: 0.0112 - val_accuracy: 0.9896 - 97ms/epoch - 11ms/step\n",
            "Epoch 411/450\n"
          ]
        },
        {
          "output_type": "stream",
          "name": "stderr",
          "text": [
            "WARNING:tensorflow:Can save best model only with val_acc available, skipping.\n"
          ]
        },
        {
          "output_type": "stream",
          "name": "stdout",
          "text": [
            "9/9 - 0s - loss: 0.0384 - accuracy: 0.9856 - val_loss: 0.0070 - val_accuracy: 1.0000 - 86ms/epoch - 10ms/step\n",
            "Epoch 412/450\n"
          ]
        },
        {
          "output_type": "stream",
          "name": "stderr",
          "text": [
            "WARNING:tensorflow:Can save best model only with val_acc available, skipping.\n"
          ]
        },
        {
          "output_type": "stream",
          "name": "stdout",
          "text": [
            "9/9 - 0s - loss: 0.0440 - accuracy: 0.9856 - val_loss: 0.0125 - val_accuracy: 0.9896 - 88ms/epoch - 10ms/step\n",
            "Epoch 413/450\n"
          ]
        },
        {
          "output_type": "stream",
          "name": "stderr",
          "text": [
            "WARNING:tensorflow:Can save best model only with val_acc available, skipping.\n"
          ]
        },
        {
          "output_type": "stream",
          "name": "stdout",
          "text": [
            "9/9 - 0s - loss: 0.0541 - accuracy: 0.9838 - val_loss: 0.0247 - val_accuracy: 0.9896 - 100ms/epoch - 11ms/step\n",
            "Epoch 414/450\n"
          ]
        },
        {
          "output_type": "stream",
          "name": "stderr",
          "text": [
            "WARNING:tensorflow:Can save best model only with val_acc available, skipping.\n"
          ]
        },
        {
          "output_type": "stream",
          "name": "stdout",
          "text": [
            "9/9 - 0s - loss: 0.0485 - accuracy: 0.9838 - val_loss: 0.0603 - val_accuracy: 0.9792 - 105ms/epoch - 12ms/step\n",
            "Epoch 415/450\n"
          ]
        },
        {
          "output_type": "stream",
          "name": "stderr",
          "text": [
            "WARNING:tensorflow:Can save best model only with val_acc available, skipping.\n"
          ]
        },
        {
          "output_type": "stream",
          "name": "stdout",
          "text": [
            "9/9 - 0s - loss: 0.0415 - accuracy: 0.9892 - val_loss: 0.0738 - val_accuracy: 0.9792 - 87ms/epoch - 10ms/step\n",
            "Epoch 416/450\n"
          ]
        },
        {
          "output_type": "stream",
          "name": "stderr",
          "text": [
            "WARNING:tensorflow:Can save best model only with val_acc available, skipping.\n"
          ]
        },
        {
          "output_type": "stream",
          "name": "stdout",
          "text": [
            "9/9 - 0s - loss: 0.0625 - accuracy: 0.9783 - val_loss: 0.0214 - val_accuracy: 0.9896 - 105ms/epoch - 12ms/step\n",
            "Epoch 417/450\n"
          ]
        },
        {
          "output_type": "stream",
          "name": "stderr",
          "text": [
            "WARNING:tensorflow:Can save best model only with val_acc available, skipping.\n"
          ]
        },
        {
          "output_type": "stream",
          "name": "stdout",
          "text": [
            "9/9 - 0s - loss: 0.0304 - accuracy: 0.9928 - val_loss: 0.0088 - val_accuracy: 1.0000 - 89ms/epoch - 10ms/step\n",
            "Epoch 418/450\n"
          ]
        },
        {
          "output_type": "stream",
          "name": "stderr",
          "text": [
            "WARNING:tensorflow:Can save best model only with val_acc available, skipping.\n"
          ]
        },
        {
          "output_type": "stream",
          "name": "stdout",
          "text": [
            "9/9 - 0s - loss: 0.0453 - accuracy: 0.9856 - val_loss: 0.0062 - val_accuracy: 1.0000 - 100ms/epoch - 11ms/step\n",
            "Epoch 419/450\n"
          ]
        },
        {
          "output_type": "stream",
          "name": "stderr",
          "text": [
            "WARNING:tensorflow:Can save best model only with val_acc available, skipping.\n"
          ]
        },
        {
          "output_type": "stream",
          "name": "stdout",
          "text": [
            "9/9 - 0s - loss: 0.0563 - accuracy: 0.9856 - val_loss: 0.0479 - val_accuracy: 0.9896 - 103ms/epoch - 11ms/step\n",
            "Epoch 420/450\n"
          ]
        },
        {
          "output_type": "stream",
          "name": "stderr",
          "text": [
            "WARNING:tensorflow:Can save best model only with val_acc available, skipping.\n"
          ]
        },
        {
          "output_type": "stream",
          "name": "stdout",
          "text": [
            "9/9 - 0s - loss: 0.0694 - accuracy: 0.9729 - val_loss: 0.0513 - val_accuracy: 0.9896 - 92ms/epoch - 10ms/step\n",
            "Epoch 421/450\n"
          ]
        },
        {
          "output_type": "stream",
          "name": "stderr",
          "text": [
            "WARNING:tensorflow:Can save best model only with val_acc available, skipping.\n"
          ]
        },
        {
          "output_type": "stream",
          "name": "stdout",
          "text": [
            "9/9 - 0s - loss: 0.0675 - accuracy: 0.9819 - val_loss: 0.0117 - val_accuracy: 1.0000 - 89ms/epoch - 10ms/step\n",
            "Epoch 422/450\n"
          ]
        },
        {
          "output_type": "stream",
          "name": "stderr",
          "text": [
            "WARNING:tensorflow:Can save best model only with val_acc available, skipping.\n"
          ]
        },
        {
          "output_type": "stream",
          "name": "stdout",
          "text": [
            "9/9 - 0s - loss: 0.0336 - accuracy: 0.9874 - val_loss: 0.0221 - val_accuracy: 0.9896 - 111ms/epoch - 12ms/step\n",
            "Epoch 423/450\n"
          ]
        },
        {
          "output_type": "stream",
          "name": "stderr",
          "text": [
            "WARNING:tensorflow:Can save best model only with val_acc available, skipping.\n"
          ]
        },
        {
          "output_type": "stream",
          "name": "stdout",
          "text": [
            "9/9 - 0s - loss: 0.0615 - accuracy: 0.9838 - val_loss: 0.0241 - val_accuracy: 0.9896 - 98ms/epoch - 11ms/step\n",
            "Epoch 424/450\n"
          ]
        },
        {
          "output_type": "stream",
          "name": "stderr",
          "text": [
            "WARNING:tensorflow:Can save best model only with val_acc available, skipping.\n"
          ]
        },
        {
          "output_type": "stream",
          "name": "stdout",
          "text": [
            "9/9 - 0s - loss: 0.0569 - accuracy: 0.9801 - val_loss: 0.0322 - val_accuracy: 0.9896 - 103ms/epoch - 11ms/step\n",
            "Epoch 425/450\n"
          ]
        },
        {
          "output_type": "stream",
          "name": "stderr",
          "text": [
            "WARNING:tensorflow:Can save best model only with val_acc available, skipping.\n"
          ]
        },
        {
          "output_type": "stream",
          "name": "stdout",
          "text": [
            "9/9 - 0s - loss: 0.0412 - accuracy: 0.9819 - val_loss: 0.0360 - val_accuracy: 0.9792 - 95ms/epoch - 11ms/step\n",
            "Epoch 426/450\n"
          ]
        },
        {
          "output_type": "stream",
          "name": "stderr",
          "text": [
            "WARNING:tensorflow:Can save best model only with val_acc available, skipping.\n"
          ]
        },
        {
          "output_type": "stream",
          "name": "stdout",
          "text": [
            "9/9 - 0s - loss: 0.0376 - accuracy: 0.9874 - val_loss: 0.0368 - val_accuracy: 0.9896 - 87ms/epoch - 10ms/step\n",
            "Epoch 427/450\n"
          ]
        },
        {
          "output_type": "stream",
          "name": "stderr",
          "text": [
            "WARNING:tensorflow:Can save best model only with val_acc available, skipping.\n"
          ]
        },
        {
          "output_type": "stream",
          "name": "stdout",
          "text": [
            "9/9 - 0s - loss: 0.0470 - accuracy: 0.9801 - val_loss: 0.0016 - val_accuracy: 1.0000 - 90ms/epoch - 10ms/step\n",
            "Epoch 428/450\n"
          ]
        },
        {
          "output_type": "stream",
          "name": "stderr",
          "text": [
            "WARNING:tensorflow:Can save best model only with val_acc available, skipping.\n"
          ]
        },
        {
          "output_type": "stream",
          "name": "stdout",
          "text": [
            "9/9 - 0s - loss: 0.0506 - accuracy: 0.9856 - val_loss: 0.0014 - val_accuracy: 1.0000 - 104ms/epoch - 12ms/step\n",
            "Epoch 429/450\n"
          ]
        },
        {
          "output_type": "stream",
          "name": "stderr",
          "text": [
            "WARNING:tensorflow:Can save best model only with val_acc available, skipping.\n"
          ]
        },
        {
          "output_type": "stream",
          "name": "stdout",
          "text": [
            "9/9 - 0s - loss: 0.0479 - accuracy: 0.9838 - val_loss: 0.0049 - val_accuracy: 1.0000 - 93ms/epoch - 10ms/step\n",
            "Epoch 430/450\n"
          ]
        },
        {
          "output_type": "stream",
          "name": "stderr",
          "text": [
            "WARNING:tensorflow:Can save best model only with val_acc available, skipping.\n"
          ]
        },
        {
          "output_type": "stream",
          "name": "stdout",
          "text": [
            "9/9 - 0s - loss: 0.0399 - accuracy: 0.9892 - val_loss: 0.0016 - val_accuracy: 1.0000 - 105ms/epoch - 12ms/step\n",
            "Epoch 431/450\n"
          ]
        },
        {
          "output_type": "stream",
          "name": "stderr",
          "text": [
            "WARNING:tensorflow:Can save best model only with val_acc available, skipping.\n"
          ]
        },
        {
          "output_type": "stream",
          "name": "stdout",
          "text": [
            "9/9 - 0s - loss: 0.0348 - accuracy: 0.9910 - val_loss: 0.0032 - val_accuracy: 1.0000 - 104ms/epoch - 12ms/step\n",
            "Epoch 432/450\n"
          ]
        },
        {
          "output_type": "stream",
          "name": "stderr",
          "text": [
            "WARNING:tensorflow:Can save best model only with val_acc available, skipping.\n"
          ]
        },
        {
          "output_type": "stream",
          "name": "stdout",
          "text": [
            "9/9 - 0s - loss: 0.0468 - accuracy: 0.9874 - val_loss: 0.0120 - val_accuracy: 0.9896 - 92ms/epoch - 10ms/step\n",
            "Epoch 433/450\n"
          ]
        },
        {
          "output_type": "stream",
          "name": "stderr",
          "text": [
            "WARNING:tensorflow:Can save best model only with val_acc available, skipping.\n"
          ]
        },
        {
          "output_type": "stream",
          "name": "stdout",
          "text": [
            "9/9 - 0s - loss: 0.0261 - accuracy: 0.9928 - val_loss: 0.0362 - val_accuracy: 0.9896 - 98ms/epoch - 11ms/step\n",
            "Epoch 434/450\n"
          ]
        },
        {
          "output_type": "stream",
          "name": "stderr",
          "text": [
            "WARNING:tensorflow:Can save best model only with val_acc available, skipping.\n"
          ]
        },
        {
          "output_type": "stream",
          "name": "stdout",
          "text": [
            "9/9 - 0s - loss: 0.0320 - accuracy: 0.9910 - val_loss: 0.0345 - val_accuracy: 0.9896 - 89ms/epoch - 10ms/step\n",
            "Epoch 435/450\n"
          ]
        },
        {
          "output_type": "stream",
          "name": "stderr",
          "text": [
            "WARNING:tensorflow:Can save best model only with val_acc available, skipping.\n"
          ]
        },
        {
          "output_type": "stream",
          "name": "stdout",
          "text": [
            "9/9 - 0s - loss: 0.0357 - accuracy: 0.9856 - val_loss: 0.0148 - val_accuracy: 0.9896 - 95ms/epoch - 11ms/step\n",
            "Epoch 436/450\n"
          ]
        },
        {
          "output_type": "stream",
          "name": "stderr",
          "text": [
            "WARNING:tensorflow:Can save best model only with val_acc available, skipping.\n"
          ]
        },
        {
          "output_type": "stream",
          "name": "stdout",
          "text": [
            "9/9 - 0s - loss: 0.0431 - accuracy: 0.9874 - val_loss: 0.0013 - val_accuracy: 1.0000 - 103ms/epoch - 11ms/step\n",
            "Epoch 437/450\n"
          ]
        },
        {
          "output_type": "stream",
          "name": "stderr",
          "text": [
            "WARNING:tensorflow:Can save best model only with val_acc available, skipping.\n"
          ]
        },
        {
          "output_type": "stream",
          "name": "stdout",
          "text": [
            "9/9 - 0s - loss: 0.0433 - accuracy: 0.9892 - val_loss: 0.0053 - val_accuracy: 1.0000 - 90ms/epoch - 10ms/step\n",
            "Epoch 438/450\n"
          ]
        },
        {
          "output_type": "stream",
          "name": "stderr",
          "text": [
            "WARNING:tensorflow:Can save best model only with val_acc available, skipping.\n"
          ]
        },
        {
          "output_type": "stream",
          "name": "stdout",
          "text": [
            "9/9 - 0s - loss: 0.0288 - accuracy: 0.9928 - val_loss: 0.0070 - val_accuracy: 1.0000 - 89ms/epoch - 10ms/step\n",
            "Epoch 439/450\n"
          ]
        },
        {
          "output_type": "stream",
          "name": "stderr",
          "text": [
            "WARNING:tensorflow:Can save best model only with val_acc available, skipping.\n"
          ]
        },
        {
          "output_type": "stream",
          "name": "stdout",
          "text": [
            "9/9 - 0s - loss: 0.0401 - accuracy: 0.9874 - val_loss: 0.0011 - val_accuracy: 1.0000 - 91ms/epoch - 10ms/step\n",
            "Epoch 440/450\n"
          ]
        },
        {
          "output_type": "stream",
          "name": "stderr",
          "text": [
            "WARNING:tensorflow:Can save best model only with val_acc available, skipping.\n"
          ]
        },
        {
          "output_type": "stream",
          "name": "stdout",
          "text": [
            "9/9 - 0s - loss: 0.0354 - accuracy: 0.9928 - val_loss: 4.9152e-04 - val_accuracy: 1.0000 - 98ms/epoch - 11ms/step\n",
            "Epoch 441/450\n"
          ]
        },
        {
          "output_type": "stream",
          "name": "stderr",
          "text": [
            "WARNING:tensorflow:Can save best model only with val_acc available, skipping.\n"
          ]
        },
        {
          "output_type": "stream",
          "name": "stdout",
          "text": [
            "9/9 - 0s - loss: 0.0263 - accuracy: 0.9892 - val_loss: 4.8052e-04 - val_accuracy: 1.0000 - 91ms/epoch - 10ms/step\n",
            "Epoch 442/450\n"
          ]
        },
        {
          "output_type": "stream",
          "name": "stderr",
          "text": [
            "WARNING:tensorflow:Can save best model only with val_acc available, skipping.\n"
          ]
        },
        {
          "output_type": "stream",
          "name": "stdout",
          "text": [
            "9/9 - 0s - loss: 0.0267 - accuracy: 0.9910 - val_loss: 5.8713e-04 - val_accuracy: 1.0000 - 99ms/epoch - 11ms/step\n",
            "Epoch 443/450\n"
          ]
        },
        {
          "output_type": "stream",
          "name": "stderr",
          "text": [
            "WARNING:tensorflow:Can save best model only with val_acc available, skipping.\n"
          ]
        },
        {
          "output_type": "stream",
          "name": "stdout",
          "text": [
            "9/9 - 0s - loss: 0.0231 - accuracy: 0.9946 - val_loss: 0.0025 - val_accuracy: 1.0000 - 108ms/epoch - 12ms/step\n",
            "Epoch 444/450\n"
          ]
        },
        {
          "output_type": "stream",
          "name": "stderr",
          "text": [
            "WARNING:tensorflow:Can save best model only with val_acc available, skipping.\n"
          ]
        },
        {
          "output_type": "stream",
          "name": "stdout",
          "text": [
            "9/9 - 0s - loss: 0.0262 - accuracy: 0.9874 - val_loss: 0.0140 - val_accuracy: 0.9896 - 104ms/epoch - 12ms/step\n",
            "Epoch 445/450\n"
          ]
        },
        {
          "output_type": "stream",
          "name": "stderr",
          "text": [
            "WARNING:tensorflow:Can save best model only with val_acc available, skipping.\n"
          ]
        },
        {
          "output_type": "stream",
          "name": "stdout",
          "text": [
            "9/9 - 0s - loss: 0.0273 - accuracy: 0.9892 - val_loss: 3.9323e-04 - val_accuracy: 1.0000 - 94ms/epoch - 10ms/step\n",
            "Epoch 446/450\n"
          ]
        },
        {
          "output_type": "stream",
          "name": "stderr",
          "text": [
            "WARNING:tensorflow:Can save best model only with val_acc available, skipping.\n"
          ]
        },
        {
          "output_type": "stream",
          "name": "stdout",
          "text": [
            "9/9 - 0s - loss: 0.0650 - accuracy: 0.9783 - val_loss: 0.0257 - val_accuracy: 0.9896 - 90ms/epoch - 10ms/step\n",
            "Epoch 447/450\n"
          ]
        },
        {
          "output_type": "stream",
          "name": "stderr",
          "text": [
            "WARNING:tensorflow:Can save best model only with val_acc available, skipping.\n"
          ]
        },
        {
          "output_type": "stream",
          "name": "stdout",
          "text": [
            "9/9 - 0s - loss: 0.0521 - accuracy: 0.9819 - val_loss: 0.1862 - val_accuracy: 0.9792 - 100ms/epoch - 11ms/step\n",
            "Epoch 448/450\n"
          ]
        },
        {
          "output_type": "stream",
          "name": "stderr",
          "text": [
            "WARNING:tensorflow:Can save best model only with val_acc available, skipping.\n"
          ]
        },
        {
          "output_type": "stream",
          "name": "stdout",
          "text": [
            "9/9 - 0s - loss: 0.0507 - accuracy: 0.9783 - val_loss: 0.2085 - val_accuracy: 0.9792 - 99ms/epoch - 11ms/step\n",
            "Epoch 449/450\n"
          ]
        },
        {
          "output_type": "stream",
          "name": "stderr",
          "text": [
            "WARNING:tensorflow:Can save best model only with val_acc available, skipping.\n"
          ]
        },
        {
          "output_type": "stream",
          "name": "stdout",
          "text": [
            "9/9 - 0s - loss: 0.0307 - accuracy: 0.9874 - val_loss: 0.1775 - val_accuracy: 0.9792 - 94ms/epoch - 10ms/step\n",
            "Epoch 450/450\n"
          ]
        },
        {
          "output_type": "stream",
          "name": "stderr",
          "text": [
            "WARNING:tensorflow:Can save best model only with val_acc available, skipping.\n"
          ]
        },
        {
          "output_type": "stream",
          "name": "stdout",
          "text": [
            "9/9 - 0s - loss: 0.0473 - accuracy: 0.9801 - val_loss: 0.1488 - val_accuracy: 0.9896 - 94ms/epoch - 10ms/step\n",
            "############## Training is Done Successfully ###################\n",
            "5/5 - 0s - loss: 0.0169 - accuracy: 0.9930 - 123ms/epoch - 25ms/step\n"
          ]
        },
        {
          "output_type": "stream",
          "name": "stderr",
          "text": [
            "/usr/local/lib/python3.10/dist-packages/keras/src/engine/training.py:3000: UserWarning: You are saving your model as an HDF5 file via `model.save()`. This file format is considered legacy. We recommend using instead the native Keras format, e.g. `model.save('my_model.keras')`.\n",
            "  saving_api.save_model(\n",
            "WARNING:tensorflow:Compiled the loaded model, but the compiled metrics have yet to be built. `model.compile_metrics` will be empty until you train or evaluate the model.\n"
          ]
        },
        {
          "output_type": "stream",
          "name": "stdout",
          "text": [
            "Testing closed accuracy_without_norm: 0.9929577708244324\n"
          ]
        }
      ]
    },
    {
      "cell_type": "code",
      "source": [
        "################## Calculating mean anchor vectors for each class ######################\n",
        "\n",
        "y_train=np.argmax(y_train,axis=1)\n",
        "y_valid=np.argmax(y_valid,axis=1)\n",
        "y_test=np.argmax(y_test,axis=1)\n",
        "\n",
        "txt_O = \"Mean_{Class1:.0f}\"\n",
        "Means={}\n",
        "for i in range(NB_CLASSES):\n",
        "  Means[txt_O.format(Class1=i)]=np.array([0]*NB_CLASSES)\n",
        "\n",
        "\n",
        "\n",
        "tflite_model_predictions = model_penultimate.predict(X_train)\n",
        "\n",
        "\n",
        "print('Shape: ',tflite_model_predictions.shape)\n",
        "count=[0]*NB_CLASSES\n",
        "\n",
        "for i in range(len(tflite_model_predictions)):\n",
        "  k=np.argmax(tflite_model_predictions[i])\n",
        "  if (np.argmax(tflite_model_predictions[i])==y_train[i]):\n",
        "    Means[txt_O.format(Class1=y_train[i])]=Means[txt_O.format(Class1=y_train[i])]+tflite_model_predictions[i]\n",
        "    count[y_train[i]]+=1\n",
        "#print(\"Counts: \",count)\n",
        "\n",
        "Mean_Vectors=[]\n",
        "for i in range(NB_CLASSES):\n",
        "  Means[txt_O.format(Class1=i)]=Means[txt_O.format(Class1=i)]/count[i]\n",
        "  Mean_Vectors.append(Means[txt_O.format(Class1=i)])\n",
        "\n",
        "Mean_vectors=np.array(Mean_Vectors)\n",
        "np.save('/content/temp_variables/Mean_vectors.npy', Mean_vectors, allow_pickle=True)\n",
        "\n",
        "\n",
        "\n",
        "tflite_model_predictions=model_penultimate.predict(X_valid)\n",
        "\n",
        "Mean_Vectors=Mean_vectors\n",
        "\n",
        "print()\n"
      ],
      "metadata": {
        "colab": {
          "base_uri": "https://localhost:8080/"
        },
        "id": "C4_Z_BjLqTeL",
        "outputId": "0212ffac-70c6-4b14-a95e-b5544977c1c8"
      },
      "execution_count": 14,
      "outputs": [
        {
          "output_type": "stream",
          "name": "stdout",
          "text": [
            "18/18 [==============================] - 0s 2ms/step\n",
            "Shape:  (554, 8)\n",
            "3/3 [==============================] - 0s 3ms/step\n",
            "\n"
          ]
        }
      ]
    },
    {
      "cell_type": "code",
      "source": [
        "##################################################################################################\n",
        "print()\n",
        "txt_1 = \"Dist_{Class1:.0f}\"\n",
        "Distances={}\n",
        "for i in range(NB_CLASSES):\n",
        "  Distances[txt_1.format(Class1=i)]=[]\n",
        "\n",
        "for i in range(len(tflite_model_predictions)):\n",
        "  if (y_valid[i]==np.argmax(tflite_model_predictions[i])):\n",
        "    #dist=np.dot(Mean_Vectors[y_valid[i]],tflite_model_predictions[i])\n",
        "    dist = np.linalg.norm(Mean_Vectors[y_valid[i]]-tflite_model_predictions[i])\n",
        "    Distances[txt_1.format(Class1=y_valid[i])].append(dist)\n",
        "\n",
        "#print(Distances)\n",
        "TH=[0]*NB_CLASSES\n",
        "for j in range(NB_CLASSES):\n",
        "  Distances[txt_1.format(Class1=j)].sort()\n",
        "  Dist=Distances[txt_1.format(Class1=j)]\n",
        "  TH[j]=Dist[int(len(Dist)*0.9)]\n",
        "\n",
        "\n",
        "\n",
        "Threasholds_1=np.array(TH)\n",
        "np.save('Threasholds_1.npy',Threasholds_1)\n",
        "\n",
        "print(\"Thresholds for method 1 calculated\")\n",
        "print()\n",
        "##################################################################################################\n",
        "print()\n",
        "txt_1 = \"Dist_{Class1:.0f}\"\n",
        "Distances={}\n",
        "for i in range(NB_CLASSES):\n",
        "  Distances[txt_1.format(Class1=i)]=[]\n",
        "\n",
        "for i in range(len(tflite_model_predictions)):\n",
        "  if (y_valid[i]==np.argmax(tflite_model_predictions[i])):\n",
        "    #dist=np.dot(Mean_Vectors[y_valid[i]],tflite_model_predictions[i])\n",
        "    dist = np.linalg.norm(Mean_Vectors[y_valid[i]]-tflite_model_predictions[i])\n",
        "    Tot=0\n",
        "    for k in range(NB_CLASSES):\n",
        "      if k!=int(y_valid[i]):\n",
        "        #Tot+=np.dot(Mean_Vectors[k],tflite_model_predictions[i])-dist\n",
        "        Tot+=(np.linalg.norm(Mean_Vectors[k]-tflite_model_predictions[i])-dist)\n",
        "    Distances[txt_1.format(Class1=y_valid[i])].append(Tot)\n",
        "\n",
        "#print(Distances)\n",
        "TH=[0]*NB_CLASSES\n",
        "for j in range(NB_CLASSES):\n",
        "  Distances[txt_1.format(Class1=j)].sort()\n",
        "  Dist=Distances[txt_1.format(Class1=j)]\n",
        "  TH[j]=Dist[int(len(Dist)*0.1)]\n",
        "\n",
        "Threasholds_2=np.array(TH)\n",
        "np.save('Threasholds_2.npy',Threasholds_2)\n",
        "\n",
        "print(\"Thresholds for method 2 calculated\")\n",
        "\n",
        "print()\n",
        "##################################################################################################\n",
        "print()\n",
        "txt_1 = \"Dist_{Class1:.0f}\"\n",
        "Distances={}\n",
        "for i in range(NB_CLASSES):\n",
        "  Distances[txt_1.format(Class1=i)]=[]\n",
        "\n",
        "for i in range(len(tflite_model_predictions)):\n",
        "  if (y_valid[i]==np.argmax(tflite_model_predictions[i])):\n",
        "    #dist=np.dot(Mean_Vectors[y_valid[i]],tflite_model_predictions[i])\n",
        "    dist = np.linalg.norm(Mean_Vectors[y_valid[i]]-tflite_model_predictions[i])\n",
        "    Tot=0\n",
        "    for k in range(NB_CLASSES):\n",
        "      if k!=int(y_valid[i]):\n",
        "        #Tot=np.dot(Mean_Vectors[k],tflite_model_predictions[i])-dist\n",
        "        Tot+=np.linalg.norm(Mean_Vectors[k]-tflite_model_predictions[i])\n",
        "    Tot=dist/Tot\n",
        "    Distances[txt_1.format(Class1=y_valid[i])].append(Tot)\n",
        "\n",
        "#print(Distances)\n",
        "TH=[0]*NB_CLASSES\n",
        "for j in range(NB_CLASSES):\n",
        "  Distances[txt_1.format(Class1=j)].sort()\n",
        "  Dist=Distances[txt_1.format(Class1=j)]\n",
        "  TH[j]=Dist[int(len(Dist)*0.9)]\n",
        "\n",
        "Threasholds_3=np.array(TH)\n",
        "np.save('Threasholds_3.npy',Threasholds_3)\n",
        "\n",
        "\n",
        "print(\"Thresholds for method 3 calculated\")"
      ],
      "metadata": {
        "colab": {
          "base_uri": "https://localhost:8080/"
        },
        "id": "PHyDKNSff5T5",
        "outputId": "518745f2-f602-4edf-a9f5-0e8a27cc8c02"
      },
      "execution_count": 15,
      "outputs": [
        {
          "output_type": "stream",
          "name": "stdout",
          "text": [
            "\n",
            "Thresholds for method 1 calculated\n",
            "\n",
            "\n",
            "Thresholds for method 2 calculated\n",
            "\n",
            "\n",
            "Thresholds for method 3 calculated\n"
          ]
        }
      ]
    },
    {
      "cell_type": "code",
      "source": [
        "############################################################################################\n",
        "\n",
        "######################## Evaluating results ##########################\n",
        "dataset_dir=\"/content/dataset/\"\n",
        "X_open = np.load(dataset_dir+'X_open.npy')\n",
        "y__open = np.load(dataset_dir+'y_open.npy')\n",
        "y_open=np.array([NB_CLASSES]*len(y__open))\n",
        "\n",
        "X_open = X_open.astype('float32')\n",
        "y_open = y_open.astype('int8')\n",
        "\n",
        "X_open = X_open[:, :,np.newaxis]\n",
        "\n",
        "tflite_model_predictions = model_penultimate.predict(X_test)\n",
        "tflite_model_predictions_open = model_penultimate.predict(X_open)\n",
        "\n",
        "#############################################################################################################\n",
        "print()\n",
        "print(\"############## Distance Method 1 #################################\")\n",
        "print()\n",
        "prediction_classes = []\n",
        "for i in range(len(tflite_model_predictions)):\n",
        "\n",
        "    d = np.argmax(tflite_model_predictions[i], axis=0)\n",
        "    if np.linalg.norm(tflite_model_predictions[i] - Mean_vectors[d]) > Threasholds_1[d]:\n",
        "        prediction_classes.append(NB_CLASSES)\n",
        "\n",
        "    else:\n",
        "        prediction_classes.append(d)\n",
        "\n",
        "prediction_classes = np.array(prediction_classes)\n",
        "acc_Close = accuracy_score(prediction_classes, y_test)\n",
        "print('Test accuracy Normal model_Closed_set :', acc_Close)\n",
        "\n",
        "\n",
        "prediction_classes_open = []\n",
        "for i in range(len(tflite_model_predictions_open)):\n",
        "\n",
        "    d = np.argmax(tflite_model_predictions_open[i], axis=0)\n",
        "    if np.linalg.norm(tflite_model_predictions_open[i] - Mean_vectors[d]) > Threasholds_1[d]:\n",
        "        prediction_classes_open.append(NB_CLASSES)\n",
        "\n",
        "    else:\n",
        "        prediction_classes_open.append(d)\n",
        "\n",
        "prediction_classes_open = np.array(prediction_classes_open)\n",
        "\n",
        "acc_Open = accuracy_score(prediction_classes_open, y_open)\n",
        "print('Test accuracy Normal model_Open_set :', acc_Open)\n",
        "\n",
        "Matrix = []\n",
        "for i in range(NB_CLASSES + 1):\n",
        "    Matrix.append(np.zeros(NB_CLASSES + 1))\n",
        "\n",
        "for i in range(len(y_test)):\n",
        "    Matrix[y_test[i]][prediction_classes[i]] += 1\n",
        "\n",
        "for i in range(len(y_open)):\n",
        "    Matrix[y_open[i]][prediction_classes_open[i]] += 1\n",
        "\n",
        "#print(Matrix)\n",
        "\n",
        "print()\n",
        "F1_Score = New_F1_Score(Matrix)\n",
        "print(\"Average novel F1_Score: \", F1_Score)\n",
        "\n",
        "print()\n",
        "F1_Score = Micro_F1(Matrix)\n",
        "print(\"Average Micro F1_Score: \", F1_Score)\n",
        "\n",
        "print()\n",
        "F1_Score = Macro_F1(Matrix)\n",
        "print(\"Average Macro F1_Score: \", F1_Score)\n",
        "\n",
        "#############################################################################################################\n",
        "print()\n",
        "print(\"############## Distance Method 2 #################################\")\n",
        "print()\n",
        "prediction_classes = []\n",
        "for i in range(len(tflite_model_predictions)):\n",
        "    d = np.argmax(tflite_model_predictions[i], axis=0)\n",
        "    dist = np.linalg.norm(Mean_vectors[d] - tflite_model_predictions[i])\n",
        "    Tot = 0\n",
        "    for k in range(NB_CLASSES):\n",
        "        if k != d:\n",
        "            Tot += np.linalg.norm(Mean_vectors[k] - tflite_model_predictions[i]) - dist\n",
        "\n",
        "    if Tot < Threasholds_2[d]:\n",
        "        prediction_classes.append(NB_CLASSES)\n",
        "\n",
        "    else:\n",
        "        prediction_classes.append(d)\n",
        "\n",
        "prediction_classes = np.array(prediction_classes)\n",
        "acc_Close = accuracy_score(prediction_classes, y_test)\n",
        "print('Test accuracy Normal model_Closed_set :', acc_Close)\n",
        "\n",
        "prediction_classes_open = []\n",
        "for i in range(len(tflite_model_predictions_open)):\n",
        "    d = np.argmax(tflite_model_predictions_open[i], axis=0)\n",
        "    dist = np.linalg.norm(Mean_vectors[d] - tflite_model_predictions_open[i])\n",
        "    Tot = 0\n",
        "    for k in range(NB_CLASSES):\n",
        "        if k != d:\n",
        "            Tot += np.linalg.norm(Mean_vectors[k] - tflite_model_predictions_open[i]) - dist\n",
        "\n",
        "    if Tot < Threasholds_2[d]:\n",
        "        prediction_classes_open.append(NB_CLASSES)\n",
        "\n",
        "    else:\n",
        "        prediction_classes_open.append(d)\n",
        "\n",
        "prediction_classes_open = np.array(prediction_classes_open)\n",
        "\n",
        "acc_Open = accuracy_score(prediction_classes_open, y_open)\n",
        "print('Test accuracy Normal model_Open_set :', acc_Open)\n",
        "\n",
        "Matrix = []\n",
        "for i in range(NB_CLASSES + 1):\n",
        "    Matrix.append(np.zeros(NB_CLASSES + 1))\n",
        "\n",
        "for i in range(len(y_test)):\n",
        "    Matrix[y_test[i]][prediction_classes[i]] += 1\n",
        "\n",
        "for i in range(len(y_open)):\n",
        "    Matrix[y_open[i]][prediction_classes_open[i]] += 1\n",
        "\n",
        "#print(Matrix)\n",
        "\n",
        "print()\n",
        "F1_Score = New_F1_Score(Matrix)\n",
        "print(\"Average novel F1_Score: \", F1_Score)\n",
        "\n",
        "print()\n",
        "F1_Score = Micro_F1(Matrix)\n",
        "print(\"Average Micro F1_Score: \", F1_Score)\n",
        "\n",
        "print()\n",
        "F1_Score = Macro_F1(Matrix)\n",
        "print(\"Average Macro F1_Score: \", F1_Score)\n",
        "\n",
        "#############################################################################################################\n",
        "print()\n",
        "print(\"############## Distance Method 3 #################################\")\n",
        "print()\n",
        "prediction_classes = []\n",
        "for i in range(len(tflite_model_predictions)):\n",
        "    d = np.argmax(tflite_model_predictions[i], axis=0)\n",
        "    dist = np.linalg.norm(Mean_vectors[d] - tflite_model_predictions[i])\n",
        "    Tot = 0\n",
        "    for k in range(NB_CLASSES):\n",
        "        if k != d:\n",
        "            Tot += np.linalg.norm(Mean_vectors[k] - tflite_model_predictions[i])\n",
        "\n",
        "    Tot = dist / Tot\n",
        "    if Tot > Threasholds_3[d]:\n",
        "        prediction_classes.append(NB_CLASSES)\n",
        "\n",
        "    else:\n",
        "        prediction_classes.append(d)\n",
        "\n",
        "prediction_classes = np.array(prediction_classes)\n",
        "acc_Close = accuracy_score(prediction_classes, y_test)\n",
        "print('Test accuracy Normal model_Closed_set :', acc_Close)\n",
        "\n",
        "prediction_classes_open = []\n",
        "for i in range(len(tflite_model_predictions_open)):\n",
        "    d = np.argmax(tflite_model_predictions_open[i], axis=0)\n",
        "    dist = np.linalg.norm(Mean_vectors[d] - tflite_model_predictions_open[i])\n",
        "    Tot = 0\n",
        "    for k in range(NB_CLASSES):\n",
        "        if k != d:\n",
        "            Tot += np.linalg.norm(Mean_vectors[k] - tflite_model_predictions_open[i])\n",
        "\n",
        "    Tot = dist / Tot\n",
        "    if Tot > Threasholds_3[d]:\n",
        "        prediction_classes_open.append(NB_CLASSES)\n",
        "\n",
        "    else:\n",
        "        prediction_classes_open.append(d)\n",
        "\n",
        "prediction_classes_open = np.array(prediction_classes_open)\n",
        "\n",
        "acc_Open = accuracy_score(prediction_classes_open, y_open)\n",
        "print('Test accuracy Normal model_Open_set :', acc_Open)\n",
        "\n",
        "Matrix = []\n",
        "for i in range(NB_CLASSES + 1):\n",
        "    Matrix.append(np.zeros(NB_CLASSES + 1))\n",
        "\n",
        "for i in range(len(y_test)):\n",
        "    Matrix[y_test[i]][prediction_classes[i]] += 1\n",
        "\n",
        "for i in range(len(y_open)):\n",
        "    Matrix[y_open[i]][prediction_classes_open[i]] += 1\n",
        "\n",
        "#print(Matrix)\n",
        "\n",
        "print()\n",
        "F1_Score = New_F1_Score(Matrix)\n",
        "print(\"Average novel F1_Score: \", F1_Score)\n",
        "\n",
        "print()\n",
        "F1_Score = Micro_F1(Matrix)\n",
        "print(\"Average Micro F1_Score: \", F1_Score)\n",
        "\n",
        "print()\n",
        "F1_Score = Macro_F1(Matrix)\n",
        "print(\"Average Macro F1_Score: \", F1_Score)"
      ],
      "metadata": {
        "colab": {
          "base_uri": "https://localhost:8080/"
        },
        "id": "rcNvdJzUqJ71",
        "outputId": "738c7c42-5863-44e4-b72c-6ae3deb63a99"
      },
      "execution_count": 16,
      "outputs": [
        {
          "output_type": "stream",
          "name": "stdout",
          "text": [
            "5/5 [==============================] - 0s 2ms/step\n",
            "38/38 [==============================] - 0s 2ms/step\n",
            "\n",
            "############## Distance Method 1 #################################\n",
            "\n",
            "Test accuracy Normal model_Closed_set : 0.8380281690140845\n",
            "Test accuracy Normal model_Open_set : 0.8400673400673401\n",
            "\n",
            "Precision:  0.36644049548012964\n",
            "Recall:  0.8946759259259259\n",
            "Average novel F1_Score:  0.5199289794756152\n",
            "\n",
            "Micro Precision:  0.38387096774193546\n",
            "Micro Recall:  0.8380281690140845\n",
            "Average Micro F1_Score:  0.5265486682571071\n",
            "\n",
            "Precision: 0.5768641948329448\n",
            "Recall: 0.8382352941176471\n",
            "Average Macro F1_Score:  0.683411913268745\n",
            "\n",
            "############## Distance Method 2 #################################\n",
            "\n",
            "Test accuracy Normal model_Closed_set : 0.823943661971831\n",
            "Test accuracy Normal model_Open_set : 0.8905723905723906\n",
            "\n",
            "Precision:  0.4794878156521398\n",
            "Recall:  0.866510372264848\n",
            "Average novel F1_Score:  0.6173576848470915\n",
            "\n",
            "Micro Precision:  0.47368421052631576\n",
            "Micro Recall:  0.823943661971831\n",
            "Average Micro F1_Score:  0.601542411816734\n",
            "\n",
            "Precision: 0.7037378008694193\n",
            "Recall: 0.8235294117647058\n",
            "Average Macro F1_Score:  0.7589356578831239\n",
            "\n",
            "############## Distance Method 3 #################################\n",
            "\n",
            "Test accuracy Normal model_Closed_set : 0.8098591549295775\n",
            "Test accuracy Normal model_Open_set : 0.8619528619528619\n",
            "\n",
            "Precision:  0.42345004476888254\n",
            "Recall:  0.8901515151515151\n",
            "Average novel F1_Score:  0.5738950189665797\n",
            "\n",
            "Micro Precision:  0.4121863799283154\n",
            "Micro Recall:  0.8098591549295775\n",
            "Average Micro F1_Score:  0.5463182853157001\n",
            "\n",
            "Precision: 0.6681453365623448\n",
            "Recall: 0.8104575163398693\n",
            "Average Macro F1_Score:  0.7324528088110374\n"
          ]
        }
      ]
    },
    {
      "cell_type": "code",
      "source": [],
      "metadata": {
        "id": "2n3czZw7fn89"
      },
      "execution_count": null,
      "outputs": []
    }
  ]
}